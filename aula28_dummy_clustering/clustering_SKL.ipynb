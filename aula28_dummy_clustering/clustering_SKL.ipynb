{
 "cells": [
  {
   "cell_type": "markdown",
   "metadata": {},
   "source": [
    "# Exemplo muito simples de clustering"
   ]
  },
  {
   "cell_type": "markdown",
   "metadata": {},
   "source": [
    "A técnica de *clustering*, ou *agrupamento*, é um tipo de **aprendizado não supervisionado**. Neste tipo de aprendizado não temos acesso a qual é a variável dependente ou *target*.\n",
    "\n",
    "No *clustering* as amostras são agrupadas por proximidade num espaço $n$-dimensional, em que $n$ é o número de *features*.\n",
    "\n",
    "Para aprender mais veja a seção 10.3 do [Introduction to Statistical Learning](http://faculty.marshall.usc.edu/gareth-james/ISL/ISLR%20Seventh%20Printing.pdf)\n"
   ]
  },
  {
   "cell_type": "markdown",
   "metadata": {},
   "source": [
    " [Este link](http://scikit-learn.org/0.18/auto_examples/cluster/plot_cluster_comparison.html) tem mais informações sobre algoritmos de *clustering* na biblioteca *scikit-learn*."
   ]
  },
  {
   "cell_type": "code",
   "execution_count": null,
   "metadata": {},
   "outputs": [],
   "source": [
    "%matplotlib notebook\n",
    "\n",
    "import matplotlib.pyplot as plt\n",
    "\n",
    "import pandas as pd\n",
    "import numpy as np\n",
    "\n",
    "from scipy.stats import norm\n",
    "from mpl_toolkits.mplot3d import Axes3D\n",
    "\n",
    "from sklearn import cluster, datasets\n",
    "from sklearn.neighbors import kneighbors_graph\n",
    "from sklearn.preprocessing import StandardScaler\n",
    "\n",
    "np.random.seed(42) # Vamos fixar a semente do numpy para os resultados se manterem consistentes\n",
    "\n",
    "\n"
   ]
  },
  {
   "cell_type": "code",
   "execution_count": null,
   "metadata": {},
   "outputs": [],
   "source": [
    "data = pd.read_csv(\"clusters.csv\", index_col=0)"
   ]
  },
  {
   "cell_type": "code",
   "execution_count": null,
   "metadata": {},
   "outputs": [],
   "source": [
    "data.head()"
   ]
  },
  {
   "cell_type": "markdown",
   "metadata": {},
   "source": [
    "## Visualizando os dados de entrada"
   ]
  },
  {
   "cell_type": "code",
   "execution_count": null,
   "metadata": {},
   "outputs": [],
   "source": [
    "plt3d = plt.figure().gca(projection=\"3d\")\n",
    "plt3d.scatter(data.x, data.y, data.z)"
   ]
  },
  {
   "cell_type": "markdown",
   "metadata": {},
   "source": [
    "## Preparando os dados"
   ]
  },
  {
   "cell_type": "markdown",
   "metadata": {},
   "source": [
    "Note que a columa `idx` não será usada, apenas repete o índice. E também que a coluna `type`  já tem a categoria pré-classificada. Não vamos usá-la agora porque não é comum sabermos o tipo `a priori` em algoritmos de clusterização."
   ]
  },
  {
   "cell_type": "code",
   "execution_count": null,
   "metadata": {},
   "outputs": [],
   "source": [
    "dados_entrada = data.loc[:,(\"x\", \"y\", \"z\")]"
   ]
  },
  {
   "cell_type": "markdown",
   "metadata": {},
   "source": [
    "## Usando o clustering"
   ]
  },
  {
   "cell_type": "markdown",
   "metadata": {},
   "source": [
    "Treinando o clusterizador Veja [este exemplo](http://scikit-learn.org/0.18/auto_examples/cluster/plot_cluster_comparison.html) para mais algoritmos de clustering."
   ]
  },
  {
   "cell_type": "code",
   "execution_count": null,
   "metadata": {},
   "outputs": [],
   "source": [
    "three_means = cluster.MiniBatchKMeans(n_clusters=3)"
   ]
  },
  {
   "cell_type": "code",
   "execution_count": null,
   "metadata": {},
   "outputs": [],
   "source": [
    "three_means.fit(dados_entrada)"
   ]
  },
  {
   "cell_type": "markdown",
   "metadata": {},
   "source": [
    "\n",
    "\n",
    "Neste caso já **sabíamos** que seriam 3 clusters. Na prática é comum tentar algumas opções de quantidades de grupos até encontrar uma mais adequada"
   ]
  },
  {
   "cell_type": "markdown",
   "metadata": {},
   "source": [
    "Agora vamos usar o `predict` para ver quais categorias são previstas para cada um dos dados de entrada"
   ]
  },
  {
   "cell_type": "code",
   "execution_count": null,
   "metadata": {},
   "outputs": [],
   "source": [
    "saida = three_means.predict(dados_entrada)"
   ]
  },
  {
   "cell_type": "code",
   "execution_count": null,
   "metadata": {},
   "outputs": [],
   "source": [
    "saida"
   ]
  },
  {
   "cell_type": "markdown",
   "metadata": {},
   "source": [
    "Vamos acrescentar as predições a uma coluna chamada `saida` numa cópia do dataframe original"
   ]
  },
  {
   "cell_type": "code",
   "execution_count": null,
   "metadata": {},
   "outputs": [],
   "source": [
    "conjunto = dados_entrada.copy()"
   ]
  },
  {
   "cell_type": "code",
   "execution_count": null,
   "metadata": {},
   "outputs": [],
   "source": [
    "conjunto[\"saida\"] = saida"
   ]
  },
  {
   "cell_type": "markdown",
   "metadata": {},
   "source": [
    "Agora temos um dataframe com entradas **e** saídas"
   ]
  },
  {
   "cell_type": "code",
   "execution_count": null,
   "metadata": {
    "scrolled": true
   },
   "outputs": [],
   "source": [
    "conjunto.head()"
   ]
  },
  {
   "cell_type": "markdown",
   "metadata": {},
   "source": [
    "Vamos separar baseado nas predições e representar cada categoria com uma cor."
   ]
  },
  {
   "cell_type": "code",
   "execution_count": null,
   "metadata": {},
   "outputs": [],
   "source": [
    "plt3d = plt.figure().gca(projection=\"3d\")\n",
    "grupo0 = conjunto[conjunto.saida==0]\n",
    "grupo1 = conjunto[conjunto.saida==1]\n",
    "grupo2 = conjunto[conjunto.saida==2]\n",
    "\n",
    "plt3d.scatter(grupo0.x, grupo0.y, grupo0.z, color=\"r\")\n",
    "plt3d.scatter(grupo1.x, grupo1.y, grupo1.z, color=\"g\")\n",
    "plt3d.scatter(grupo2.x, grupo2.y, grupo2.z, color=\"b\")\n"
   ]
  },
  {
   "cell_type": "code",
   "execution_count": null,
   "metadata": {},
   "outputs": [],
   "source": []
  }
 ],
 "metadata": {
  "kernelspec": {
   "display_name": "Python 3",
   "language": "python",
   "name": "python3"
  },
  "language_info": {
   "codemirror_mode": {
    "name": "ipython",
    "version": 3
   },
   "file_extension": ".py",
   "mimetype": "text/x-python",
   "name": "python",
   "nbconvert_exporter": "python",
   "pygments_lexer": "ipython3",
   "version": "3.7.3"
  }
 },
 "nbformat": 4,
 "nbformat_minor": 4
}
