{
 "cells": [
  {
   "cell_type": "code",
   "execution_count": null,
   "metadata": {},
   "outputs": [],
   "source": [
    "%matplotlib inline\n",
    "import numpy as np\n",
    "import matplotlib.pyplot as plt\n",
    "from scipy.stats import norm, binom\n",
    "from ipywidgets import interact, FloatSlider"
   ]
  },
  {
   "cell_type": "markdown",
   "metadata": {},
   "source": [
    "# Normal interativa"
   ]
  },
  {
   "cell_type": "markdown",
   "metadata": {},
   "source": [
    "Este notebook demostra como encontrar o valor acumulado entre v1 e v2"
   ]
  },
  {
   "cell_type": "code",
   "execution_count": null,
   "metadata": {},
   "outputs": [],
   "source": [
    "def plot_normal(v1, v2, loc=0, scale=1):\n",
    "    # Garante que a <= b.\n",
    "    if v1 <= v2:\n",
    "        a, b = v1, v2\n",
    "    else:\n",
    "        a, b = v2, v1\n",
    "    \n",
    "    # Cria uma faixa de valores para a variável aleatória x.\n",
    "    x = np.linspace(-5.0, 5.0, 200)\n",
    "\n",
    "    # Calcula a função densidade de probabilidade e a função cumulativa para cada valor de x.\n",
    "    y = norm.pdf(x, loc=loc, scale=scale)\n",
    "    cdf = norm.cdf(x, loc=loc, scale=scale)\n",
    "\n",
    "    # Calcula a área da PDF entre os pontos v1 e v2.\n",
    "    p1 = norm.cdf(a, loc=loc, scale=scale)\n",
    "    p2 = norm.cdf(b, loc=loc, scale=scale)\n",
    "    acumulada = np.round(p2 - p1, decimals=4)\n",
    "\n",
    "    # Desenha a PDF e a cumulativa.\n",
    "    plt.figure(figsize=(13,6))\n",
    "\n",
    "    plt.subplot(1, 2, 1)\n",
    "    plt.plot(x, y)\n",
    "    plt.fill_between(x, y, where=((x > a) & (x < b)))\n",
    "    plt.xlim(-5, 5)\n",
    "    plt.ylim(0.0, 1.5)\n",
    "    plt.title(f'Densidade. Area = {acumulada}')\n",
    "    plt.text(x=a, y=-0.05, s='$a$', color='r')\n",
    "    plt.text(x=b, y=-0.05, s='$b$', color='b')\n",
    "    plt.xlabel('$x$')\n",
    "    plt.ylabel('$f(x)$')\n",
    "\n",
    "    plt.subplot(1, 2, 2)\n",
    "    plt.plot(x, cdf)\n",
    "    plt.plot((a, a), (0, p1), 'r--')\n",
    "    plt.plot((-5, a), (p1, p1), 'r--')\n",
    "    plt.plot((b, b), (0, p2), 'b--')\n",
    "    plt.plot((-5, b), (p2, p2), 'b--')\n",
    "    plt.xlim(-5, 5)\n",
    "    plt.ylim(0.0, 1.0)\n",
    "    plt.title(f'Cumulativa. $F(b) - F(a) = {acumulada}$')\n",
    "    plt.text(x=-4.5, y=p1+0.02, s=f'$F(a) = {p1:.3f}$', color='r')\n",
    "    plt.text(x=-4.5, y=p2+0.02, s=f'$F(b) = {p2:.3f}$', color='b')\n",
    "    plt.xlabel('$x$')\n",
    "    plt.ylabel('$F(x)$')\n",
    "\n",
    "interact(plot_normal, \n",
    "         v1 = FloatSlider(min=-4, max=4, step=0.1, value=-1),\n",
    "         v2 = FloatSlider(min=-4, max=4, step=0.1, value=1),\n",
    "         loc = FloatSlider(min=-2, max=2, step=0.1, value=0),\n",
    "         scale = FloatSlider(min=0.25, max=1.5, step=0.05, value=1.0),\n",
    ");"
   ]
  },
  {
   "cell_type": "code",
   "execution_count": null,
   "metadata": {},
   "outputs": [],
   "source": []
  }
 ],
 "metadata": {
  "kernelspec": {
   "display_name": "Python 3",
   "language": "python",
   "name": "python3"
  },
  "language_info": {
   "codemirror_mode": {
    "name": "ipython",
    "version": 3
   },
   "file_extension": ".py",
   "mimetype": "text/x-python",
   "name": "python",
   "nbconvert_exporter": "python",
   "pygments_lexer": "ipython3",
   "version": "3.7.3"
  }
 },
 "nbformat": 4,
 "nbformat_minor": 2
}
