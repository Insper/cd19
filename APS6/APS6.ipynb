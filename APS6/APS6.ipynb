{
 "cells": [
  {
   "cell_type": "markdown",
   "metadata": {},
   "source": [
    "# APS 6 - Regressão, variáveis aleatórias e tamanho de amostra\n"
   ]
  },
  {
   "cell_type": "markdown",
   "metadata": {},
   "source": [
    "**Nota:** As partes interativas rodam apenas no Jupyter Notebook, não no Jupyter Lab"
   ]
  },
  {
   "cell_type": "markdown",
   "metadata": {},
   "source": [
    "**Digite as respostas no Blackboard**"
   ]
  },
  {
   "cell_type": "code",
   "execution_count": 1,
   "metadata": {},
   "outputs": [],
   "source": [
    "import matplotlib.pyplot as plt\n",
    "import numpy as np\n",
    "import pandas as pd\n",
    "from scipy import stats"
   ]
  },
  {
   "cell_type": "markdown",
   "metadata": {},
   "source": [
    "\n",
    "\n",
    "\n",
    "\n",
    "### Dados para perguntas de 1 a 6\n",
    "\n",
    "*(Montgomery 6-1)*\n",
    "\n",
    "A indústria de *fast food* precisa selecionar materiais biodegradáveis para produzir embalagens mais sustentáveis. É desejável que o material tenha um baixo fator $\\kappa$ de condutividade térmico  (medido em W/mK). \n",
    "\n",
    "Uma abordagem para diminuir o $\\kappa$ é reduzir a densidade do material (medida em $g/cm^3$ )\n",
    "\n",
    "Assuma que é possível ajustar os dados por um modelo de regressão linear.\n",
    "\n",
    "Queremos *condutividade térmica* **em função** da *densidade* .\n",
    "\n",
    "\n",
    "| y: Condutividade térmica (W/mK)| x: Densidade de produto (g/cm3)|\n",
    "|---|---|\n",
    "|0.0480 | 0.1750|\n",
    "|0.0525| 0.2200|\n",
    "|0.0540| 0.2250|\n",
    "|0.0535| 0.2260|\n",
    "|0.0570| 0.2500|\n",
    "|0.0610| 0.2765|\n",
    "\n",
    "Linhas separadas:\n",
    "\n",
    "    condutividade = [0.0480, 0.0525, 0.0540, 0.0535, 0.0570, 0.0610]\n",
    "\n",
    "    densidade = [0.1750, 0.2200, 0.2250, 0.2260, 0.2500, 0.2765]\n",
    "\n",
    "Pede-se:\n",
    "\n",
    "**a.** Estime o modelo de regressão encontrando $\\hat{\\beta_0}$ e $\\hat{\\beta_1}$ usandos as fórmulas abaixo. \n",
    "\n",
    "\n",
    "$$\\hat{\\beta_{0}} = \\bar{y} - \\hat{\\beta_1} \\bar{x}$$\n",
    "\n",
    "e\n",
    "\n",
    "$$\\hat{\\beta_1}= \\frac{\\sum\\limits_{i=1}^{n}(x_{i}-\\bar{x})(y_{i}-\\bar{y})}{\\sum\\limits_{i=1}^{n}(x_{i}-\\bar{x})^2} = \\frac{S_{xy}}{S_{xx}} $$\n",
    "\n",
    "Fórmula alternativa que pode ser útil:\n",
    "\n",
    "\n",
    "$$\\hat{\\beta}_1 = \\frac{Cov(X,Y)}{Var(X)}$$\n"
   ]
  },
  {
   "cell_type": "markdown",
   "metadata": {},
   "source": [
    "\n",
    "**Dica:**  converta as listas em array do numpy. Desta forma **não vai precisar fazer loops.**\n",
    "```python\n",
    "    x = np.array(densidade)\n",
    "    x_ = np.mean(x)\n",
    "```"
   ]
  },
  {
   "cell_type": "code",
   "execution_count": 2,
   "metadata": {},
   "outputs": [],
   "source": [
    "import numpy as np\n",
    "from scipy.stats import probplot, t, norm # Norm não foi usada :(\n",
    "import matplotlib.pyplot as plt\n",
    "from math import sqrt\n",
    "%matplotlib inline\n",
    "\n",
    "densidade = [0.1750, 0.2200, 0.2250, 0.2260, 0.2500, 0.2765]\n",
    "condutividade = [0.0480, 0.0525, 0.0540, 0.0535, 0.0570, 0.0610]\n",
    "\n",
    "x = np.array(densidade)\n",
    "y = np.array(condutividade)\n",
    "\n",
    "x_ = np.mean(x)\n",
    "y_ = np.mean(condutividade)\n",
    "\n",
    "\n",
    "\n",
    " "
   ]
  },
  {
   "cell_type": "markdown",
   "metadata": {},
   "source": [
    "Vamos calcular o termo $S_{xy}$"
   ]
  },
  {
   "cell_type": "code",
   "execution_count": 3,
   "metadata": {},
   "outputs": [],
   "source": [
    "Sxy = np.sum((x - x_)*(y - y_)) # note que as operações são feitas em cada elemento dos arrays x e y"
   ]
  },
  {
   "cell_type": "markdown",
   "metadata": {},
   "source": [
    "Agora vamos valcular o termo $Sxx$"
   ]
  },
  {
   "cell_type": "code",
   "execution_count": null,
   "metadata": {},
   "outputs": [],
   "source": []
  },
  {
   "cell_type": "markdown",
   "metadata": {},
   "source": [
    "Agora podemos calcular $\\hat{\\beta}_1 = \\frac{S_{xy}}{S_{xx}}$"
   ]
  },
  {
   "cell_type": "code",
   "execution_count": null,
   "metadata": {},
   "outputs": [],
   "source": []
  },
  {
   "cell_type": "markdown",
   "metadata": {},
   "source": [
    "### Pergunta 1:"
   ]
  },
  {
   "cell_type": "markdown",
   "metadata": {},
   "source": [
    "Calcule o $\\hat{\\beta}_{1}$"
   ]
  },
  {
   "cell_type": "code",
   "execution_count": null,
   "metadata": {},
   "outputs": [],
   "source": []
  },
  {
   "cell_type": "markdown",
   "metadata": {},
   "source": [
    "### Pergunta 2 - mesmos dados do item anterior"
   ]
  },
  {
   "cell_type": "markdown",
   "metadata": {},
   "source": [
    "Calcule o $\\hat{\\beta}_0$"
   ]
  },
  {
   "cell_type": "code",
   "execution_count": null,
   "metadata": {},
   "outputs": [],
   "source": []
  },
  {
   "cell_type": "markdown",
   "metadata": {},
   "source": [
    "### Pergunta 3"
   ]
  },
  {
   "cell_type": "markdown",
   "metadata": {},
   "source": [
    "Usaremos a biblioteca `statsmodels` para encontrar $\\hat{\\beta_0}$ e $\\hat{\\beta_1}$. Escreva a equação que estima *Condutividade térmica* $y$ em função da *Densidade do produto* $x$"
   ]
  },
  {
   "cell_type": "code",
   "execution_count": 4,
   "metadata": {},
   "outputs": [],
   "source": [
    "# Vamos trazer a função da aula de regressão\n",
    "import statsmodels.api as sm\n",
    "### Função utilitária para fazer a regressão com constante adicionada\n",
    "def regress(X,Y):\n",
    "    X_cp = sm.add_constant(X)\n",
    "    model = sm.OLS(Y,X_cp)\n",
    "    results = model.fit()\n",
    "    return results\n",
    "\n",
    "#reg = regress(densidade, condutividade) # DESCOMENTE a linha para funcionar\n",
    "# reg.summary() # DESCOMENTE a linha"
   ]
  },
  {
   "cell_type": "markdown",
   "metadata": {},
   "source": [
    "Foram obtidos os seguintes resultados da regressão:\n"
   ]
  },
  {
   "cell_type": "markdown",
   "metadata": {},
   "source": [
    "<img src=resultados_regressao.png width=50%>"
   ]
  },
  {
   "cell_type": "code",
   "execution_count": 5,
   "metadata": {},
   "outputs": [],
   "source": [
    "# DESCOMENTE as linhas marcadas acima para funcionar o código abaixo\n",
    "#beta0s = reg.params[0] # como acessar o beta 0 calculado\n",
    "#beta1s = reg.params[1] # como acessar o beta 1 e assim por diante\n"
   ]
  },
  {
   "cell_type": "code",
   "execution_count": 6,
   "metadata": {},
   "outputs": [],
   "source": [
    "#print(\"Betas do Statsmodels - Beta 0: {:}   Beta 1 {:}:\".format(beta0s, beta1s))"
   ]
  },
  {
   "cell_type": "markdown",
   "metadata": {},
   "source": [
    "Portanto a equação encontrada foi:\n",
    "\n",
    "**?**"
   ]
  },
  {
   "cell_type": "markdown",
   "metadata": {},
   "source": [
    "**Alternativas:**\n",
    "\n",
    "* $const = 0.0249coef + 0.002$\n",
    "\n",
    "* $y = 0.128 + 0.0249x$\n",
    "\n",
    "* $y = 0.0249 + 0.128x$ \n",
    "\n",
    "* $const = 0.1285 x1 + 0.008$\n"
   ]
  },
  {
   "cell_type": "markdown",
   "metadata": {
    "jupyter": {
     "source_hidden": true
    }
   },
   "source": [
    "### Pergunta 4\n",
    "Calcule $SS_E$ (SQRes), a soma dos quadrados dos resíduos\n",
    "\n",
    "$$SQRes=SS_{E}=\\sum\\limits^{n}_{i=1}(y_i-\\hat{y}_i)^2=\\sum\\limits_{i=1}^{n}\\epsilon^2_{i}$$\n",
    "\n",
    "Note que o mesmo valor também está guardado no atributo `ssr` os resultados da regressão:\n",
    "\n",
    "```python\n",
    "reg.ssr\n",
    "\n",
    "```"
   ]
  },
  {
   "cell_type": "code",
   "execution_count": null,
   "metadata": {},
   "outputs": [],
   "source": []
  },
  {
   "cell_type": "markdown",
   "metadata": {},
   "source": [
    "### Pergunta 5"
   ]
  },
  {
   "cell_type": "markdown",
   "metadata": {},
   "source": [
    "Calcule $SQT$, também chamado de $SS_T$ no livro, que é a **soma dos quadrados totais**:\n"
   ]
  },
  {
   "cell_type": "markdown",
   "metadata": {},
   "source": [
    "$$SQT=SS_{T}=\\sum\\limits^{n}_{i=1}(y_i-\\bar{y})^2$$\n"
   ]
  },
  {
   "cell_type": "code",
   "execution_count": null,
   "metadata": {},
   "outputs": [],
   "source": []
  },
  {
   "cell_type": "markdown",
   "metadata": {},
   "source": [
    "### Pergunta 6"
   ]
  },
  {
   "cell_type": "markdown",
   "metadata": {},
   "source": [
    "Calcule o **coeficiente de determinação $R^2$**\n",
    "\n",
    "Temos dos livros e da aula de regressão:\n",
    "\n",
    "$$ R^2 = 1 - \\frac{SS_E}{SS_T} = \\frac{SS_R}{SS_T}$$\n",
    "\n",
    "Se usarmos o `statsmodels` podemos obter este valor usando o atributo `rsquared` dos resultados de regressão:\n",
    "```python\n",
    "reg.rsquared\n",
    "```"
   ]
  },
  {
   "cell_type": "code",
   "execution_count": 7,
   "metadata": {},
   "outputs": [],
   "source": [
    "# reg.rsquared # usando statsmodels"
   ]
  },
  {
   "cell_type": "markdown",
   "metadata": {},
   "source": [
    "### Pergunta 7\n",
    "\n",
    "Qual é a condutividade térmica esperada para uma densidade de $0.23g/cm^2?$"
   ]
  },
  {
   "cell_type": "code",
   "execution_count": null,
   "metadata": {},
   "outputs": [],
   "source": []
  },
  {
   "cell_type": "markdown",
   "metadata": {},
   "source": [
    "### Pergunta 8\n",
    "\n",
    "*(Montgomery 12-9)*\n",
    "\n",
    "Os dados abaixo são provenientes de uma pesquisa de satisfação aplicada em um hospital (**também estão disponíveis em [um arquivo CSV](tabela_pacientes.csv)**). \n",
    "\n",
    "|Observation| Age| Severity| Surg_Med| Anxiety| Satisfaction|\n",
    "|---|---|---|---|---|---|\n",
    "|1|55|50| 0| 2.1| 68|\n",
    "|2|46|24| 1| 2.8| 77|\n",
    "|3|30|46| 1| 3.3| 96|\n",
    "|4|35|48| 1| 4.5| 80|\n",
    "|5|59|58| 0| 2.0| 43|\n",
    "|6|61|60| 0| 5.1| 44|\n",
    "|7|74|65| 1| 5.5| 26|\n",
    "|8|38|42| 1| 3.2| 88|\n",
    "|9 |27|42| 0| 3.1| 75|\n",
    "|10|51|50 |1 |2.4 |57 |\n",
    "|11|53|38 |1 |2.2 |56|\n",
    "|12|41|30 |0 |2.1 |88|\n",
    "|13|37|31 |0 |1.9 |88|\n",
    "|14|24|34 |0 |3.1 |102|\n",
    "|15|42|30 |0 |3.0 |88|\n",
    "|16|50|48 |1 |4.2 |70|\n",
    "|17|58|61 |1 |4.6 |52|\n",
    "|18|60|71 |1 |5.3 |43|\n",
    "|19|62|62 |0 |7.2 |46|\n",
    "|20|68|38 |0 |7.8 |56|\n",
    "|21|70|41 |1 |7.0 |59|\n",
    "|22|79|66 |1 |6.2 |26|\n",
    "|23|63|31 |1 |4.1 |52|\n",
    "|24|39|42 |0 |3.5 |83|\n",
    "|25|49|40 |1 |2.1 |75|\n",
    "\n",
    "As variáveis são:\n",
    "\n",
    "* `Age` - a idade do paciente\n",
    "* `Severity` - quão severa é a condição. Valores mais altos indicam condição mais preocupante\n",
    "* `Surg-Med` - Indica se é um paciente de visita ao médico `0` ou cirurgia `1`\n",
    "* `Anxiety` - Índice de ansiedade. Valores mais elevados indicam maior ansiedade\n",
    "\n"
   ]
  },
  {
   "cell_type": "markdown",
   "metadata": {},
   "source": [
    "Você fez o modelo de regressão (presente no Jupyter) e obteve os seguintes resultados"
   ]
  },
  {
   "cell_type": "code",
   "execution_count": 8,
   "metadata": {},
   "outputs": [
    {
     "data": {
      "text/html": [
       "<div>\n",
       "<style scoped>\n",
       "    .dataframe tbody tr th:only-of-type {\n",
       "        vertical-align: middle;\n",
       "    }\n",
       "\n",
       "    .dataframe tbody tr th {\n",
       "        vertical-align: top;\n",
       "    }\n",
       "\n",
       "    .dataframe thead th {\n",
       "        text-align: right;\n",
       "    }\n",
       "</style>\n",
       "<table border=\"1\" class=\"dataframe\">\n",
       "  <thead>\n",
       "    <tr style=\"text-align: right;\">\n",
       "      <th></th>\n",
       "      <th>Observation</th>\n",
       "      <th>Age</th>\n",
       "      <th>Severity</th>\n",
       "      <th>Surg_Med</th>\n",
       "      <th>Anxiety</th>\n",
       "      <th>Satisfaction</th>\n",
       "    </tr>\n",
       "  </thead>\n",
       "  <tbody>\n",
       "    <tr>\n",
       "      <th>0</th>\n",
       "      <td>1</td>\n",
       "      <td>55</td>\n",
       "      <td>50</td>\n",
       "      <td>0</td>\n",
       "      <td>2.1</td>\n",
       "      <td>68</td>\n",
       "    </tr>\n",
       "    <tr>\n",
       "      <th>1</th>\n",
       "      <td>2</td>\n",
       "      <td>46</td>\n",
       "      <td>24</td>\n",
       "      <td>1</td>\n",
       "      <td>2.8</td>\n",
       "      <td>77</td>\n",
       "    </tr>\n",
       "    <tr>\n",
       "      <th>2</th>\n",
       "      <td>3</td>\n",
       "      <td>30</td>\n",
       "      <td>46</td>\n",
       "      <td>1</td>\n",
       "      <td>3.3</td>\n",
       "      <td>96</td>\n",
       "    </tr>\n",
       "  </tbody>\n",
       "</table>\n",
       "</div>"
      ],
      "text/plain": [
       "   Observation  Age  Severity  Surg_Med  Anxiety  Satisfaction\n",
       "0            1   55        50         0      2.1            68\n",
       "1            2   46        24         1      2.8            77\n",
       "2            3   30        46         1      3.3            96"
      ]
     },
     "execution_count": 8,
     "metadata": {},
     "output_type": "execute_result"
    }
   ],
   "source": [
    "import pandas as pd\n",
    "\n",
    "q2 = pd.read_csv(\"tabela_pacientes.csv\")\n",
    "q2.head(3)"
   ]
  },
  {
   "cell_type": "markdown",
   "metadata": {},
   "source": [
    "Resultados da regressão"
   ]
  },
  {
   "cell_type": "markdown",
   "metadata": {},
   "source": [
    "<img src=regressao_multipla_satisfaction.png width=40%>"
   ]
  },
  {
   "cell_type": "markdown",
   "metadata": {},
   "source": [
    "Sobre os resultados acima, pode-se dizer:"
   ]
  },
  {
   "cell_type": "markdown",
   "metadata": {},
   "source": [
    "* A variável mais significativa é Anxiety, pois ela tem maior probabilidade de estar certa\n",
    "\n",
    "* Não conseguimos refutar a hipótese nula de que o coeficiente beta que precede Anxiety é na verdade zero, portanto poderíamos tentar descartar este coeficiente\n",
    "\n",
    "* A equação encontrada é Satisfaction=143.89 -0.584Age - 1.11Severity + 1.296Anxiety\n",
    "\n",
    "* O coeficiente R quadrado de 0.90 diz que a regressão explica muito pouco da variação quadrada presente nos dados"
   ]
  },
  {
   "cell_type": "markdown",
   "metadata": {},
   "source": [
    "### Pergunta 9"
   ]
  },
  {
   "cell_type": "code",
   "execution_count": 9,
   "metadata": {},
   "outputs": [],
   "source": [
    "colunas_x = [\"Age\", \"Severity\", \"Anxiety\"]\n",
    "\n",
    "x_q2 = q2.loc[:, colunas_x]\n",
    "y_q2 = q2.Satisfaction"
   ]
  },
  {
   "cell_type": "code",
   "execution_count": 10,
   "metadata": {},
   "outputs": [],
   "source": [
    "# reg2 = regress(x_q2, y_q2)\n",
    "# reg2.summary()"
   ]
  },
  {
   "cell_type": "markdown",
   "metadata": {},
   "source": [
    "O modelo encontrado, a partir dos resultados da regressão logo acima, foi:\n",
    "\n",
    "* $Satisfacao = 143.895 -1.113Age -0.585 Severity + 1.296 Anxiety$\n",
    "\n",
    "* $Satisfaction=143.89 -0.584Age - 1.11Severity + 1.296Anxiety$\n",
    "\n",
    "* $Satisfaction = 24.39 -8.39Age - 4.43Severity + 1.227 Anxiety$\n",
    "\n",
    "* $Satisfaction = 24.39 -8.39Age - 4.43Severity + 1.227 Anxiety$\n"
   ]
  },
  {
   "cell_type": "markdown",
   "metadata": {},
   "source": [
    "### Pergunta 10"
   ]
  },
  {
   "cell_type": "markdown",
   "metadata": {},
   "source": [
    "\n",
    "Marque o que é verdadeiro sobre regressão linear e as suposições do modelo:\n",
    "\n",
    "* Os resíduos não seguem uma distribuição normal\n",
    "\n",
    "* Não existe relação linear entre a variável dependente e as preditoras\n",
    "\n",
    "* A variável resultado da regressão é chamada de preditora e geralmente chamada de y\n",
    "\n",
    "* A variável resultado da regressão é chamada de variável dependente e geralmente é chamada de y\n",
    "\n",
    "* Os resíduos dependem do valor anterior do resíduo - são correlacionados\n",
    "\n",
    "* É preciso ter heterocedasticidade - uma tendência visível na variação dos resíduos\n",
    "\n"
   ]
  },
  {
   "cell_type": "markdown",
   "metadata": {},
   "source": [
    "### Pergunta 11\n",
    "\n",
    "Sobre os testes de hipótese da regressão, marque o falso:\n",
    "\n",
    "* A $Prob(\\text{F-statistic})$ testa a hipótese nula de que $H_0: \\mbox{todo } \\beta_i = 0$, para $i > 1$ , ou seja, os dados seriam equivalentes a uma constante sem coeficientes na regressão\n",
    "\n",
    "* Os valores $P > |t|$  testam, para cada $\\beta_i$, a hipótese nula  de que $H_0: \\beta_i = 0$\n",
    "\n",
    "* Pode-se usar sem preocupações a regressão para valores fora da faixa observada para as variáveis preditoras\n",
    "\n",
    "* Os testes *Omnibus* e *JB* testam a hipótese nula de que os resíduos **são normais** . Portanto valores altos para $Prob(JB)$ e $Prob(Omnibus)$ confirmam as suposições da regressão\n",
    "\n",
    "\n",
    "\n"
   ]
  },
  {
   "cell_type": "markdown",
   "metadata": {},
   "source": [
    "### Pergunta 12 - Variáveis aleatórias"
   ]
  },
  {
   "cell_type": "markdown",
   "metadata": {},
   "source": [
    "As variáveis aleatórias $X_1$ e $X_2$ são, respectivamente, o comprimento e largura de uma peça retangular manufaturada. \n",
    "\n",
    "Sabe-se que $X_1$ é uma v.a. normal com $E(X_1)=2cm$ e $\\sigma_1=0.1cm$, e que $X_2$ é normal com $E(X_2)=5cm$ e    $\\sigma_2=0.2cm$"
   ]
  },
  {
   "cell_type": "markdown",
   "metadata": {},
   "source": [
    "Podemos assumir que $X_1$ e $X_2$ são independentes. "
   ]
  },
  {
   "cell_type": "markdown",
   "metadata": {},
   "source": [
    "Quanto vale o valor esperado do perímetro?"
   ]
  },
  {
   "cell_type": "code",
   "execution_count": null,
   "metadata": {},
   "outputs": [],
   "source": []
  },
  {
   "cell_type": "markdown",
   "metadata": {},
   "source": [
    "### Pergunta 13\n",
    "\n",
    "No mesmo problema do exercício anterior, quanto vale o desvio padrão do perímetro?"
   ]
  },
  {
   "cell_type": "markdown",
   "metadata": {},
   "source": [
    "Dica: o perímetro é a variável $Y = 2X_1 + 2X_2$"
   ]
  },
  {
   "cell_type": "code",
   "execution_count": null,
   "metadata": {},
   "outputs": [],
   "source": []
  },
  {
   "cell_type": "markdown",
   "metadata": {},
   "source": [
    "## Suporte interativo para o exercício 14 de erro beta"
   ]
  },
  {
   "cell_type": "markdown",
   "metadata": {},
   "source": [
    "Pergunta: de quantos elementos precisamos para que o erro $\\beta$ seja menor que $1\\%$"
   ]
  },
  {
   "cell_type": "code",
   "execution_count": 11,
   "metadata": {},
   "outputs": [
    {
     "data": {
      "application/vnd.jupyter.widget-view+json": {
       "model_id": "d1e39a8da99246eea9ed5f6e9bcc6211",
       "version_major": 2,
       "version_minor": 0
      },
      "text/plain": [
       "interactive(children=(FloatSlider(value=4.5, description='μ0', max=7.0, min=2.6), FloatSlider(value=7.0, descr…"
      ]
     },
     "metadata": {},
     "output_type": "display_data"
    }
   ],
   "source": [
    "from __future__ import print_function\n",
    "from ipywidgets import interact, interactive, fixed, interact_manual\n",
    "import ipywidgets as widgets\n",
    "\n",
    "#Função que utiliza o pywidget\n",
    "@interact(𝛼 = (0.01, 0.1, 0.01), μ0=(2.6, 7, 0.1),  μ1 = (3,9,0.1), n=(1,30))\n",
    "def f( μ0 = 4.5, μ1 = 7, 𝛼=0.05, n=1):\n",
    "    \n",
    "    σ = 1.5\n",
    "\n",
    "    fig = plt.figure(figsize=(15,5))\n",
    "    ax1 = fig.add_subplot(111)\n",
    "    \n",
    "    #Fit NORMAL sob H0\n",
    "    eixo_x_1 = -0.1*min(μ0,μ1)\n",
    "    eixo_x_2 = 1.6*max(μ0,μ1)\n",
    "\n",
    "    x = np.linspace(eixo_x_1, eixo_x_2, 1000)\n",
    "    xcritico = stats.norm.ppf(1-𝛼, loc = μ0, scale=σ/n**0.5)\n",
    "    \n",
    "    ax1.plot(x, stats.norm.pdf(x, loc = μ0, scale = σ/n**0.5), color = 'b')\n",
    "    ax1.fill_between(x,stats.norm.pdf(x, loc = μ0, scale = σ/n**0.5), where = x >= xcritico, color='b')\n",
    "    ax1.plot(x, stats.norm.pdf(x, loc = μ1, scale = σ/n**0.5), color = 'r')\n",
    "    ax1.fill_between(x,stats.norm.pdf(x, loc = μ1, scale = σ/n**0.5), where = x <=xcritico, color='r')\n",
    "    \n",
    "    ax1.axvline(x=xcritico, color='g', lw=4)    \n",
    "    𝛽 = stats.norm.cdf(xcritico, loc = μ1, scale = σ/pow(n,0.5))\n",
    "    poder = 1 - 𝛽\n",
    "    ax1.set_xlabel(\"Médias amostrais\")\n",
    "    ax1.legend((\"Sob H0\", \"Sob H1\", \"xcritico\"))\n",
    "   # plt.text(μ1, 1.1*stats.norm.pdf(μ1, loc=μ1, scale=σ/n**0.5), \"Erro beta: {:3f}\".format(𝛽))\n",
    "   # plt.text(μ1, stats.norm.pdf(μ1, loc=μ1, scale=σ/n**0.5), \"poder=1-beta : {:3f}\".format(poder))\n",
    "    return \"xcritico: {0:0.4f}, β: {1:0.4f}, Poder: {2:0.3f}\".format(xcritico,𝛽, poder)"
   ]
  },
  {
   "cell_type": "markdown",
   "metadata": {},
   "source": [
    "**Só funciona no Jupyter Notebook**"
   ]
  },
  {
   "cell_type": "code",
   "execution_count": 12,
   "metadata": {},
   "outputs": [
    {
     "data": {
      "text/plain": [
       "'xcritico: 6.9673, β: 0.4913, Poder: 0.509'"
      ]
     },
     "execution_count": 12,
     "metadata": {},
     "output_type": "execute_result"
    },
    {
     "data": {
      "image/png": "[encoded data removed]",
      "text/plain": [
       "<Figure size 1080x360 with 1 Axes>"
      ]
     },
     "metadata": {
      "needs_background": "light"
     },
     "output_type": "display_data"
    }
   ],
   "source": [
    "f()"
   ]
  },
  {
   "cell_type": "markdown",
   "metadata": {},
   "source": [
    "## Pergunta 14 - Tamanho da amostra e erro beta"
   ]
  },
  {
   "cell_type": "markdown",
   "metadata": {},
   "source": [
    "Atenção: faixas de valores e explicações alteradas para propósitos do exercício. \n",
    "\n",
    "A hemoglobina glicada (HBA1c) é uma medida de quão altos foram os núveis de açúcar no sangue de uma determinada pessoa ao longo de aproximadamente 3 meses.  Em função da dinâmica dos reagentes, este teste apresenta uma grande variação para uma mesma pessoa. Por isso devem ser coletados vários frascos de sangue para se obter uma amostra com $n$ elementos.\n",
    "\n",
    "Sabe-se que:\n",
    "\n",
    "* Pessoas normais têm HBA1c de $4.5 mmol/L$\n",
    "\n",
    "* Pessoas com diabetes tendem a ter a HBA1c de $7.0 mmol/L$\n",
    "\n",
    "Ambos os grupos têm desvio padrão $\\sigma=1.5$ O nível de significância adotado é $\\alpha=1\\%$, a partir deste valor definimos o $x_{crítico}$ e a região de rejeição. Valores de $\\overline{x}$ abaixo de $x_{critico}$ não levam à rejeição de $H_0$\n",
    "\n",
    "\n",
    "\n",
    "Pergunta: Quantos elementos precisa ter uma amostra para termos o erro $\\beta$ menor que $1\\%$?\n",
    "\n",
    "**Dica: use o notebook interativo para visualizar e realizar a análise**"
   ]
  },
  {
   "cell_type": "markdown",
   "metadata": {},
   "source": [
    "![](erro_beta_n_equals_1_legendas.png)"
   ]
  },
  {
   "cell_type": "markdown",
   "metadata": {},
   "source": [
    "**Resposta**\n",
    "\n",
    "Use o widget interativo para encontrar. **Entenda** o que é o erro beta"
   ]
  },
  {
   "cell_type": "markdown",
   "metadata": {},
   "source": [
    "## Pergunta 15 - erros no teste de hipóteses"
   ]
  },
  {
   "cell_type": "markdown",
   "metadata": {},
   "source": [
    "Pergunta: O que é o erro $\\beta$? "
   ]
  },
  {
   "cell_type": "markdown",
   "metadata": {},
   "source": [
    "* É o erro do Tipo 1: ou seja aceitar $H_0$ quando ela é verdade. Também chamado *falso positivo*\n",
    "\n",
    "* É o erro do Tipo 1: ou seja rejeitar $H_0$ quando ela é verdadeira. Também chamado *falso positivo*\n",
    "\n",
    "* É o erro do Tipo 2: ou seja não rejeitar $H_0$ quando ela é falsa. Também chamado *falso negativo*\n",
    "\n",
    "* É o erro do Tipo 2: ou seja não rejeitar $H_0$ quando ela é falsa. Também chamado *falso negativo*"
   ]
  },
  {
   "cell_type": "markdown",
   "metadata": {},
   "source": [
    "## Pergunta 16 - Interpretação de erros"
   ]
  },
  {
   "cell_type": "markdown",
   "metadata": {},
   "source": [
    "No exercício acima, qual seria a interpretação de cometer um erro do *Tipo 2*?\n",
    "\n",
    "\n",
    "* Rejeitar $H_0$, ou seja considerar doente uma pessoa saudável\n",
    "\n",
    "* Não rejeitar $H_0$, ou seja: considerar saudável uma pessoa doente\n",
    "\n",
    "* Rejeitar $H_1$, ou seja considerar saudável uma pessoa doente\n",
    "\n",
    "* Não rejeitar $H_1$, ou seja coniderar doente uma pessoa saudável"
   ]
  },
  {
   "cell_type": "markdown",
   "metadata": {},
   "source": [
    "## Pergunta 17 - Tamanho da amostra e distância da estimativa"
   ]
  },
  {
   "cell_type": "markdown",
   "metadata": {},
   "source": [
    "<img src=barras_aco.png width=50% alt=\"barras de aço\">"
   ]
  },
  {
   "cell_type": "markdown",
   "metadata": {},
   "source": [
    "Você trabalha em uma empresa que produz barras de aço."
   ]
  },
  {
   "cell_type": "markdown",
   "metadata": {},
   "source": [
    "Seu trabalho é fornecer uma estimativa da média da resistência à tração da produção da fábrica. Você não pode errar por mais que $12MPa$.\n",
    "\n",
    "Vai ser necessário fazer [um ensaio de tração](https://www.youtube.com/watch?v=CMdKW09HWzs) em  um  certo número de barras \n",
    "\n",
    "Você conhece o desvio padrão da produção, que é de $36MPa$. Note que $1Pa=1N/m_2$.\n",
    "\n",
    "A média $\\mu_0$ não é conhecida e é justamente o que você gostaria de estimar (por meio de $\\overline{x}$). Sabe-se que a produção de fábricas do mesmo tipo costuma ter distribuição normal.\n",
    "\n",
    "Quantos elementos $n$ você vai precisar incluir na sua amostra de ensaio para garantir que a média $\\overline{x}$ se encontre a menos de $6MPa$ da média verdadeira da produção em $97\\%$ das vezes?\n",
    "\n",
    "\n",
    "\n"
   ]
  },
  {
   "cell_type": "markdown",
   "metadata": {},
   "source": [
    "Lembrete: a relação para tamanho da amostra é $n = \\left( z_{\\gamma/2} \\frac{\\sigma}{d}\\right)^2$, em que $z_{\\gamma/2}$ é o valor $z$ na normal padrão que delimita de forma simétrica a probabilidade $\\gamma$ em torno da média"
   ]
  },
  {
   "cell_type": "code",
   "execution_count": null,
   "metadata": {},
   "outputs": [],
   "source": []
  }
 ],
 "metadata": {
  "kernelspec": {
   "display_name": "Python 3",
   "language": "python",
   "name": "python3"
  },
  "language_info": {
   "codemirror_mode": {
    "name": "ipython",
    "version": 3
   },
   "file_extension": ".py",
   "mimetype": "text/x-python",
   "name": "python",
   "nbconvert_exporter": "python",
   "pygments_lexer": "ipython3",
   "version": "3.7.5"
  }
 },
 "nbformat": 4,
 "nbformat_minor": 4
}
