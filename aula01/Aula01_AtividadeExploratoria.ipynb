{
 "cells": [
  {
   "cell_type": "markdown",
   "metadata": {},
   "source": [
    "# Ciência dos Dados - 2019 / Segundo Semestre\n",
    "\n",
    "## Aula 01 - Atividade Exploratória"
   ]
  },
  {
   "cell_type": "markdown",
   "metadata": {},
   "source": [
    "___\n",
    "A biblioteca **Pandas** é um conjunto de funções para o Python com intuito de trabalhar com Data Science. Essa biblioteca permite, além de abrir diversos tipos de arquivos, trabalhar também com o ferramental descritivo para responder perguntas sobre seus dados."
   ]
  },
  {
   "cell_type": "code",
   "execution_count": null,
   "metadata": {},
   "outputs": [],
   "source": [
    "%matplotlib inline\n",
    "import pandas as pd\n",
    "import matplotlib.pyplot as plt\n",
    "import numpy as np"
   ]
  },
  {
   "cell_type": "markdown",
   "metadata": {},
   "source": [
    "___\n",
    "### Abrindo um arquivo e visualizando seu conteúdo:\n",
    "\n",
    "Vamos começar abrindo um arquivo no formato Excel. Verifique ANTES se o arquivo XLSX está na mesma pasta que salvou este arquivo notebook. O comando a seguir mostra a pasta de trabalho!"
   ]
  },
  {
   "cell_type": "code",
   "execution_count": null,
   "metadata": {},
   "outputs": [],
   "source": [
    "import os\n",
    "print('Esperamos trabalhar no diretório')\n",
    "print(os.getcwd())"
   ]
  },
  {
   "cell_type": "markdown",
   "metadata": {},
   "source": [
    "...\n",
    "\n",
    "Os dados contem informações sobre países disponíveis em um dos mais conhecidos databases da Internet: World Bank.\n",
    "\n",
    "Primeiramente, abra o arquivo e armazene em uma variável!"
   ]
  },
  {
   "cell_type": "code",
   "execution_count": null,
   "metadata": {},
   "outputs": [],
   "source": [
    "dados = pd.read_excel('WorldBank.xlsx')"
   ]
  },
  {
   "cell_type": "code",
   "execution_count": null,
   "metadata": {},
   "outputs": [],
   "source": [
    "# dimensão da base de dados: (número de linhas, número de colunas)\n",
    "dados.shape"
   ]
  },
  {
   "cell_type": "markdown",
   "metadata": {},
   "source": [
    "...\n",
    "\n",
    "Será que funcionou? Utilize o método ``head()`` para olhar as primeiras linhas do DataFrame:"
   ]
  },
  {
   "cell_type": "code",
   "execution_count": null,
   "metadata": {},
   "outputs": [],
   "source": [
    "dados.head()"
   ]
  },
  {
   "cell_type": "markdown",
   "metadata": {},
   "source": [
    "Agora, `dados` é uma variável do tipo `DataFrame`, tipo padrão usado no pandas para representar uma tabela.\n",
    "\n",
    "Para ver o final da lista, podemos usar o método ``tail()``. Tanto ``head()`` quanto ``tail()`` podem receber como argumento o número de linhas a serem exibidas:"
   ]
  },
  {
   "cell_type": "code",
   "execution_count": null,
   "metadata": {},
   "outputs": [],
   "source": [
    "dados.tail(15)"
   ]
  },
  {
   "cell_type": "markdown",
   "metadata": {},
   "source": [
    "...\n",
    "\n",
    "Dependendo do objetivo (intuito) ao visualizar o conteúdo dos dados, pode ser feita uma ordenação dos dados segundo alguma variável da base de dados.\n",
    "\n",
    "Para ordernar os dados pela variável `Population` usando o método `sort_values()`, o qual retorna um novo DataFrame ordenado pela coluna de sua escolha. Por exemplo:"
   ]
  },
  {
   "cell_type": "code",
   "execution_count": null,
   "metadata": {},
   "outputs": [],
   "source": [
    "dados.sort_values(by='Population').head()"
   ]
  },
  {
   "cell_type": "markdown",
   "metadata": {},
   "source": [
    "Agora sabe-se quais são os cinco países mais pobres presentes nos dados."
   ]
  },
  {
   "cell_type": "markdown",
   "metadata": {},
   "source": [
    "___\n",
    "**Atividade 1:** \n",
    "\n",
    "Liste os 10 países mais ricos utilizando `GDPcapita` (PIB per capita)."
   ]
  },
  {
   "cell_type": "code",
   "execution_count": null,
   "metadata": {},
   "outputs": [],
   "source": [
    "dados.sort_values(by='GDPcapita', ascending=False).head(10)"
   ]
  },
  {
   "cell_type": "markdown",
   "metadata": {},
   "source": [
    "___"
   ]
  },
  {
   "cell_type": "markdown",
   "metadata": {},
   "source": [
    "---\n",
    "\n",
    "### Explorando o conteúdo das variáveis (qualitativas):\n",
    "\n",
    "A coluna `region` indica a região geográfica à qual o país pertence. Vamos ver quantos países tem em cada região:"
   ]
  },
  {
   "cell_type": "code",
   "execution_count": null,
   "metadata": {
    "scrolled": true
   },
   "outputs": [],
   "source": [
    "dados.region"
   ]
  },
  {
   "cell_type": "code",
   "execution_count": null,
   "metadata": {
    "scrolled": true
   },
   "outputs": [],
   "source": [
    "dados['region']"
   ]
  },
  {
   "cell_type": "markdown",
   "metadata": {},
   "source": [
    "...\n",
    "\n",
    "Assim fica difícil entender como os países se distribuem dentre as diferentes regiões! Vamos contá-los:"
   ]
  },
  {
   "cell_type": "code",
   "execution_count": null,
   "metadata": {},
   "outputs": [],
   "source": [
    "dados['region'].value_counts()"
   ]
  },
  {
   "cell_type": "markdown",
   "metadata": {},
   "source": [
    "Note que especificamos a coluna de interesse como se estivéssemos trabalhando com um dicionário, onde a chave é o nome de coluna e o valor é a *série* de dados (ou seja, todas as linhas) associados àquela coluna.\n",
    "\n",
    "Podemos também acessar a coluna usando a notação de atributo, como se cada coluna fosse um atributo de objeto:"
   ]
  },
  {
   "cell_type": "code",
   "execution_count": null,
   "metadata": {},
   "outputs": [],
   "source": [
    "dados.region.value_counts()"
   ]
  },
  {
   "cell_type": "markdown",
   "metadata": {},
   "source": [
    "Podemos observar essa distribuição de contagens de modo mais visual em um gráfico de setor:"
   ]
  },
  {
   "cell_type": "code",
   "execution_count": null,
   "metadata": {},
   "outputs": [],
   "source": [
    "dados.region.value_counts().plot.pie();"
   ]
  },
  {
   "cell_type": "markdown",
   "metadata": {},
   "source": [
    "___\n",
    "**Atividade 2:** \n",
    "\n",
    "A coluna `landlocked` indica se um pais tem acesso ao mar ou não (neste caso, este pais é chamado de 'landlocked' em inglês). Esta coluna indica por `0` os paises que tem acesso ao mar, e `1` para os landlocked.\n",
    "\n",
    "    i) Conte quantos países não possuem acesso ao mar.\n",
    "    ii) Conte quantos países não possuem acesso ao mar em cada região.\n",
    "    iii) Conte quantos países possuem ou não possuem acesso ao mar em cada região."
   ]
  },
  {
   "cell_type": "code",
   "execution_count": null,
   "metadata": {},
   "outputs": [],
   "source": [
    "#i)\n",
    "dados[dados.landlocked==1].landlocked.value_counts()\n"
   ]
  },
  {
   "cell_type": "code",
   "execution_count": null,
   "metadata": {},
   "outputs": [],
   "source": [
    "#ii)\n",
    "dados[dados.landlocked==1]['region'].value_counts()"
   ]
  },
  {
   "cell_type": "code",
   "execution_count": null,
   "metadata": {},
   "outputs": [],
   "source": [
    "#iii)\n",
    "pd.crosstab(index=[dados.region], columns=[dados.landlocked])"
   ]
  },
  {
   "cell_type": "markdown",
   "metadata": {},
   "source": [
    "---\n",
    "\n",
    "### Explorando o conteúdo das variáveis (quantitativas):\n",
    "\n",
    "Podemos ver que a África Sub Saariana é a região com maior proporção de países sem acesso ao mar.\n",
    "\n",
    "Será que o acesso ao mar tem impacto na riqueza do país? Antes vamos olhar a variável (coluna) que indica riqueza `GPDcapita`."
   ]
  },
  {
   "cell_type": "markdown",
   "metadata": {},
   "source": [
    "Faz sentido usar o `value_counts()` para essa variável? Teste!"
   ]
  },
  {
   "cell_type": "code",
   "execution_count": null,
   "metadata": {
    "scrolled": true
   },
   "outputs": [],
   "source": [
    "dados.GDPcapita.value_counts()"
   ]
  },
  {
   "cell_type": "markdown",
   "metadata": {},
   "source": [
    "...\n",
    "\n",
    "Quais das medidas abaixo você conhece além da média (mean)? *Veremos com mais calma nas próximas aulas.*"
   ]
  },
  {
   "cell_type": "code",
   "execution_count": null,
   "metadata": {},
   "outputs": [],
   "source": [
    "dados.GDPcapita.describe()"
   ]
  },
  {
   "cell_type": "markdown",
   "metadata": {},
   "source": [
    "___\n",
    "**Atividade 3**:\n",
    "\n",
    "Incrementando nossa análise, queremos saber se o acesso ao mar impacta na riqueza de um país. Nesse caso a contagem de países por região e acesso ao mar não tem muito significado prático. \n",
    "\n",
    "Vamos substituir a **frequência** pela **média** do GDP per capita:"
   ]
  },
  {
   "cell_type": "code",
   "execution_count": null,
   "metadata": {},
   "outputs": [],
   "source": [
    "pd.pivot_table(data=dados, index='region', columns='landlocked', values='GDPcapita', aggfunc=np.mean)"
   ]
  },
  {
   "cell_type": "markdown",
   "metadata": {},
   "source": [
    "...\n",
    "\n",
    "O que vocês concluem dos dados acima?"
   ]
  },
  {
   "cell_type": "markdown",
   "metadata": {},
   "source": [
    "**Resp.:**\n",
    "\n",
    "Parece que a região oeste europeia (`europe_west`) é diferente das demais. Por que será? \n",
    "\n",
    "Para responder essa pergunta, vamos analisar apenas essa região. Criaremos um novo DataFrame filtrado por essa região!"
   ]
  },
  {
   "cell_type": "markdown",
   "metadata": {},
   "source": [
    "---\n",
    "\n",
    "### Filtrando ou criando novos DataFrame:\n",
    "\n"
   ]
  },
  {
   "cell_type": "code",
   "execution_count": null,
   "metadata": {
    "scrolled": false
   },
   "outputs": [],
   "source": [
    "dados_ew = dados[dados.region=='europe_west']\n",
    "dados_ew"
   ]
  },
  {
   "cell_type": "markdown",
   "metadata": {},
   "source": [
    "...\n",
    "\n",
    "Podemos juntar duas condições simultâneas (como o `and` visto em Design de Software) para ver quais são os países sem acesso ao mar da europa ocidental:"
   ]
  },
  {
   "cell_type": "code",
   "execution_count": null,
   "metadata": {},
   "outputs": [],
   "source": [
    "dados_ew_ll = dados[(dados.region=='europe_west') & (dados.landlocked==1)]\n",
    "dados_ew_ll"
   ]
  },
  {
   "cell_type": "markdown",
   "metadata": {},
   "source": [
    "...\n",
    "\n",
    "Filtrar linhas e colunas utilizando comando `loc`, por exemplo:"
   ]
  },
  {
   "cell_type": "code",
   "execution_count": null,
   "metadata": {},
   "outputs": [],
   "source": [
    "dados_ew_ll = dados.loc[(dados.region=='europe_west') & (dados.landlocked==1), ['Country','GDPcapita']]\n",
    "dados_ew_ll"
   ]
  },
  {
   "cell_type": "markdown",
   "metadata": {},
   "source": [
    "Onde `&` é equivalente ao `and`, `|` é equivalente ao `or` e `~` é equivalente ao `not`."
   ]
  },
  {
   "cell_type": "markdown",
   "metadata": {},
   "source": [
    "___\n",
    "**Atividade 4:** \n",
    "\n",
    "Crie um novo dataframe com as variáveis quantitativas apenas dos países das américas?"
   ]
  },
  {
   "cell_type": "code",
   "execution_count": null,
   "metadata": {},
   "outputs": [],
   "source": [
    "dados_am = dados.loc[(dados.region=='america_north') | (dados.region=='america_south'), ['Population','GDPcapita','surface']]\n",
    "dados_am"
   ]
  },
  {
   "cell_type": "markdown",
   "metadata": {},
   "source": [
    "---\n",
    "\n",
    "## Uso do Tutorial:\n",
    "\n",
    "Agora é com você! Existem outras análises interessantes que podem ser feitos neste `dataset`!\n",
    "\n",
    "Não se esqueçam de olhar o tutorial completo de pandas no Blackboard!\n",
    "\n",
    "Faça:\n",
    "\n",
    "    - Uma análise exploratória considerando UMA variável qualitativa.\n",
    "    - Uma análise exploratória considerando UMA variável quantitativa.\n",
    "    - Uma análise exploratória considerando DUAS qualitativas e UMA quantitativa.\n",
    "    - Filtre a base de dados excluindo uma determinada categoria de uma variável qualitativa e selecionando duas variáveis quaisquer."
   ]
  },
  {
   "cell_type": "code",
   "execution_count": null,
   "metadata": {},
   "outputs": [],
   "source": []
  }
 ],
 "metadata": {
  "kernelspec": {
   "display_name": "Python 3",
   "language": "python",
   "name": "python3"
  },
  "language_info": {
   "codemirror_mode": {
    "name": "ipython",
    "version": 3
   },
   "file_extension": ".py",
   "mimetype": "text/x-python",
   "name": "python",
   "nbconvert_exporter": "python",
   "pygments_lexer": "ipython3",
   "version": "3.5.5"
  }
 },
 "nbformat": 4,
 "nbformat_minor": 2
}
