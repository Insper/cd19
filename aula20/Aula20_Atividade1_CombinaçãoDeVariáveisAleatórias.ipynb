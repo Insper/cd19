{
 "cells": [
  {
   "cell_type": "markdown",
   "metadata": {},
   "source": [
    "___\n",
    "# Atividade: Combinação linear de variáveis aleatórias \n",
    "\n",
    "## Contexto Teórico\n",
    "___\n",
    "\n",
    "## Aula 17\n",
    "\n",
    "**Preparo Prévio:**\n",
    "1. Montgomery e Runger (6ª Edição): Seção 5.4 (págs 148 a 152). \n",
    "\n",
    "**Hoje:**\n",
    "1. Reconhecer as variáveis aleatórias de interesse em um problema qualquer. \n",
    "2. Aplicar propriedades de esperança e variância quando há combinação linear entre variáveis aleatórias.\n",
    "\n",
    "\n",
    "**Próxima aula:**\n",
    "1. Leitura prévia necessária: Magalhães e Lima (7ª Edição): Seção 7.3 (págs 234 a 240).\n",
    "2. Leitura prévia necessária: Montgomery e Runger (6ª Edição): Capítulo 7 (até Seção 7-2) (págs 191 a 198)\n",
    "___"
   ]
  },
  {
   "cell_type": "markdown",
   "metadata": {},
   "source": [
    "___\n",
    "## Motivação \n",
    "\n",
    "A seguir, considere duas variáveis aleatórias, ambas contínuas, cujo objetivo seja somá-las!"
   ]
  },
  {
   "cell_type": "markdown",
   "metadata": {},
   "source": [
    "Vamos criar um experimento. Sejam:\n",
    "\n",
    " $X \\sim$ Uniforme$(4,7)$, ou seja, $a=4$ e $b=7$\n",
    "\n",
    "e \n",
    "\n",
    " $Y \\sim$ Exponencial$(3)$, ou seja, $\\beta=3$.\n",
    "\n",
    "Inicialmente realizaremos o plot de ambas as distribuições univariadamente. Veja Aula12 caso tenha dúvidas com essas duas distribuições.\n"
   ]
  },
  {
   "cell_type": "code",
   "execution_count": null,
   "metadata": {},
   "outputs": [],
   "source": [
    "import pandas as pd\n",
    "import numpy as np\n",
    "from scipy.stats import uniform, expon\n",
    "import matplotlib.pyplot as plt\n",
    "%matplotlib inline"
   ]
  },
  {
   "cell_type": "code",
   "execution_count": null,
   "metadata": {},
   "outputs": [],
   "source": [
    "# Vamos criar uma faixa no eixo x, válida para ambas\n",
    "eixo_x = np.linspace(-1, 15, 300)"
   ]
  },
  {
   "cell_type": "code",
   "execution_count": null,
   "metadata": {},
   "outputs": [],
   "source": [
    "# X: uniforme entre 4 a 7\n",
    "a = 4\n",
    "b = 7\n",
    "loc_unif = a\n",
    "scale_unif = b - a # Veja o zôo de distribuições\n",
    "pdf_unif = uniform.pdf(eixo_x, loc=loc_unif, scale=scale_unif)"
   ]
  },
  {
   "cell_type": "code",
   "execution_count": null,
   "metadata": {},
   "outputs": [],
   "source": [
    "# Y: exponencial com média 3\n",
    "scale_exp = 3\n",
    "pdf_exp = expon.pdf(eixo_x, scale=scale_exp)"
   ]
  },
  {
   "cell_type": "markdown",
   "metadata": {},
   "source": [
    "___\n",
    "Agora realizaremos o *plot* de ambas sobre o mesmo eixo:"
   ]
  },
  {
   "cell_type": "code",
   "execution_count": null,
   "metadata": {
    "scrolled": true
   },
   "outputs": [],
   "source": [
    "plt.plot(eixo_x, pdf_unif, label=\"uniforme\")\n",
    "plt.plot(eixo_x, pdf_exp, label=\"exponencial\")\n",
    "plt.legend(loc='upper right');\n"
   ]
  },
  {
   "cell_type": "markdown",
   "metadata": {},
   "source": [
    "## Entretanto, o que significa fazer $Z = X + Y$ ?"
   ]
  },
  {
   "cell_type": "markdown",
   "metadata": {},
   "source": [
    "___\n",
    "## Programando a função X + Y"
   ]
  },
  {
   "cell_type": "markdown",
   "metadata": {},
   "source": [
    "Para vermos como ficaria a função $X + Y$, devemos:\n",
    "* Obter uma amostra de X\n",
    "* Obter uma amostra de Y\n",
    "* Somar ambas as amostras\n",
    "\n",
    "No `scipy.stats`, a função que gera uma amostra conforme uma distribuição é a `rvs()`. Por exemplo, `uniform.rvs()` ou `expon.rvs`\n",
    "\n",
    "Desta forma, vamos programar $Z = X + Y$"
   ]
  },
  {
   "cell_type": "code",
   "execution_count": null,
   "metadata": {},
   "outputs": [],
   "source": [
    "n = 50000\n",
    "amostras = []\n",
    "\n",
    "for i in range(n):\n",
    "    x = uniform.rvs(loc=loc_unif, scale=scale_unif)\n",
    "    y = expon.rvs(scale=scale_exp)\n",
    "    z = x + y\n",
    "    amostras.append(z)\n"
   ]
  },
  {
   "cell_type": "code",
   "execution_count": null,
   "metadata": {},
   "outputs": [],
   "source": [
    "x"
   ]
  },
  {
   "cell_type": "markdown",
   "metadata": {},
   "source": [
    "Dependendo das distribuições somadas, a fórmula da distribuição resultante é conhecida. \n",
    "\n",
    "Agora vamos proceder de forma empírica e visualizar apenas o histograma do resultado, que deve lembrar o formato da distribuição resultante."
   ]
  },
  {
   "cell_type": "code",
   "execution_count": null,
   "metadata": {},
   "outputs": [],
   "source": [
    "plt.hist(amostras, label=\"z\", bins=80, density=True)\n",
    "plt.plot(eixo_x, pdf_unif, label=\"uniforme\")\n",
    "plt.plot(eixo_x, pdf_exp, label=\"exponencial\")\n",
    "plt.legend(loc='upper right');"
   ]
  },
  {
   "cell_type": "markdown",
   "metadata": {},
   "source": [
    "**Pontos importantes:** Implementar $X+Y$ é somar uma amostra de $X$ com uma amostra de $Y$ e obter uma nova distribuição, cuja área também valerá $1$!!!"
   ]
  },
  {
   "cell_type": "markdown",
   "metadata": {},
   "source": [
    "___\n",
    "## Melhorando a performance na simulação\n",
    "\n",
    "Ao invés de fazer o *loop* para gerar $n$ amostrar em Python, podemos já pedir à função `rvs()` que realize $n$ sorteios utilizando argumento `size=n`. "
   ]
  },
  {
   "cell_type": "code",
   "execution_count": null,
   "metadata": {},
   "outputs": [],
   "source": [
    "x_ = uniform.rvs(loc=loc_unif, scale=scale_unif, size=n)\n",
    "y_ = expon.rvs(scale=scale_exp, size=n)\n",
    "z_ = x_ + y_ # note que estamos somando elemento a elemento de x_ e y_ e obtendo um novo array"
   ]
  },
  {
   "cell_type": "markdown",
   "metadata": {},
   "source": [
    "Analisando associação entre as duas variáveis simuladas X e Y:"
   ]
  },
  {
   "cell_type": "code",
   "execution_count": null,
   "metadata": {},
   "outputs": [],
   "source": [
    "#Cálculo da Correlação entre X e Y - via Numpy\n",
    "np.corrcoef(x_,y_)"
   ]
  },
  {
   "cell_type": "code",
   "execution_count": null,
   "metadata": {},
   "outputs": [],
   "source": [
    "#Cálculo da Correlação entre X e Y - via Pandas\n",
    "pd.Series(x_).corr(pd.Series(y_))"
   ]
  },
  {
   "cell_type": "code",
   "execution_count": null,
   "metadata": {},
   "outputs": [],
   "source": [
    "#Cálculo da Covariância entre X e Y - via Pandas\n",
    "pd.Series(x_).cov(pd.Series(y_))"
   ]
  },
  {
   "cell_type": "markdown",
   "metadata": {},
   "source": [
    "Observe que o resultado não se altera, mas o desempenho é melhor"
   ]
  },
  {
   "cell_type": "code",
   "execution_count": null,
   "metadata": {
    "scrolled": true
   },
   "outputs": [],
   "source": [
    "plt.hist(z_, label=\"z\", bins=80, density=True)\n",
    "plt.plot(eixo_x, pdf_unif, label=\"uniforme\")\n",
    "plt.plot(eixo_x, pdf_exp, label=\"exponencial\")\n",
    "plt.legend(loc='upper right');"
   ]
  },
  {
   "cell_type": "markdown",
   "metadata": {},
   "source": [
    "___\n",
    "## Propriedades de esperança e variância em combinação linear de variáveis aleatórias\n",
    "\n"
   ]
  },
  {
   "cell_type": "markdown",
   "metadata": {},
   "source": [
    "### E(Z): Valor esperado da Z calculada a partir dos dados gerados"
   ]
  },
  {
   "cell_type": "code",
   "execution_count": null,
   "metadata": {},
   "outputs": [],
   "source": [
    "z_.mean()"
   ]
  },
  {
   "cell_type": "code",
   "execution_count": null,
   "metadata": {},
   "outputs": [],
   "source": [
    "np.mean(z_)"
   ]
  },
  {
   "cell_type": "markdown",
   "metadata": {},
   "source": [
    "### Var(Z): Variância da Z calculada a partir dos dados gerados"
   ]
  },
  {
   "cell_type": "code",
   "execution_count": null,
   "metadata": {},
   "outputs": [],
   "source": [
    "z_.var()"
   ]
  },
  {
   "cell_type": "code",
   "execution_count": null,
   "metadata": {},
   "outputs": [],
   "source": [
    "np.var(z_, ddof=0) # o denominador da variância tem um termo (n - ddof)."
   ]
  },
  {
   "cell_type": "markdown",
   "metadata": {},
   "source": [
    "___\n",
    "## Contrastando com previsão teórica\n",
    "\n",
    "Dica: Reveja as aulas de **modelos probabilísticos contínuos** - uniforme e exponencial\n",
    "\n",
    "### E(Z): Valor esperado da Z calculada a partir da teoria\n",
    "\n",
    "**Previsão teórica de E(Z) = E(X)  + E(Y)**\n",
    "\n",
    "Relembrando:\n",
    "\n",
    "- Para a Uniforme temos:\n",
    "\n",
    "$$E(X) = \\frac{a + b}{2} = 5.5$$\n",
    "\n",
    "- Para a Exponencial temos:\n",
    "\n",
    "$$E(Y) = \\beta = 3$$\n",
    "\n",
    "Portanto, \n",
    "\n",
    "$$E(Z) = E(X + Y) = 8.5$$\n",
    "\n",
    "\n",
    "### Var(Z): Variância da Z calculada a partir da teoria\n",
    "\n",
    "**Previsão teórica de Var(Z) = Var(X) + Var(Y) + 2 * Cov(X,Y)**\n",
    "\n",
    "Relembrando:\n",
    "\n",
    "- Para a Uniforme temos:\n",
    "\n",
    "$$ \\sigma^2_X = Var(X) = \\frac{(b-a)^2}{12} = 0.75$$\n",
    "\n",
    "- Para a exponencial temos:\n",
    "\n",
    "$$\\sigma^2_Y = Var(Y) = \\beta^2 = 9$$\n",
    "\n",
    "Portanto, assumindo que as variáveis são INDEPENDENTES até mesmo pela maneira que foram geradas, então:\n",
    "\n",
    "$$Var(Z) = Var(X) + Var(Y) = \\sigma_X^2 + \\sigma_Y^2 =  9.75$$\n",
    "\n",
    "\n",
    "**Os valores de E(Z) e Var(Z) calculados a partir dos dados gerados ficam bem próximos da previsão teórica!**"
   ]
  },
  {
   "cell_type": "markdown",
   "metadata": {},
   "source": [
    "___\n",
    "# EXERCÍCIOS"
   ]
  },
  {
   "cell_type": "markdown",
   "metadata": {},
   "source": [
    "___\n",
    "## Exercício 1"
   ]
  },
  {
   "cell_type": "markdown",
   "metadata": {},
   "source": [
    "Sejam $X \\sim Exp(\\beta=10)$ e $Y \\sim Exp(\\beta=20)$, duas variáveis aleatórias independentes.  \n",
    "\n",
    "Vamos definir a variável aleatória $Z$ como $Z = 2X + 3Y$\n",
    "\n",
    "Responda:\n",
    "\n",
    "**a.** Qual deve ser $E(Z)$ e $Var(Z)$? Responda usando a teoria."
   ]
  },
  {
   "cell_type": "markdown",
   "metadata": {},
   "source": [
    "**Resposta**:\n",
    "\n",
    "### Esperança de Z:\n",
    "...\n",
    "\n",
    "### Variância de Z: \n",
    "\n",
    "...\n",
    "\n"
   ]
  },
  {
   "cell_type": "markdown",
   "metadata": {},
   "source": [
    "**b.** Verifique, através de simulação, o resultado anterior.  Não se esqueça de apresentar os valores de $E(Z)$ e $Var(Z)$ obtidos a partir dos dados"
   ]
  },
  {
   "cell_type": "code",
   "execution_count": null,
   "metadata": {},
   "outputs": [],
   "source": []
  },
  {
   "cell_type": "markdown",
   "metadata": {},
   "source": [
    "___\n",
    "## Exercício 2\n",
    "\n",
    "Dadas duas variáveis aleatórias normais $X$ e $Y$, não correlacionadas entre si, com médias de 100 e 150, e desvios padrão de 30 e 40, respectivamente:\n",
    "\n",
    "**a** Quais seriam $E(X + Y)$ e $V(X + Y)$ conforme a teoria? Que formato teria a distribuição?"
   ]
  },
  {
   "cell_type": "markdown",
   "metadata": {},
   "source": [
    "**Resposta**: \n",
    "\n",
    "...\n"
   ]
  },
  {
   "cell_type": "markdown",
   "metadata": {},
   "source": [
    "**b** Simule este resultado."
   ]
  },
  {
   "cell_type": "code",
   "execution_count": null,
   "metadata": {},
   "outputs": [],
   "source": []
  },
  {
   "cell_type": "code",
   "execution_count": null,
   "metadata": {},
   "outputs": [],
   "source": []
  },
  {
   "cell_type": "markdown",
   "metadata": {},
   "source": [
    "## Exercício 3"
   ]
  },
  {
   "cell_type": "markdown",
   "metadata": {},
   "source": [
    "Os arquivos var1.csv e var2.csv contém amostras **correlacionadas** de duas variáveis aleatórias **não independentes** $X$ e $Y$.\n",
    "\n",
    "Dados:\n",
    "\n",
    "$\\mu_X = 20$\n",
    "\n",
    "$\\mu_Y = 25$\n",
    "\n",
    "$\\sigma_X^2 = 25$\n",
    "\n",
    "$\\sigma_Y^2 = 16$\n",
    "\n",
    "$Cov(X,Y) = 10$\n",
    "\n",
    "\n",
    "Faça:\n",
    "* Calcule a média e o desvio padrão de Z = X + Y usando a teoria\n",
    "* verifique nos dados se o resultado é coerente\n"
   ]
  },
  {
   "cell_type": "markdown",
   "metadata": {},
   "source": [
    "**Resposta usando teoria**\n",
    "\n",
    "$E(Z) = ...$\n",
    "\n",
    "\n",
    "$V(Z) = ...$"
   ]
  },
  {
   "cell_type": "markdown",
   "metadata": {},
   "source": [
    "**Agora simulação**"
   ]
  },
  {
   "cell_type": "code",
   "execution_count": null,
   "metadata": {},
   "outputs": [],
   "source": []
  },
  {
   "cell_type": "markdown",
   "metadata": {},
   "source": [
    "___\n",
    "## Exercício 4\n",
    "\n",
    "Um processo industrial pode ser executado em duas etapas independentes. O tempo gasto em cada etapa segue uma distribuição com média de 5 horas e desvio-padrão de 10 horas. \n",
    "Um engenheiro resolveu modificar o processo de produção fazendo com que seja executado numa única fase, cujo tempo de execução é o dobro da primeira etapa do processo atual.\n",
    "Vale a pena adotar o processo proposto pelo engenheiro?\n"
   ]
  },
  {
   "cell_type": "markdown",
   "metadata": {},
   "source": [
    " \n",
    "**R.:** \n",
    "\n",
    "...\n"
   ]
  },
  {
   "cell_type": "code",
   "execution_count": null,
   "metadata": {},
   "outputs": [],
   "source": []
  },
  {
   "cell_type": "markdown",
   "metadata": {},
   "source": [
    "___\n",
    "## Exercício 5 \n",
    "\n",
    "Uma pessoa irá comprar uma camisa e uma calça. Os dois produtos serão adquiridos numa mesma loja. O preço da camisa segue uma distribuição aproximadamente normal de média 45,00 reais e desvio-padrão 3,00 reais. O preço da calça segue uma distribuição aproximadamente normal de média 60,00 reais e desvio-padrão 5,00 reais. Sabe-se ainda que a correlação entre os preços da camisa e da calça é da ordem de 0,25 e que o gasto com a compra de uma camisa e uma calça seja modelado por uma distribuição normal.\n",
    "\n",
    "a) Uma pessoa possui apenas 95,00 reais para comprar a camisa e a calça, indo a um único estabelecimento escolhido ao acaso, qual é a probabilidade de conseguir comprar os dois produtos? Considere que o gasto total com a compra de uma calça e uma camisa também segue uma distribuição aproximadamente normal.\n",
    "\n",
    "b) Indo a um único estabelecimento, qual a probabilidade de se pagar mais caro na camisa do que na calça?\n",
    "\n"
   ]
  },
  {
   "cell_type": "markdown",
   "metadata": {},
   "source": [
    "**R.:** \n",
    "\n",
    "..."
   ]
  },
  {
   "cell_type": "code",
   "execution_count": null,
   "metadata": {},
   "outputs": [],
   "source": []
  },
  {
   "cell_type": "markdown",
   "metadata": {},
   "source": [
    "___\n",
    "## Exercício 6\n",
    "\n",
    "O preço de compra, em reais, de cada unidade da matéria-prima M1 não é fixo (único), pois pode variar de região para região brasileira. Neste caso, assuma que o preço de M1 pode ser modelado por uma distribuição normal com média 15 reais e desvio padrão 3 reais. \n",
    "\n",
    "a) Qual é o menor valor cobrado pela matéria-prima M1 referente aos 39% dos locais mais careiros?\n",
    "\n",
    "b) Um determinado produto, que será lançado no mercado, é composto por três unidades de mesmo valor da matéria-prima M1. Ainda, na fabricação desse produto, há um custo fixo de 30 reais por produto produzido. O valor comercializado de cada produto será definido para que se tenha um lucro de 35% sobre o valor da etiqueta. Encontre a esperança, variância e distribuição do valor comercializado de cada produto.\n"
   ]
  },
  {
   "cell_type": "markdown",
   "metadata": {},
   "source": [
    "**R.:** ..."
   ]
  },
  {
   "cell_type": "code",
   "execution_count": null,
   "metadata": {},
   "outputs": [],
   "source": []
  }
 ],
 "metadata": {
  "kernelspec": {
   "display_name": "Python 3",
   "language": "python",
   "name": "python3"
  },
  "language_info": {
   "codemirror_mode": {
    "name": "ipython",
    "version": 3
   },
   "file_extension": ".py",
   "mimetype": "text/x-python",
   "name": "python",
   "nbconvert_exporter": "python",
   "pygments_lexer": "ipython3",
   "version": "3.5.5"
  }
 },
 "nbformat": 4,
 "nbformat_minor": 2
}
