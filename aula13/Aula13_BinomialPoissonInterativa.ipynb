{
 "cells": [
  {
   "cell_type": "markdown",
   "metadata": {},
   "source": [
    "# Binomial interativa"
   ]
  },
  {
   "cell_type": "markdown",
   "metadata": {},
   "source": [
    "**Atenção:** Estes exemplos não funcionam no `Jupyter Lab`, que ainda não tem suporte a *widgets*. Teste-os no `Jupyter Notebook`"
   ]
  },
  {
   "cell_type": "markdown",
   "metadata": {},
   "source": [
    "Observe o que acontece com o contorno da binomial à medida que o número de ensaios se torna grande"
   ]
  },
  {
   "cell_type": "code",
   "execution_count": 8,
   "metadata": {},
   "outputs": [],
   "source": [
    "%matplotlib inline\n",
    "import matplotlib.pyplot as plt\n",
    "from scipy.stats import binom, poisson\n",
    "from ipywidgets import interact, IntSlider, FloatSlider"
   ]
  },
  {
   "cell_type": "code",
   "execution_count": 58,
   "metadata": {},
   "outputs": [],
   "source": [
    "def plot_bin(n, p):\n",
    "    x = range(0, n+1)\n",
    "    y = binom.pmf(x,n,p )\n",
    "    cdf = binom.cdf(x,n,p)\n",
    "    plt.figure(figsize=(13,5))\n",
    "    plt.subplot(121)\n",
    "    plt.plot(x,y,'ro')\n",
    "    plt.title(\"PMF - Função de probabilidade\")\n",
    "    plt.subplot(122)\n",
    "    plt.step(x, cdf, 'b', where=\"post\")\n",
    "    plt.title(\"FDA - Cumulativa\")"
   ]
  },
  {
   "cell_type": "code",
   "execution_count": 59,
   "metadata": {},
   "outputs": [
    {
     "data": {
      "application/vnd.jupyter.widget-view+json": {
       "model_id": "bf450108a2004c9bbf19f41410f528ec",
       "version_major": 2,
       "version_minor": 0
      },
      "text/plain": [
       "interactive(children=(IntSlider(value=5, description='n'), FloatSlider(value=0.5, description='p', max=1.0, mi…"
      ]
     },
     "metadata": {},
     "output_type": "display_data"
    }
   ],
   "source": [
    "interact(plot_bin, n=IntSlider(min=0, max=100, step=1, value=5), p = FloatSlider(min=0.1, max=1, step=0.05, value=0.5));"
   ]
  },
  {
   "cell_type": "code",
   "execution_count": null,
   "metadata": {},
   "outputs": [],
   "source": []
  },
  {
   "cell_type": "markdown",
   "metadata": {},
   "source": [
    "# Poisson interativa"
   ]
  },
  {
   "cell_type": "code",
   "execution_count": 53,
   "metadata": {},
   "outputs": [],
   "source": [
    "lambd = 0.5"
   ]
  },
  {
   "cell_type": "code",
   "execution_count": 60,
   "metadata": {},
   "outputs": [],
   "source": [
    "def plot_exp(lamb):\n",
    "    x = range(0, 20)\n",
    "    plt.figure(figsize=(13,5))\n",
    "    y = poisson.pmf(x, mu=lamb )\n",
    "    cdf = poisson.cdf(x, mu=lamb)\n",
    "    plt.subplot(\"121\")\n",
    "    plt.plot(x,y,'ro')\n",
    "    plt.title(\"PMF - Função de Probabilidade da Exponencial\")\n",
    "    plt.subplot(\"122\")\n",
    "    plt.step(x, cdf, 'b', where=\"post\")\n",
    "    plt.title(\"FDA - Cumulativa da Exponencial\")\n",
    "\n",
    "\n",
    "    \n",
    "    "
   ]
  },
  {
   "cell_type": "code",
   "execution_count": 61,
   "metadata": {},
   "outputs": [
    {
     "data": {
      "application/vnd.jupyter.widget-view+json": {
       "model_id": "328bf2d76136452b829ef5cac83305b9",
       "version_major": 2,
       "version_minor": 0
      },
      "text/plain": [
       "interactive(children=(FloatSlider(value=0.5, description='lamb', max=5.0, min=0.1, step=0.2), Output()), _dom_…"
      ]
     },
     "metadata": {},
     "output_type": "display_data"
    }
   ],
   "source": [
    "interact(plot_exp, lamb=FloatSlider(min=0.1, max=5, step=0.2, value=lambd));"
   ]
  },
  {
   "cell_type": "code",
   "execution_count": null,
   "metadata": {},
   "outputs": [],
   "source": []
  }
 ],
 "metadata": {
  "kernelspec": {
   "display_name": "Python 3",
   "language": "python",
   "name": "python3"
  },
  "language_info": {
   "codemirror_mode": {
    "name": "ipython",
    "version": 3
   },
   "file_extension": ".py",
   "mimetype": "text/x-python",
   "name": "python",
   "nbconvert_exporter": "python",
   "pygments_lexer": "ipython3",
   "version": "3.5.5"
  }
 },
 "nbformat": 4,
 "nbformat_minor": 2
}
