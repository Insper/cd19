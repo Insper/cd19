{
 "cells": [
  {
   "cell_type": "code",
   "execution_count": null,
   "metadata": {},
   "outputs": [],
   "source": [
    "%matplotlib inline\n",
    "import numpy as np\n",
    "import matplotlib.pyplot as plt\n",
    "from scipy.stats import binom, poisson\n",
    "from ipywidgets import interact, IntSlider, FloatSlider"
   ]
  },
  {
   "cell_type": "markdown",
   "metadata": {},
   "source": [
    "# Binomial interativa"
   ]
  },
  {
   "cell_type": "markdown",
   "metadata": {},
   "source": [
    "**Atenção:** Estes exemplos não funcionam no `Jupyter Lab`, que ainda não tem suporte a *widgets*. Teste-os no `Jupyter Notebook`"
   ]
  },
  {
   "cell_type": "markdown",
   "metadata": {},
   "source": [
    "Observe o que acontece com o contorno da binomial à medida que o número de ensaios se torna grande"
   ]
  },
  {
   "cell_type": "code",
   "execution_count": null,
   "metadata": {},
   "outputs": [],
   "source": [
    "def plot_bin(n, p):\n",
    "    # Cria uma faixa de valores para a variável aleatória x.\n",
    "    x = np.arange(0, n + 1)\n",
    "    \n",
    "    # Calcula a função de probabilidade e a função cumulativa para cada valor de x.\n",
    "    y = binom.pmf(x, n, p)\n",
    "    cdf = binom.cdf(x,n,p)\n",
    "    \n",
    "    # Desenha a PMF e a cumulativa.\n",
    "    plt.figure(figsize=(13,5))\n",
    "    \n",
    "    plt.subplot(1, 2, 1)\n",
    "    plt.plot(x,y,'ro')\n",
    "    plt.title(\"PMF - Função de probabilidade\")\n",
    "\n",
    "    plt.subplot(1, 2, 2)\n",
    "    plt.step(x, cdf, 'b', where=\"post\")\n",
    "    plt.title(\"FDA - Cumulativa\")\n",
    "\n",
    "    plt.show()\n",
    "    \n",
    "interact(plot_bin, \n",
    "         n = IntSlider(min=0, max=100, step=1, value=5), \n",
    "         p = FloatSlider(min=0.1, max=1, step=0.05, value=0.5));"
   ]
  },
  {
   "cell_type": "markdown",
   "metadata": {},
   "source": [
    "# Poisson interativa"
   ]
  },
  {
   "cell_type": "code",
   "execution_count": null,
   "metadata": {},
   "outputs": [],
   "source": [
    "def plot_poisson(lamb):\n",
    "    # Cria uma faixa de valores para a variável aleatória x.\n",
    "    x = np.arange(0, 20)\n",
    "\n",
    "    # Calcula a função de probabilidade e a função cumulativa para cada valor de x.\n",
    "    y = poisson.pmf(x, mu=lamb)\n",
    "    cdf = poisson.cdf(x, mu=lamb)\n",
    "    \n",
    "    # Desenha a PMF e a cumulativa.\n",
    "    plt.figure(figsize=(13,5))\n",
    "\n",
    "    plt.subplot(1, 2, 1)\n",
    "    plt.plot(x,y,'ro')\n",
    "    plt.title(\"PMF - Função de Probabilidade da Poisson\")\n",
    "    \n",
    "    plt.subplot(1, 2, 2)\n",
    "    plt.step(x, cdf, 'b', where=\"post\")\n",
    "    plt.title(\"FDA - Cumulativa da Poisson\")\n",
    "    \n",
    "    plt.show()\n",
    "\n",
    "interact(plot_poisson, \n",
    "         lamb = FloatSlider(min=0.1, max=5, step=0.2, value=0.5));"
   ]
  }
 ],
 "metadata": {
  "kernelspec": {
   "display_name": "Python 3",
   "language": "python",
   "name": "python3"
  },
  "language_info": {
   "codemirror_mode": {
    "name": "ipython",
    "version": 3
   },
   "file_extension": ".py",
   "mimetype": "text/x-python",
   "name": "python",
   "nbconvert_exporter": "python",
   "pygments_lexer": "ipython3",
   "version": "3.7.3"
  }
 },
 "nbformat": 4,
 "nbformat_minor": 2
}
