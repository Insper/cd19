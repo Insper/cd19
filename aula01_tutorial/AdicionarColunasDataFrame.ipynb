{
 "cells": [
  {
   "cell_type": "markdown",
   "metadata": {},
   "source": [
    "# Estender um DataFrame - várias colunas ao mesmo tempo"
   ]
  },
  {
   "cell_type": "code",
   "execution_count": 1,
   "metadata": {},
   "outputs": [],
   "source": [
    "import numpy as np\n",
    "import pandas as pd"
   ]
  },
  {
   "cell_type": "markdown",
   "metadata": {},
   "source": [
    "Vamos primeiro criar um dataframe simples para usarmos como exemplo"
   ]
  },
  {
   "cell_type": "code",
   "execution_count": 2,
   "metadata": {},
   "outputs": [],
   "source": [
    "colunas = list(\"ABCDE\")"
   ]
  },
  {
   "cell_type": "code",
   "execution_count": 3,
   "metadata": {},
   "outputs": [
    {
     "data": {
      "text/plain": [
       "['A', 'B', 'C', 'D', 'E']"
      ]
     },
     "execution_count": 3,
     "metadata": {},
     "output_type": "execute_result"
    }
   ],
   "source": [
    "colunas"
   ]
  },
  {
   "cell_type": "code",
   "execution_count": 4,
   "metadata": {},
   "outputs": [],
   "source": [
    "matriz  = np.random.randn(4,5) # a função *randn* gera números distribuídos conforme uma normal"
   ]
  },
  {
   "cell_type": "code",
   "execution_count": 5,
   "metadata": {},
   "outputs": [
    {
     "data": {
      "text/plain": [
       "array([[-1.45482371, -1.6632692 ,  2.03371687,  1.25321875,  0.08843708],\n",
       "       [-1.11296637, -2.23279793, -1.43774462, -0.46873404,  1.29056116],\n",
       "       [ 0.05771814,  0.11418554, -0.38756922,  0.74262325, -0.86868455],\n",
       "       [ 0.96394115,  1.34666005, -1.25336067, -0.11702625, -0.0088835 ]])"
      ]
     },
     "execution_count": 5,
     "metadata": {},
     "output_type": "execute_result"
    }
   ],
   "source": [
    "matriz"
   ]
  },
  {
   "cell_type": "code",
   "execution_count": 6,
   "metadata": {},
   "outputs": [],
   "source": [
    "dados = pd.DataFrame(columns=colunas, data=matriz)"
   ]
  },
  {
   "cell_type": "code",
   "execution_count": 7,
   "metadata": {},
   "outputs": [
    {
     "data": {
      "text/html": [
       "<div>\n",
       "<style scoped>\n",
       "    .dataframe tbody tr th:only-of-type {\n",
       "        vertical-align: middle;\n",
       "    }\n",
       "\n",
       "    .dataframe tbody tr th {\n",
       "        vertical-align: top;\n",
       "    }\n",
       "\n",
       "    .dataframe thead th {\n",
       "        text-align: right;\n",
       "    }\n",
       "</style>\n",
       "<table border=\"1\" class=\"dataframe\">\n",
       "  <thead>\n",
       "    <tr style=\"text-align: right;\">\n",
       "      <th></th>\n",
       "      <th>A</th>\n",
       "      <th>B</th>\n",
       "      <th>C</th>\n",
       "      <th>D</th>\n",
       "      <th>E</th>\n",
       "    </tr>\n",
       "  </thead>\n",
       "  <tbody>\n",
       "    <tr>\n",
       "      <th>0</th>\n",
       "      <td>-1.454824</td>\n",
       "      <td>-1.663269</td>\n",
       "      <td>2.033717</td>\n",
       "      <td>1.253219</td>\n",
       "      <td>0.088437</td>\n",
       "    </tr>\n",
       "    <tr>\n",
       "      <th>1</th>\n",
       "      <td>-1.112966</td>\n",
       "      <td>-2.232798</td>\n",
       "      <td>-1.437745</td>\n",
       "      <td>-0.468734</td>\n",
       "      <td>1.290561</td>\n",
       "    </tr>\n",
       "    <tr>\n",
       "      <th>2</th>\n",
       "      <td>0.057718</td>\n",
       "      <td>0.114186</td>\n",
       "      <td>-0.387569</td>\n",
       "      <td>0.742623</td>\n",
       "      <td>-0.868685</td>\n",
       "    </tr>\n",
       "    <tr>\n",
       "      <th>3</th>\n",
       "      <td>0.963941</td>\n",
       "      <td>1.346660</td>\n",
       "      <td>-1.253361</td>\n",
       "      <td>-0.117026</td>\n",
       "      <td>-0.008884</td>\n",
       "    </tr>\n",
       "  </tbody>\n",
       "</table>\n",
       "</div>"
      ],
      "text/plain": [
       "          A         B         C         D         E\n",
       "0 -1.454824 -1.663269  2.033717  1.253219  0.088437\n",
       "1 -1.112966 -2.232798 -1.437745 -0.468734  1.290561\n",
       "2  0.057718  0.114186 -0.387569  0.742623 -0.868685\n",
       "3  0.963941  1.346660 -1.253361 -0.117026 -0.008884"
      ]
     },
     "execution_count": 7,
     "metadata": {},
     "output_type": "execute_result"
    }
   ],
   "source": [
    "dados"
   ]
  },
  {
   "cell_type": "markdown",
   "metadata": {},
   "source": [
    "Agora que temos o dataframe `dados` mostrado acima, vamos estendê-lo. Adicionar uma coluna é fácil"
   ]
  },
  {
   "cell_type": "code",
   "execution_count": 8,
   "metadata": {},
   "outputs": [],
   "source": [
    "dados[\"F\"] = np.random.randn(4)"
   ]
  },
  {
   "cell_type": "code",
   "execution_count": 9,
   "metadata": {},
   "outputs": [
    {
     "data": {
      "text/html": [
       "<div>\n",
       "<style scoped>\n",
       "    .dataframe tbody tr th:only-of-type {\n",
       "        vertical-align: middle;\n",
       "    }\n",
       "\n",
       "    .dataframe tbody tr th {\n",
       "        vertical-align: top;\n",
       "    }\n",
       "\n",
       "    .dataframe thead th {\n",
       "        text-align: right;\n",
       "    }\n",
       "</style>\n",
       "<table border=\"1\" class=\"dataframe\">\n",
       "  <thead>\n",
       "    <tr style=\"text-align: right;\">\n",
       "      <th></th>\n",
       "      <th>A</th>\n",
       "      <th>B</th>\n",
       "      <th>C</th>\n",
       "      <th>D</th>\n",
       "      <th>E</th>\n",
       "      <th>F</th>\n",
       "    </tr>\n",
       "  </thead>\n",
       "  <tbody>\n",
       "    <tr>\n",
       "      <th>0</th>\n",
       "      <td>-1.454824</td>\n",
       "      <td>-1.663269</td>\n",
       "      <td>2.033717</td>\n",
       "      <td>1.253219</td>\n",
       "      <td>0.088437</td>\n",
       "      <td>-1.001423</td>\n",
       "    </tr>\n",
       "    <tr>\n",
       "      <th>1</th>\n",
       "      <td>-1.112966</td>\n",
       "      <td>-2.232798</td>\n",
       "      <td>-1.437745</td>\n",
       "      <td>-0.468734</td>\n",
       "      <td>1.290561</td>\n",
       "      <td>1.057389</td>\n",
       "    </tr>\n",
       "    <tr>\n",
       "      <th>2</th>\n",
       "      <td>0.057718</td>\n",
       "      <td>0.114186</td>\n",
       "      <td>-0.387569</td>\n",
       "      <td>0.742623</td>\n",
       "      <td>-0.868685</td>\n",
       "      <td>1.859808</td>\n",
       "    </tr>\n",
       "    <tr>\n",
       "      <th>3</th>\n",
       "      <td>0.963941</td>\n",
       "      <td>1.346660</td>\n",
       "      <td>-1.253361</td>\n",
       "      <td>-0.117026</td>\n",
       "      <td>-0.008884</td>\n",
       "      <td>2.002477</td>\n",
       "    </tr>\n",
       "  </tbody>\n",
       "</table>\n",
       "</div>"
      ],
      "text/plain": [
       "          A         B         C         D         E         F\n",
       "0 -1.454824 -1.663269  2.033717  1.253219  0.088437 -1.001423\n",
       "1 -1.112966 -2.232798 -1.437745 -0.468734  1.290561  1.057389\n",
       "2  0.057718  0.114186 -0.387569  0.742623 -0.868685  1.859808\n",
       "3  0.963941  1.346660 -1.253361 -0.117026 -0.008884  2.002477"
      ]
     },
     "execution_count": 9,
     "metadata": {},
     "output_type": "execute_result"
    }
   ],
   "source": [
    "dados"
   ]
  },
  {
   "cell_type": "markdown",
   "metadata": {},
   "source": [
    "Poderíamos ainda estender o DataFrame adicionando valores constantes. Mas esta opção só pode ser usada para adicionar **uma coluna por vez**"
   ]
  },
  {
   "cell_type": "code",
   "execution_count": 10,
   "metadata": {},
   "outputs": [],
   "source": [
    "dados[\"G\"] = 0"
   ]
  },
  {
   "cell_type": "code",
   "execution_count": 11,
   "metadata": {},
   "outputs": [
    {
     "data": {
      "text/html": [
       "<div>\n",
       "<style scoped>\n",
       "    .dataframe tbody tr th:only-of-type {\n",
       "        vertical-align: middle;\n",
       "    }\n",
       "\n",
       "    .dataframe tbody tr th {\n",
       "        vertical-align: top;\n",
       "    }\n",
       "\n",
       "    .dataframe thead th {\n",
       "        text-align: right;\n",
       "    }\n",
       "</style>\n",
       "<table border=\"1\" class=\"dataframe\">\n",
       "  <thead>\n",
       "    <tr style=\"text-align: right;\">\n",
       "      <th></th>\n",
       "      <th>A</th>\n",
       "      <th>B</th>\n",
       "      <th>C</th>\n",
       "      <th>D</th>\n",
       "      <th>E</th>\n",
       "      <th>F</th>\n",
       "      <th>G</th>\n",
       "    </tr>\n",
       "  </thead>\n",
       "  <tbody>\n",
       "    <tr>\n",
       "      <th>0</th>\n",
       "      <td>-1.454824</td>\n",
       "      <td>-1.663269</td>\n",
       "      <td>2.033717</td>\n",
       "      <td>1.253219</td>\n",
       "      <td>0.088437</td>\n",
       "      <td>-1.001423</td>\n",
       "      <td>0</td>\n",
       "    </tr>\n",
       "    <tr>\n",
       "      <th>1</th>\n",
       "      <td>-1.112966</td>\n",
       "      <td>-2.232798</td>\n",
       "      <td>-1.437745</td>\n",
       "      <td>-0.468734</td>\n",
       "      <td>1.290561</td>\n",
       "      <td>1.057389</td>\n",
       "      <td>0</td>\n",
       "    </tr>\n",
       "    <tr>\n",
       "      <th>2</th>\n",
       "      <td>0.057718</td>\n",
       "      <td>0.114186</td>\n",
       "      <td>-0.387569</td>\n",
       "      <td>0.742623</td>\n",
       "      <td>-0.868685</td>\n",
       "      <td>1.859808</td>\n",
       "      <td>0</td>\n",
       "    </tr>\n",
       "    <tr>\n",
       "      <th>3</th>\n",
       "      <td>0.963941</td>\n",
       "      <td>1.346660</td>\n",
       "      <td>-1.253361</td>\n",
       "      <td>-0.117026</td>\n",
       "      <td>-0.008884</td>\n",
       "      <td>2.002477</td>\n",
       "      <td>0</td>\n",
       "    </tr>\n",
       "  </tbody>\n",
       "</table>\n",
       "</div>"
      ],
      "text/plain": [
       "          A         B         C         D         E         F  G\n",
       "0 -1.454824 -1.663269  2.033717  1.253219  0.088437 -1.001423  0\n",
       "1 -1.112966 -2.232798 -1.437745 -0.468734  1.290561  1.057389  0\n",
       "2  0.057718  0.114186 -0.387569  0.742623 -0.868685  1.859808  0\n",
       "3  0.963941  1.346660 -1.253361 -0.117026 -0.008884  2.002477  0"
      ]
     },
     "execution_count": 11,
     "metadata": {},
     "output_type": "execute_result"
    }
   ],
   "source": [
    "dados"
   ]
  },
  {
   "cell_type": "markdown",
   "metadata": {},
   "source": [
    "## Adicionando mais de uma coluna ao mesmo tempo"
   ]
  },
  {
   "cell_type": "markdown",
   "metadata": {},
   "source": [
    "Para poder adicionar mais de uma coluna por vez, a chave é criar um DataFrame vazio para inicializar as colunas"
   ]
  },
  {
   "cell_type": "code",
   "execution_count": 12,
   "metadata": {},
   "outputs": [],
   "source": [
    "new_columns = list(\"HIJKL\")"
   ]
  },
  {
   "cell_type": "markdown",
   "metadata": {},
   "source": [
    "Nomes das colunas a serem adicionadas"
   ]
  },
  {
   "cell_type": "code",
   "execution_count": 13,
   "metadata": {},
   "outputs": [
    {
     "data": {
      "text/plain": [
       "['H', 'I', 'J', 'K', 'L']"
      ]
     },
     "execution_count": 13,
     "metadata": {},
     "output_type": "execute_result"
    }
   ],
   "source": [
    "new_columns"
   ]
  },
  {
   "cell_type": "markdown",
   "metadata": {},
   "source": [
    "O que precisamos criar é uma matriz de zeros para preencher as novas colunas criadas.\n",
    "\n",
    "Esta matriz precisa ter `len(new_columns)` de largura (número de colunas)  por `len(dados)` de altura (número de linhas)"
   ]
  },
  {
   "cell_type": "code",
   "execution_count": 14,
   "metadata": {},
   "outputs": [
    {
     "data": {
      "text/plain": [
       "array([[0., 0., 0., 0., 0.],\n",
       "       [0., 0., 0., 0., 0.],\n",
       "       [0., 0., 0., 0., 0.],\n",
       "       [0., 0., 0., 0., 0.]])"
      ]
     },
     "execution_count": 14,
     "metadata": {},
     "output_type": "execute_result"
    }
   ],
   "source": [
    "np.zeros(shape=(len(dados), len(new_columns)))"
   ]
  },
  {
   "cell_type": "code",
   "execution_count": 15,
   "metadata": {},
   "outputs": [],
   "source": [
    "dados[new_columns] = pd.DataFrame(np.zeros(shape=(len(dados), len(new_columns))))"
   ]
  },
  {
   "cell_type": "code",
   "execution_count": 16,
   "metadata": {},
   "outputs": [
    {
     "data": {
      "text/html": [
       "<div>\n",
       "<style scoped>\n",
       "    .dataframe tbody tr th:only-of-type {\n",
       "        vertical-align: middle;\n",
       "    }\n",
       "\n",
       "    .dataframe tbody tr th {\n",
       "        vertical-align: top;\n",
       "    }\n",
       "\n",
       "    .dataframe thead th {\n",
       "        text-align: right;\n",
       "    }\n",
       "</style>\n",
       "<table border=\"1\" class=\"dataframe\">\n",
       "  <thead>\n",
       "    <tr style=\"text-align: right;\">\n",
       "      <th></th>\n",
       "      <th>A</th>\n",
       "      <th>B</th>\n",
       "      <th>C</th>\n",
       "      <th>D</th>\n",
       "      <th>E</th>\n",
       "      <th>F</th>\n",
       "      <th>G</th>\n",
       "      <th>H</th>\n",
       "      <th>I</th>\n",
       "      <th>J</th>\n",
       "      <th>K</th>\n",
       "      <th>L</th>\n",
       "    </tr>\n",
       "  </thead>\n",
       "  <tbody>\n",
       "    <tr>\n",
       "      <th>0</th>\n",
       "      <td>-1.454824</td>\n",
       "      <td>-1.663269</td>\n",
       "      <td>2.033717</td>\n",
       "      <td>1.253219</td>\n",
       "      <td>0.088437</td>\n",
       "      <td>-1.001423</td>\n",
       "      <td>0</td>\n",
       "      <td>0.0</td>\n",
       "      <td>0.0</td>\n",
       "      <td>0.0</td>\n",
       "      <td>0.0</td>\n",
       "      <td>0.0</td>\n",
       "    </tr>\n",
       "    <tr>\n",
       "      <th>1</th>\n",
       "      <td>-1.112966</td>\n",
       "      <td>-2.232798</td>\n",
       "      <td>-1.437745</td>\n",
       "      <td>-0.468734</td>\n",
       "      <td>1.290561</td>\n",
       "      <td>1.057389</td>\n",
       "      <td>0</td>\n",
       "      <td>0.0</td>\n",
       "      <td>0.0</td>\n",
       "      <td>0.0</td>\n",
       "      <td>0.0</td>\n",
       "      <td>0.0</td>\n",
       "    </tr>\n",
       "    <tr>\n",
       "      <th>2</th>\n",
       "      <td>0.057718</td>\n",
       "      <td>0.114186</td>\n",
       "      <td>-0.387569</td>\n",
       "      <td>0.742623</td>\n",
       "      <td>-0.868685</td>\n",
       "      <td>1.859808</td>\n",
       "      <td>0</td>\n",
       "      <td>0.0</td>\n",
       "      <td>0.0</td>\n",
       "      <td>0.0</td>\n",
       "      <td>0.0</td>\n",
       "      <td>0.0</td>\n",
       "    </tr>\n",
       "    <tr>\n",
       "      <th>3</th>\n",
       "      <td>0.963941</td>\n",
       "      <td>1.346660</td>\n",
       "      <td>-1.253361</td>\n",
       "      <td>-0.117026</td>\n",
       "      <td>-0.008884</td>\n",
       "      <td>2.002477</td>\n",
       "      <td>0</td>\n",
       "      <td>0.0</td>\n",
       "      <td>0.0</td>\n",
       "      <td>0.0</td>\n",
       "      <td>0.0</td>\n",
       "      <td>0.0</td>\n",
       "    </tr>\n",
       "  </tbody>\n",
       "</table>\n",
       "</div>"
      ],
      "text/plain": [
       "          A         B         C         D         E         F  G    H    I  \\\n",
       "0 -1.454824 -1.663269  2.033717  1.253219  0.088437 -1.001423  0  0.0  0.0   \n",
       "1 -1.112966 -2.232798 -1.437745 -0.468734  1.290561  1.057389  0  0.0  0.0   \n",
       "2  0.057718  0.114186 -0.387569  0.742623 -0.868685  1.859808  0  0.0  0.0   \n",
       "3  0.963941  1.346660 -1.253361 -0.117026 -0.008884  2.002477  0  0.0  0.0   \n",
       "\n",
       "     J    K    L  \n",
       "0  0.0  0.0  0.0  \n",
       "1  0.0  0.0  0.0  \n",
       "2  0.0  0.0  0.0  \n",
       "3  0.0  0.0  0.0  "
      ]
     },
     "execution_count": 16,
     "metadata": {},
     "output_type": "execute_result"
    }
   ],
   "source": [
    "dados"
   ]
  }
 ],
 "metadata": {
  "kernelspec": {
   "display_name": "Python 3",
   "language": "python",
   "name": "python3"
  },
  "language_info": {
   "codemirror_mode": {
    "name": "ipython",
    "version": 3
   },
   "file_extension": ".py",
   "mimetype": "text/x-python",
   "name": "python",
   "nbconvert_exporter": "python",
   "pygments_lexer": "ipython3",
   "version": "3.7.5"
  }
 },
 "nbformat": 4,
 "nbformat_minor": 4
}
