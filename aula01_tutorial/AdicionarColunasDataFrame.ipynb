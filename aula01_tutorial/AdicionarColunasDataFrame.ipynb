{
 "cells": [
  {
   "cell_type": "markdown",
   "metadata": {},
   "source": [
    "# Estender um DataFrame - várias colunas ao mesmo tempo"
   ]
  },
  {
   "cell_type": "code",
   "execution_count": 16,
   "metadata": {},
   "outputs": [],
   "source": [
    "import numpy as np\n",
    "import pandas as pd"
   ]
  },
  {
   "cell_type": "markdown",
   "metadata": {},
   "source": [
    "Vamos primeiro criar um dataframe simples para usarmos como exemplo"
   ]
  },
  {
   "cell_type": "code",
   "execution_count": 3,
   "metadata": {},
   "outputs": [],
   "source": [
    "colunas = list(\"ABCDE\")"
   ]
  },
  {
   "cell_type": "code",
   "execution_count": 4,
   "metadata": {},
   "outputs": [
    {
     "data": {
      "text/plain": [
       "['A', 'B', 'C', 'D', 'E']"
      ]
     },
     "execution_count": 4,
     "metadata": {},
     "output_type": "execute_result"
    }
   ],
   "source": [
    "colunas"
   ]
  },
  {
   "cell_type": "code",
   "execution_count": 19,
   "metadata": {},
   "outputs": [],
   "source": [
    "matriz  = np.random.randn(4,5) # a função *randn* gera números distribuídos conforme uma normal"
   ]
  },
  {
   "cell_type": "code",
   "execution_count": 14,
   "metadata": {},
   "outputs": [
    {
     "data": {
      "text/plain": [
       "array([[ 0.24811079, -0.995426  , -1.13801109,  0.50396141, -1.54120009],\n",
       "       [-0.03768876, -0.75070638, -0.03972063, -1.65480786, -1.31375541],\n",
       "       [ 0.19715971, -1.2832525 , -0.00835976, -2.40080117, -0.3632504 ],\n",
       "       [-0.53230078,  0.72633025,  0.44382278, -0.50285394,  2.7090231 ]])"
      ]
     },
     "execution_count": 14,
     "metadata": {},
     "output_type": "execute_result"
    }
   ],
   "source": [
    "matriz"
   ]
  },
  {
   "cell_type": "code",
   "execution_count": 17,
   "metadata": {},
   "outputs": [],
   "source": [
    "dados = pd.DataFrame(columns=colunas, data=matriz)"
   ]
  },
  {
   "cell_type": "code",
   "execution_count": 18,
   "metadata": {},
   "outputs": [
    {
     "data": {
      "text/html": [
       "<div>\n",
       "<style scoped>\n",
       "    .dataframe tbody tr th:only-of-type {\n",
       "        vertical-align: middle;\n",
       "    }\n",
       "\n",
       "    .dataframe tbody tr th {\n",
       "        vertical-align: top;\n",
       "    }\n",
       "\n",
       "    .dataframe thead th {\n",
       "        text-align: right;\n",
       "    }\n",
       "</style>\n",
       "<table border=\"1\" class=\"dataframe\">\n",
       "  <thead>\n",
       "    <tr style=\"text-align: right;\">\n",
       "      <th></th>\n",
       "      <th>A</th>\n",
       "      <th>B</th>\n",
       "      <th>C</th>\n",
       "      <th>D</th>\n",
       "      <th>E</th>\n",
       "    </tr>\n",
       "  </thead>\n",
       "  <tbody>\n",
       "    <tr>\n",
       "      <th>0</th>\n",
       "      <td>0.248111</td>\n",
       "      <td>-0.995426</td>\n",
       "      <td>-1.138011</td>\n",
       "      <td>0.503961</td>\n",
       "      <td>-1.541200</td>\n",
       "    </tr>\n",
       "    <tr>\n",
       "      <th>1</th>\n",
       "      <td>-0.037689</td>\n",
       "      <td>-0.750706</td>\n",
       "      <td>-0.039721</td>\n",
       "      <td>-1.654808</td>\n",
       "      <td>-1.313755</td>\n",
       "    </tr>\n",
       "    <tr>\n",
       "      <th>2</th>\n",
       "      <td>0.197160</td>\n",
       "      <td>-1.283253</td>\n",
       "      <td>-0.008360</td>\n",
       "      <td>-2.400801</td>\n",
       "      <td>-0.363250</td>\n",
       "    </tr>\n",
       "    <tr>\n",
       "      <th>3</th>\n",
       "      <td>-0.532301</td>\n",
       "      <td>0.726330</td>\n",
       "      <td>0.443823</td>\n",
       "      <td>-0.502854</td>\n",
       "      <td>2.709023</td>\n",
       "    </tr>\n",
       "  </tbody>\n",
       "</table>\n",
       "</div>"
      ],
      "text/plain": [
       "          A         B         C         D         E\n",
       "0  0.248111 -0.995426 -1.138011  0.503961 -1.541200\n",
       "1 -0.037689 -0.750706 -0.039721 -1.654808 -1.313755\n",
       "2  0.197160 -1.283253 -0.008360 -2.400801 -0.363250\n",
       "3 -0.532301  0.726330  0.443823 -0.502854  2.709023"
      ]
     },
     "execution_count": 18,
     "metadata": {},
     "output_type": "execute_result"
    }
   ],
   "source": [
    "dados"
   ]
  },
  {
   "cell_type": "markdown",
   "metadata": {},
   "source": [
    "Agora que temos o dataframe `dados` mostrado acima, vamos estendê-lo. Adicionar uma coluna é fácil"
   ]
  },
  {
   "cell_type": "code",
   "execution_count": 20,
   "metadata": {},
   "outputs": [],
   "source": [
    "dados[\"F\"] = np.random.randn(4)"
   ]
  },
  {
   "cell_type": "code",
   "execution_count": 21,
   "metadata": {},
   "outputs": [
    {
     "data": {
      "text/html": [
       "<div>\n",
       "<style scoped>\n",
       "    .dataframe tbody tr th:only-of-type {\n",
       "        vertical-align: middle;\n",
       "    }\n",
       "\n",
       "    .dataframe tbody tr th {\n",
       "        vertical-align: top;\n",
       "    }\n",
       "\n",
       "    .dataframe thead th {\n",
       "        text-align: right;\n",
       "    }\n",
       "</style>\n",
       "<table border=\"1\" class=\"dataframe\">\n",
       "  <thead>\n",
       "    <tr style=\"text-align: right;\">\n",
       "      <th></th>\n",
       "      <th>A</th>\n",
       "      <th>B</th>\n",
       "      <th>C</th>\n",
       "      <th>D</th>\n",
       "      <th>E</th>\n",
       "      <th>F</th>\n",
       "    </tr>\n",
       "  </thead>\n",
       "  <tbody>\n",
       "    <tr>\n",
       "      <th>0</th>\n",
       "      <td>0.248111</td>\n",
       "      <td>-0.995426</td>\n",
       "      <td>-1.138011</td>\n",
       "      <td>0.503961</td>\n",
       "      <td>-1.541200</td>\n",
       "      <td>-0.155537</td>\n",
       "    </tr>\n",
       "    <tr>\n",
       "      <th>1</th>\n",
       "      <td>-0.037689</td>\n",
       "      <td>-0.750706</td>\n",
       "      <td>-0.039721</td>\n",
       "      <td>-1.654808</td>\n",
       "      <td>-1.313755</td>\n",
       "      <td>0.056595</td>\n",
       "    </tr>\n",
       "    <tr>\n",
       "      <th>2</th>\n",
       "      <td>0.197160</td>\n",
       "      <td>-1.283253</td>\n",
       "      <td>-0.008360</td>\n",
       "      <td>-2.400801</td>\n",
       "      <td>-0.363250</td>\n",
       "      <td>2.138502</td>\n",
       "    </tr>\n",
       "    <tr>\n",
       "      <th>3</th>\n",
       "      <td>-0.532301</td>\n",
       "      <td>0.726330</td>\n",
       "      <td>0.443823</td>\n",
       "      <td>-0.502854</td>\n",
       "      <td>2.709023</td>\n",
       "      <td>3.268589</td>\n",
       "    </tr>\n",
       "  </tbody>\n",
       "</table>\n",
       "</div>"
      ],
      "text/plain": [
       "          A         B         C         D         E         F\n",
       "0  0.248111 -0.995426 -1.138011  0.503961 -1.541200 -0.155537\n",
       "1 -0.037689 -0.750706 -0.039721 -1.654808 -1.313755  0.056595\n",
       "2  0.197160 -1.283253 -0.008360 -2.400801 -0.363250  2.138502\n",
       "3 -0.532301  0.726330  0.443823 -0.502854  2.709023  3.268589"
      ]
     },
     "execution_count": 21,
     "metadata": {},
     "output_type": "execute_result"
    }
   ],
   "source": [
    "dados"
   ]
  },
  {
   "cell_type": "markdown",
   "metadata": {},
   "source": [
    "Poderíamos ainda estender o DataFrame adicionando valores constantes. Mas esta opção só pode ser usada para adicionar **uma coluna por vez**"
   ]
  },
  {
   "cell_type": "code",
   "execution_count": 22,
   "metadata": {},
   "outputs": [],
   "source": [
    "dados[\"G\"] = 0"
   ]
  },
  {
   "cell_type": "code",
   "execution_count": 23,
   "metadata": {},
   "outputs": [
    {
     "data": {
      "text/html": [
       "<div>\n",
       "<style scoped>\n",
       "    .dataframe tbody tr th:only-of-type {\n",
       "        vertical-align: middle;\n",
       "    }\n",
       "\n",
       "    .dataframe tbody tr th {\n",
       "        vertical-align: top;\n",
       "    }\n",
       "\n",
       "    .dataframe thead th {\n",
       "        text-align: right;\n",
       "    }\n",
       "</style>\n",
       "<table border=\"1\" class=\"dataframe\">\n",
       "  <thead>\n",
       "    <tr style=\"text-align: right;\">\n",
       "      <th></th>\n",
       "      <th>A</th>\n",
       "      <th>B</th>\n",
       "      <th>C</th>\n",
       "      <th>D</th>\n",
       "      <th>E</th>\n",
       "      <th>F</th>\n",
       "      <th>G</th>\n",
       "    </tr>\n",
       "  </thead>\n",
       "  <tbody>\n",
       "    <tr>\n",
       "      <th>0</th>\n",
       "      <td>0.248111</td>\n",
       "      <td>-0.995426</td>\n",
       "      <td>-1.138011</td>\n",
       "      <td>0.503961</td>\n",
       "      <td>-1.541200</td>\n",
       "      <td>-0.155537</td>\n",
       "      <td>0</td>\n",
       "    </tr>\n",
       "    <tr>\n",
       "      <th>1</th>\n",
       "      <td>-0.037689</td>\n",
       "      <td>-0.750706</td>\n",
       "      <td>-0.039721</td>\n",
       "      <td>-1.654808</td>\n",
       "      <td>-1.313755</td>\n",
       "      <td>0.056595</td>\n",
       "      <td>0</td>\n",
       "    </tr>\n",
       "    <tr>\n",
       "      <th>2</th>\n",
       "      <td>0.197160</td>\n",
       "      <td>-1.283253</td>\n",
       "      <td>-0.008360</td>\n",
       "      <td>-2.400801</td>\n",
       "      <td>-0.363250</td>\n",
       "      <td>2.138502</td>\n",
       "      <td>0</td>\n",
       "    </tr>\n",
       "    <tr>\n",
       "      <th>3</th>\n",
       "      <td>-0.532301</td>\n",
       "      <td>0.726330</td>\n",
       "      <td>0.443823</td>\n",
       "      <td>-0.502854</td>\n",
       "      <td>2.709023</td>\n",
       "      <td>3.268589</td>\n",
       "      <td>0</td>\n",
       "    </tr>\n",
       "  </tbody>\n",
       "</table>\n",
       "</div>"
      ],
      "text/plain": [
       "          A         B         C         D         E         F  G\n",
       "0  0.248111 -0.995426 -1.138011  0.503961 -1.541200 -0.155537  0\n",
       "1 -0.037689 -0.750706 -0.039721 -1.654808 -1.313755  0.056595  0\n",
       "2  0.197160 -1.283253 -0.008360 -2.400801 -0.363250  2.138502  0\n",
       "3 -0.532301  0.726330  0.443823 -0.502854  2.709023  3.268589  0"
      ]
     },
     "execution_count": 23,
     "metadata": {},
     "output_type": "execute_result"
    }
   ],
   "source": [
    "dados"
   ]
  },
  {
   "cell_type": "markdown",
   "metadata": {},
   "source": [
    "## Adicionando mais de uma coluna ao mesmo tempo"
   ]
  },
  {
   "cell_type": "markdown",
   "metadata": {},
   "source": [
    "Para poder adicionar mais de uma coluna por vez, a chave é criar um DataFrame vazio para inicializar as colunas"
   ]
  },
  {
   "cell_type": "code",
   "execution_count": 36,
   "metadata": {},
   "outputs": [],
   "source": [
    "new_columns = list(\"HIJKL\")"
   ]
  },
  {
   "cell_type": "markdown",
   "metadata": {},
   "source": [
    "Nomes das colunas a serem adicionadas"
   ]
  },
  {
   "cell_type": "code",
   "execution_count": 37,
   "metadata": {},
   "outputs": [
    {
     "data": {
      "text/plain": [
       "['H', 'I', 'J', 'K', 'L']"
      ]
     },
     "execution_count": 37,
     "metadata": {},
     "output_type": "execute_result"
    }
   ],
   "source": [
    "new_columns"
   ]
  },
  {
   "cell_type": "markdown",
   "metadata": {},
   "source": [
    "O que precisamos criar é uma matriz de zeros para preencher as novas colunas criadas.\n",
    "\n",
    "Esta matriz precisa ter `len(new_columns)` de largura (número de colunas)  por `len(dados)` de altura (número de linhas)"
   ]
  },
  {
   "cell_type": "code",
   "execution_count": 44,
   "metadata": {},
   "outputs": [
    {
     "data": {
      "text/plain": [
       "array([[0., 0., 0., 0.],\n",
       "       [0., 0., 0., 0.],\n",
       "       [0., 0., 0., 0.],\n",
       "       [0., 0., 0., 0.],\n",
       "       [0., 0., 0., 0.]])"
      ]
     },
     "execution_count": 44,
     "metadata": {},
     "output_type": "execute_result"
    }
   ],
   "source": [
    "np.zeros(shape=(len(new_columns), len(dados)))"
   ]
  },
  {
   "cell_type": "code",
   "execution_count": 45,
   "metadata": {},
   "outputs": [],
   "source": [
    "dados[new_columns] = pd.DataFrame(np.zeros(shape=(len(dados), len(new_columns))))"
   ]
  },
  {
   "cell_type": "code",
   "execution_count": 46,
   "metadata": {},
   "outputs": [
    {
     "data": {
      "text/html": [
       "<div>\n",
       "<style scoped>\n",
       "    .dataframe tbody tr th:only-of-type {\n",
       "        vertical-align: middle;\n",
       "    }\n",
       "\n",
       "    .dataframe tbody tr th {\n",
       "        vertical-align: top;\n",
       "    }\n",
       "\n",
       "    .dataframe thead th {\n",
       "        text-align: right;\n",
       "    }\n",
       "</style>\n",
       "<table border=\"1\" class=\"dataframe\">\n",
       "  <thead>\n",
       "    <tr style=\"text-align: right;\">\n",
       "      <th></th>\n",
       "      <th>A</th>\n",
       "      <th>B</th>\n",
       "      <th>C</th>\n",
       "      <th>D</th>\n",
       "      <th>E</th>\n",
       "      <th>F</th>\n",
       "      <th>G</th>\n",
       "      <th>H</th>\n",
       "      <th>I</th>\n",
       "      <th>J</th>\n",
       "      <th>K</th>\n",
       "      <th>L</th>\n",
       "    </tr>\n",
       "  </thead>\n",
       "  <tbody>\n",
       "    <tr>\n",
       "      <th>0</th>\n",
       "      <td>0.248111</td>\n",
       "      <td>-0.995426</td>\n",
       "      <td>-1.138011</td>\n",
       "      <td>0.503961</td>\n",
       "      <td>-1.541200</td>\n",
       "      <td>0</td>\n",
       "      <td>0</td>\n",
       "      <td>0.0</td>\n",
       "      <td>0.0</td>\n",
       "      <td>0.0</td>\n",
       "      <td>0.0</td>\n",
       "      <td>0.0</td>\n",
       "    </tr>\n",
       "    <tr>\n",
       "      <th>1</th>\n",
       "      <td>-0.037689</td>\n",
       "      <td>-0.750706</td>\n",
       "      <td>-0.039721</td>\n",
       "      <td>-1.654808</td>\n",
       "      <td>-1.313755</td>\n",
       "      <td>0</td>\n",
       "      <td>0</td>\n",
       "      <td>0.0</td>\n",
       "      <td>0.0</td>\n",
       "      <td>0.0</td>\n",
       "      <td>0.0</td>\n",
       "      <td>0.0</td>\n",
       "    </tr>\n",
       "    <tr>\n",
       "      <th>2</th>\n",
       "      <td>0.197160</td>\n",
       "      <td>-1.283253</td>\n",
       "      <td>-0.008360</td>\n",
       "      <td>-2.400801</td>\n",
       "      <td>-0.363250</td>\n",
       "      <td>0</td>\n",
       "      <td>0</td>\n",
       "      <td>0.0</td>\n",
       "      <td>0.0</td>\n",
       "      <td>0.0</td>\n",
       "      <td>0.0</td>\n",
       "      <td>0.0</td>\n",
       "    </tr>\n",
       "    <tr>\n",
       "      <th>3</th>\n",
       "      <td>-0.532301</td>\n",
       "      <td>0.726330</td>\n",
       "      <td>0.443823</td>\n",
       "      <td>-0.502854</td>\n",
       "      <td>2.709023</td>\n",
       "      <td>0</td>\n",
       "      <td>0</td>\n",
       "      <td>0.0</td>\n",
       "      <td>0.0</td>\n",
       "      <td>0.0</td>\n",
       "      <td>0.0</td>\n",
       "      <td>0.0</td>\n",
       "    </tr>\n",
       "  </tbody>\n",
       "</table>\n",
       "</div>"
      ],
      "text/plain": [
       "          A         B         C         D         E  F  G    H    I    J    K  \\\n",
       "0  0.248111 -0.995426 -1.138011  0.503961 -1.541200  0  0  0.0  0.0  0.0  0.0   \n",
       "1 -0.037689 -0.750706 -0.039721 -1.654808 -1.313755  0  0  0.0  0.0  0.0  0.0   \n",
       "2  0.197160 -1.283253 -0.008360 -2.400801 -0.363250  0  0  0.0  0.0  0.0  0.0   \n",
       "3 -0.532301  0.726330  0.443823 -0.502854  2.709023  0  0  0.0  0.0  0.0  0.0   \n",
       "\n",
       "     L  \n",
       "0  0.0  \n",
       "1  0.0  \n",
       "2  0.0  \n",
       "3  0.0  "
      ]
     },
     "execution_count": 46,
     "metadata": {},
     "output_type": "execute_result"
    }
   ],
   "source": [
    "dados"
   ]
  },
  {
   "cell_type": "code",
   "execution_count": null,
   "metadata": {},
   "outputs": [],
   "source": []
  },
  {
   "cell_type": "code",
   "execution_count": null,
   "metadata": {},
   "outputs": [],
   "source": []
  }
 ],
 "metadata": {
  "kernelspec": {
   "display_name": "Python 3",
   "language": "python",
   "name": "python3"
  },
  "language_info": {
   "codemirror_mode": {
    "name": "ipython",
    "version": 3
   },
   "file_extension": ".py",
   "mimetype": "text/x-python",
   "name": "python",
   "nbconvert_exporter": "python",
   "pygments_lexer": "ipython3",
   "version": "3.7.5"
  }
 },
 "nbformat": 4,
 "nbformat_minor": 4
}
