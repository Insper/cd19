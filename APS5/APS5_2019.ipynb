{
 "cells": [
  {
   "cell_type": "markdown",
   "metadata": {},
   "source": [
    "# Ciência dos Dados 2019\n",
    "\n",
    "## APS 5\n",
    "\n",
    "Entrega:\n",
    "\n",
    "* Você deve **responder** aos itens no Blackboard para que esta APS conte\n",
    "* Entrega da comprovação 7/11 no início da aula *ou* eletrônico via Blackboard\n",
    "\n",
    "\n",
    "Sempre que usar código Python para fazer cálculos indique na folha de respostas os comandos que usou.\n",
    "\n",
    "Leitura prévia:\n",
    "\n",
    "* Magalhães e Lima. *Noções de Probabilidade e Estatística.* Seções 4.3 e 4.4\n",
    "* Montgomery, D., Runger, G.,  Hubele, N. F *Engineering Statistics. 5th Edition*. Seções 4.3 e 4.4\n",
    "\n",
    "\n",
    "\n",
    "\n",
    "\n",
    "\n",
    "\n",
    "\n",
    "\n",
    "\n"
   ]
  },
  {
   "cell_type": "markdown",
   "metadata": {},
   "source": [
    "### Questão 1\n",
    "\n",
    "Suponha que estejamos testando $H_0 : \\mu  = \\mu_0$ versus $H1: \\mu > \\mu_0$. Calcule o valor $P$ para os seguintes valores observados da estatística de teste. (Montgomery 4-28)\n",
    "\n",
    "**a.** $z_0 = 2.35$\n",
    "\n",
    "**b.** $z_0 = 1.53$\n",
    "\n",
    "**c.** $z_0 = -0.15$\n",
    "\n",
    "Agora suponha que estejamos testando  $H_0 : \\mu  = \\mu_0$ versus $H1: \\mu \\neq \\mu_0$, calcule o valor $P$ para os seguintes valores da estatística de teste. (Montgomery 4-29)\n",
    "\n",
    "**e.** $z_0 = 2.45$\n",
    "\n",
    "**f.** $z_0 = -0.25$"
   ]
  },
  {
   "cell_type": "markdown",
   "metadata": {},
   "source": [
    "### Questão 2\n",
    "\n",
    "A vida útil medida em horas de um termopar usado num forno é distribuída de forma normal, com desvio padrão de 20 horas.\n",
    "\n",
    "Uma amostra aleatória de 15 termopares resultou nos seguintes dados:  553, 552, 567, 579, 550, 541, 537, 553, 552, 546, 538, 553, 581, 539, 529. (Montgomery 4-42)\n",
    "\n",
    "\n",
    "**a.** Calcule o desvio padrão de $\\overline{X}$\n",
    "\n",
    "**b.** Calcule o $x_{critico}$\n",
    "\n",
    "**c.** Calcule o valor de $\\overline{x}$\n",
    "\n",
    "**d.** Escreva as hipóteses e conclua o teste\n",
    "\n",
    "**e.**  O que significa o valor p?\n",
    "\n",
    "**f.** Qual o valor p?\n"
   ]
  },
  {
   "cell_type": "markdown",
   "metadata": {},
   "source": [
    "### Questão 3\n",
    "\n",
    "Você foi contratado para avaliar um novo modelo de taco de golfe.  O fabricante quer saber se há evidência de que o coeficiente de restituição médio dos tacos excede 0.82 com nível de significância $\\alpha=0.05$. \n",
    "\n",
    "\n",
    "Em um lançador padronizado de bolas de golfe, foram testados 15 tacos e os coeficientes de restituição medidos foram:\n",
    "\n",
    "0.8411,  0.8191,  0.8182, 0.8125, 0.8580, 0.8532, 0.8483, 0.8276, 0.8042, 0.8730, 0.8282, 0.8359, 0.8750, 0.7983, 0.8660\n",
    "\n",
    "\n",
    "Sabe-se por experiência anterior que o coeficiente de restituição tem distribuição normal, mas você não sabe o $\\sigma$.\n",
    "\n",
    "\n",
    "Pede-se:\n",
    "\n",
    "**a)** Calcule  *s* (lembre-se dos graus de liberdade)\n",
    "\n",
    "**b)** Calcule o valor de $\\overline{x}$\n",
    "\n",
    "**c)** Formule as hipóteses nula e alternativa. Responda se o teste de hipótese vai ter região de rejeição bicaudal ou unicaudal.\n",
    "\n",
    "\n",
    "**d)** Calcule o valor da estatística de teste $t_{obs}$\n",
    "\n",
    "\n",
    "\n",
    "\n",
    "**e)** Calcule o valor de $t_{critico}$\n",
    "\n",
    "**f)** Conclua o teste de hipóteses\n",
    "\n",
    "**g)** Calcule o valor p usando a padronização embutida do Python\n",
    "\n",
    "Dica: para achar a área à esquerda do valor $\\overline{x}$ na *t* que assume $\\mu_0$ faça:\n",
    "\n",
    "stats.t.cdf( $\\overline{x}$ , loc= $\\mu_0$ , scale= $\\frac{s}{\\sqrt{n}}$ , df= $n-1$ )\n"
   ]
  },
  {
   "cell_type": "markdown",
   "metadata": {},
   "source": []
  },
  {
   "cell_type": "code",
   "execution_count": null,
   "metadata": {},
   "outputs": [],
   "source": []
  }
 ],
 "metadata": {
  "kernelspec": {
   "display_name": "Python 3",
   "language": "python",
   "name": "python3"
  },
  "language_info": {
   "codemirror_mode": {
    "name": "ipython",
    "version": 3
   },
   "file_extension": ".py",
   "mimetype": "text/x-python",
   "name": "python",
   "nbconvert_exporter": "python",
   "pygments_lexer": "ipython3",
   "version": "3.5.5"
  }
 },
 "nbformat": 4,
 "nbformat_minor": 2
}
