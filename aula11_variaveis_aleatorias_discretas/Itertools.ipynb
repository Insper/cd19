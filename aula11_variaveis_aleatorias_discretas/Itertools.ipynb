{
 "cells": [
  {
   "cell_type": "markdown",
   "metadata": {},
   "source": [
    "# Explorando o itertools"
   ]
  },
  {
   "cell_type": "markdown",
   "metadata": {},
   "source": [
    "O módulo `itertools` da linguagem *Python* é extremamente útil para fazer análise combinatória.\n",
    "\n",
    "Recomendamos que [leia a documentação para mais informações](https://docs.python.org/3/library/itertools.html)"
   ]
  },
  {
   "cell_type": "code",
   "execution_count": 1,
   "metadata": {},
   "outputs": [],
   "source": [
    "import itertools as it"
   ]
  },
  {
   "cell_type": "markdown",
   "metadata": {},
   "source": [
    "Simulando desfechos de 3 lançamentos de uma moeda"
   ]
  },
  {
   "cell_type": "code",
   "execution_count": 2,
   "metadata": {},
   "outputs": [],
   "source": [
    "possibilidades = [\"cara\", \"coroa\"]"
   ]
  },
  {
   "cell_type": "markdown",
   "metadata": {},
   "source": [
    "### Produto cartesiano"
   ]
  },
  {
   "cell_type": "markdown",
   "metadata": {},
   "source": [
    "A função `product` permite achar todas as combinações de elementos de um conjunto `a` quando cruzados com todos os elementos de um conjunto `c`:"
   ]
  },
  {
   "cell_type": "code",
   "execution_count": 3,
   "metadata": {},
   "outputs": [],
   "source": [
    "a = [\"A\", \"B\"]\n",
    "c = [\"X\", \"Y\"]"
   ]
  },
  {
   "cell_type": "code",
   "execution_count": 4,
   "metadata": {},
   "outputs": [],
   "source": [
    "resultados = it.product(a,c)"
   ]
  },
  {
   "cell_type": "code",
   "execution_count": 5,
   "metadata": {},
   "outputs": [
    {
     "data": {
      "text/plain": [
       "[('A', 'X'), ('A', 'Y'), ('B', 'X'), ('B', 'Y')]"
      ]
     },
     "execution_count": 5,
     "metadata": {},
     "output_type": "execute_result"
    }
   ],
   "source": [
    "list(resultados)"
   ]
  },
  {
   "cell_type": "markdown",
   "metadata": {},
   "source": [
    "Podemos usar o argumento `repeat` para calcular os produtos de um conjunto combinado com ele mesmo.  Desta forma podemos ter o equivalente aos *[arranjos com repetição](http://www.cdcc.usp.br/exper/medio/matematica/matematica_medio/8_permutacao_arranjo_p.pdf)*: "
   ]
  },
  {
   "cell_type": "code",
   "execution_count": 6,
   "metadata": {},
   "outputs": [],
   "source": [
    "result = it.product(possibilidades, repeat=4)"
   ]
  },
  {
   "cell_type": "code",
   "execution_count": 7,
   "metadata": {},
   "outputs": [
    {
     "name": "stdout",
     "output_type": "stream",
     "text": [
      "('cara', 'cara', 'cara', 'cara')\n",
      "('cara', 'cara', 'cara', 'coroa')\n",
      "('cara', 'cara', 'coroa', 'cara')\n",
      "('cara', 'cara', 'coroa', 'coroa')\n",
      "('cara', 'coroa', 'cara', 'cara')\n",
      "('cara', 'coroa', 'cara', 'coroa')\n",
      "('cara', 'coroa', 'coroa', 'cara')\n",
      "('cara', 'coroa', 'coroa', 'coroa')\n",
      "('coroa', 'cara', 'cara', 'cara')\n",
      "('coroa', 'cara', 'cara', 'coroa')\n",
      "('coroa', 'cara', 'coroa', 'cara')\n",
      "('coroa', 'cara', 'coroa', 'coroa')\n",
      "('coroa', 'coroa', 'cara', 'cara')\n",
      "('coroa', 'coroa', 'cara', 'coroa')\n",
      "('coroa', 'coroa', 'coroa', 'cara')\n",
      "('coroa', 'coroa', 'coroa', 'coroa')\n"
     ]
    }
   ],
   "source": [
    "for r in result:\n",
    "    print(r)"
   ]
  },
  {
   "cell_type": "markdown",
   "metadata": {},
   "source": [
    "### Permutações:\n",
    "\n"
   ]
  },
  {
   "cell_type": "markdown",
   "metadata": {},
   "source": [
    "Nas permutações os elementos são combinados em subconjuntos menores ou iguais ao conjunto original, e a ordem importa"
   ]
  },
  {
   "cell_type": "code",
   "execution_count": 8,
   "metadata": {},
   "outputs": [],
   "source": [
    "perm = it.permutations(possibilidades)"
   ]
  },
  {
   "cell_type": "code",
   "execution_count": 9,
   "metadata": {},
   "outputs": [
    {
     "name": "stdout",
     "output_type": "stream",
     "text": [
      "('cara', 'coroa')\n",
      "('coroa', 'cara')\n"
     ]
    }
   ],
   "source": [
    "for c in perm:\n",
    "    print(c)"
   ]
  },
  {
   "cell_type": "markdown",
   "metadata": {},
   "source": [
    "### Combinações com reposição"
   ]
  },
  {
   "cell_type": "markdown",
   "metadata": {},
   "source": [
    "Nas combinações com reposição, a ordem dos elementos não importa"
   ]
  },
  {
   "cell_type": "code",
   "execution_count": 10,
   "metadata": {},
   "outputs": [],
   "source": [
    "combir = it.combinations_with_replacement(possibilidades, r=8)"
   ]
  },
  {
   "cell_type": "code",
   "execution_count": 11,
   "metadata": {},
   "outputs": [
    {
     "name": "stdout",
     "output_type": "stream",
     "text": [
      "('cara', 'cara', 'cara', 'cara', 'cara', 'cara', 'cara', 'cara')\n",
      "('cara', 'cara', 'cara', 'cara', 'cara', 'cara', 'cara', 'coroa')\n",
      "('cara', 'cara', 'cara', 'cara', 'cara', 'cara', 'coroa', 'coroa')\n",
      "('cara', 'cara', 'cara', 'cara', 'cara', 'coroa', 'coroa', 'coroa')\n",
      "('cara', 'cara', 'cara', 'cara', 'coroa', 'coroa', 'coroa', 'coroa')\n",
      "('cara', 'cara', 'cara', 'coroa', 'coroa', 'coroa', 'coroa', 'coroa')\n",
      "('cara', 'cara', 'coroa', 'coroa', 'coroa', 'coroa', 'coroa', 'coroa')\n",
      "('cara', 'coroa', 'coroa', 'coroa', 'coroa', 'coroa', 'coroa', 'coroa')\n",
      "('coroa', 'coroa', 'coroa', 'coroa', 'coroa', 'coroa', 'coroa', 'coroa')\n"
     ]
    }
   ],
   "source": [
    "for cr in combir:\n",
    "    print(cr)"
   ]
  },
  {
   "cell_type": "markdown",
   "metadata": {},
   "source": [
    "### Combinações simples"
   ]
  },
  {
   "cell_type": "markdown",
   "metadata": {},
   "source": [
    "A combinação simples arranja elementos do conjunto original em conjuntos menores que aquele. "
   ]
  },
  {
   "cell_type": "code",
   "execution_count": 12,
   "metadata": {},
   "outputs": [],
   "source": [
    "combi = it.combinations(possibilidades, r=1)"
   ]
  },
  {
   "cell_type": "code",
   "execution_count": 13,
   "metadata": {},
   "outputs": [
    {
     "data": {
      "text/plain": [
       "[('cara',), ('coroa',)]"
      ]
     },
     "execution_count": 13,
     "metadata": {},
     "output_type": "execute_result"
    }
   ],
   "source": [
    "list(combi)"
   ]
  },
  {
   "cell_type": "code",
   "execution_count": 24,
   "metadata": {},
   "outputs": [],
   "source": [
    "combir = it.combinations(possibilidades, r=4)"
   ]
  },
  {
   "cell_type": "code",
   "execution_count": 25,
   "metadata": {},
   "outputs": [
    {
     "data": {
      "text/plain": [
       "[]"
      ]
     },
     "execution_count": 25,
     "metadata": {},
     "output_type": "execute_result"
    }
   ],
   "source": [
    "list(combir)"
   ]
  },
  {
   "cell_type": "code",
   "execution_count": null,
   "metadata": {},
   "outputs": [],
   "source": []
  },
  {
   "cell_type": "code",
   "execution_count": null,
   "metadata": {},
   "outputs": [],
   "source": []
  },
  {
   "cell_type": "code",
   "execution_count": null,
   "metadata": {},
   "outputs": [],
   "source": []
  }
 ],
 "metadata": {
  "kernelspec": {
   "display_name": "Python 3",
   "language": "python",
   "name": "python3"
  },
  "language_info": {
   "codemirror_mode": {
    "name": "ipython",
    "version": 3
   },
   "file_extension": ".py",
   "mimetype": "text/x-python",
   "name": "python",
   "nbconvert_exporter": "python",
   "pygments_lexer": "ipython3",
   "version": "3.5.5"
  }
 },
 "nbformat": 4,
 "nbformat_minor": 2
}
