{
 "cells": [
  {
   "cell_type": "markdown",
   "metadata": {},
   "source": [
    "# Aula 24 - Teste de hipóteses para média populacional \n",
    "\n",
    "# Variância populacional desconhecida"
   ]
  },
  {
   "cell_type": "markdown",
   "metadata": {},
   "source": [
    "___\n",
    "**Preparo Prévio:**\n",
    "1. Magalhães e Lima (7ª. Edição): Seção 8.3\n",
    "2. Montgomery. Estatística Aplicada e Probabilidade para Engenheiros: Seção 9.3\n",
    "\n",
    "\n",
    "\n",
    "**Título completo dos livros:**\n",
    "* MAGALHÃES, M. N.; DE LIMA, A. C. P. Noções de Probabilidade e Estatística (7a edição). Edusp, 2013.\n",
    "* MONTGOMERY, D. Estatística Aplicada e Probabilidade para Engenheiros (6a edição). LTC, 2016.\n",
    "\n",
    "\n",
    "**Hoje:**\n",
    "1. Expandir o Teste de Hipóteses para média em situações com $\\sigma^2$ desconhecida\n",
    "\n",
    "**Nota:**\n",
    "O `Jupyter Lab` ainda não suporta *ipywidgets* , que são usados na parte interativa da Simulação 2. Recomenda-se usar este notebook no `Jupyter Notebook`\n",
    "\n",
    "___"
   ]
  },
  {
   "cell_type": "code",
   "execution_count": 1,
   "metadata": {},
   "outputs": [],
   "source": [
    "from __future__ import print_function\n",
    "from ipywidgets import interact, interactive, fixed, interact_manual\n",
    "import ipywidgets as widgets\n",
    "\n",
    "import matplotlib.pyplot as plt\n",
    "import pandas as pd\n",
    "import numpy as np\n",
    "from scipy import stats"
   ]
  },
  {
   "cell_type": "markdown",
   "metadata": {},
   "source": [
    "# Simulação 1: Variância populacional *vs* Variâncias da amostra\n"
   ]
  },
  {
   "cell_type": "markdown",
   "metadata": {},
   "source": [
    "O objetivo desta simulação é comparar os desvios padrão da amostra calculados por  $\\hat{\\sigma}$ e $s$ como estimadores do desvio padrão da população."
   ]
  },
  {
   "cell_type": "markdown",
   "metadata": {},
   "source": [
    "\n",
    "1. Repita 10000 vezes:\n",
    "    1. Gerar 10 números aleatórios com distribuição $X\\sim N(0,1)$\n",
    "    1. Calcular o desvio padrão usando `std()` e adicionar na lista L1. \n",
    "       Aqui, esse comando calcula o desvio padrão pela expressão: \n",
    "        $$\\hat{\\sigma}=\\sqrt{\\sum_{i=1}^{n}\\frac{(x_i-\\bar{x})^2}{n}}$$.\n",
    "    1. Calcular o desvio padrão usando `std(ddof=1)` e adicionar na lista L2.\n",
    "       Aqui, este segundo comando calcula o desvio padrão amostral pela expressão: \n",
    "        $$s=\\sqrt{\\sum_{i=1}^{n}\\frac{(x_i-\\bar{x})^2}{n-1}}$$.\n",
    "        \n",
    "1. Calcule as médias de L1 e L2. Compare-as. Lembre-se que L1 e L2 pretendem acertar o desvio padrão de $X$. Um dos estimadores é melhor que o outro?"
   ]
  },
  {
   "cell_type": "code",
   "execution_count": null,
   "metadata": {},
   "outputs": [],
   "source": [
    "from scipy.stats import norm\n",
    "import numpy as np\n",
    "\n",
    "#X ~ Normal sendo E(X)=0 e Var(X)=1\n",
    "L1 = []\n",
    "L2 = []\n",
    "for i in range(10000):\n",
    "    X = norm.rvs(loc=0, scale=1, size=10) #Executa item A descrito acima\n",
    "    L1.append(X.std())       #Executa item B\n",
    "    L2.append(X.std(ddof=1)) #Executa item C\n",
    "    \n",
    "print(\"Desvio padrão 𝜎̂ = \", np.mean(L1))\n",
    "print(\"Desvio padrão 𝑠 = \", np.mean(L2))"
   ]
  },
  {
   "cell_type": "markdown",
   "metadata": {},
   "source": [
    "___\n",
    "# Simulação 2: t-Student *vs* Normal Padrão\n",
    "\n",
    "Avalie o formato da distribuição t-Student conforme aumenta o grau de liberdade `graus_lib`.\n",
    "\n",
    "Entenda em qual situação a t-Student se aproxima da Normal Padrão.\n",
    "\n",
    "**Dica:** Lembre-se que o grau de liberdade é calculado fazendo tamanho da amostra menos 1, ou seja, $(n-1)$."
   ]
  },
  {
   "cell_type": "code",
   "execution_count": 3,
   "metadata": {
    "slideshow": {
     "slide_type": "notes"
    }
   },
   "outputs": [
    {
     "data": {
      "application/vnd.jupyter.widget-view+json": {
       "model_id": "9f9cc8b6dc204b48bc3cffd003be6992",
       "version_major": 2,
       "version_minor": 0
      },
      "text/plain": [
       "interactive(children=(IntSlider(value=1, description='graus_lib', min=1), Output()), _dom_classes=('widget-int…"
      ]
     },
     "metadata": {},
     "output_type": "display_data"
    }
   ],
   "source": [
    "#Se não visualizar o pywidgets:\n",
    "#conda install -c conda-forge ipywidgets\n",
    "\n",
    "#Função que utiliza o pywidget\n",
    "@interact(graus_lib = (1, 100, 1))\n",
    "def f(graus_lib = 1):\n",
    "    \n",
    "    #Prints\n",
    "    fig = plt.figure(figsize=(15,6))\n",
    "    \n",
    "    ax1 = fig.add_subplot(121)\n",
    "    ax2 = fig.add_subplot(122)\n",
    "    \n",
    "    #Fit e print da pdf\n",
    "    x = np.arange(-5, 5, 0.01)\n",
    "    ax1.plot(x, stats.norm.pdf(x, loc=0, scale=1), color='r')\n",
    "    ax1.plot(x, stats.t.pdf(x, df=graus_lib, loc=0, scale=1), color='b')\n",
    "    ax1.legend(['Normal', 't-Student'])\n",
    "    \n",
    "    #QQ-Plot\n",
    "    stats.probplot(stats.t.ppf(np.arange(0.01, 1, 0.01), df=graus_lib), dist=stats.norm, sparams=(0, 1), plot=ax2)\n",
    "    \n",
    "    "
   ]
  },
  {
   "cell_type": "markdown",
   "metadata": {},
   "source": [
    "___\n",
    "# Importantíssimo:\n",
    "\n",
    "1. A padronização $t=\\frac{\\bar{X}-\\mu}{S/\\sqrt{n}}$ apenas tem distribuição *t-student* com $n-1$ graus de liberdade se a variável de interesse X segue uma distribuição Normal exata.\n",
    "    \n",
    "    \n",
    "2. Para estimar a variância populacional $\\sigma^2$, utilizamos a variância amostral dada por $s^2=\\frac{1}{n-1}\\sum^n_{i=1}(x_i-\\bar{x})^2$. Note que essa variância divide por $n-1$ e não por $n$. É o que foi discutido na Simulação 1 deste ipynb.\n",
    "\n",
    "   Para melhor compreensão desse novo estimador, **leia Magalhãoes e Lima, 7a. edição - Capítulo 7 - Exemplo 7.10 descrito na pág. 231**."
   ]
  },
  {
   "cell_type": "code",
   "execution_count": null,
   "metadata": {},
   "outputs": [],
   "source": []
  }
 ],
 "metadata": {
  "kernelspec": {
   "display_name": "Python 3",
   "language": "python",
   "name": "python3"
  },
  "language_info": {
   "codemirror_mode": {
    "name": "ipython",
    "version": 3
   },
   "file_extension": ".py",
   "mimetype": "text/x-python",
   "name": "python",
   "nbconvert_exporter": "python",
   "pygments_lexer": "ipython3",
   "version": "3.5.5"
  }
 },
 "nbformat": 4,
 "nbformat_minor": 2
}
