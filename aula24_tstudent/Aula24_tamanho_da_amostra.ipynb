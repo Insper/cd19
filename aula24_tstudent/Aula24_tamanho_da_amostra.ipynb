{
 "cells": [
  {
   "cell_type": "markdown",
   "metadata": {},
   "source": [
    "# Aula 24 - Tamanho da amostra\n",
    "\n",
    "Vamos aprender a estimar um tamanho da amostra um limite para o erro máximo da amostra com probabilidade $\\gamma$"
   ]
  },
  {
   "cell_type": "code",
   "execution_count": 64,
   "metadata": {},
   "outputs": [],
   "source": [
    "from scipy.stats import norm\n",
    "import matplotlib.pyplot as plt\n",
    "%matplotlib inline\n",
    "import numpy as np\n",
    "from ipywidgets import interact, interactive, fixed, interact_manual\n",
    "import ipywidgets as widgets\n",
    "from math import sqrt"
   ]
  },
  {
   "cell_type": "markdown",
   "metadata": {},
   "source": [
    "##  Estimativa de $n$ com $\\sigma$ conhecido"
   ]
  },
  {
   "cell_type": "markdown",
   "metadata": {},
   "source": [
    "Passo 1: Precisamos encontrar na normal padrão o valor de $z_{\\gamma/2}$ que faz com que a probabilidade $\\gamma$ esteja cercando a origem"
   ]
  },
  {
   "cell_type": "code",
   "execution_count": 65,
   "metadata": {},
   "outputs": [
    {
     "data": {
      "application/vnd.jupyter.widget-view+json": {
       "model_id": "dade93fdfc3643f69e207eebad1d1bf7",
       "version_major": 2,
       "version_minor": 0
      },
      "text/plain": [
       "interactive(children=(FloatSlider(value=1.65, description='z', max=2.6, min=1.65, step=0.02), Output()), _dom_…"
      ]
     },
     "metadata": {},
     "output_type": "display_data"
    }
   ],
   "source": [
    "\n",
    "zγ2 = 0\n",
    "prob = 0.9\n",
    "x = np.linspace(-5, 5, 500)\n",
    "y = norm.pdf(x)\n",
    "\n",
    "#Função que utiliza o pywidget\n",
    "@interact(z = (1.65, 2.6, 0.02))\n",
    "def f(z=0.2):\n",
    "    global zγ2\n",
    "    global prob\n",
    "    plt.plot(x,y)\n",
    "    plt.fill_between(x,y,where=(x>-z)&(x<z), color=\"wheat\")\n",
    "    cdfs = norm.cdf([-z,z])\n",
    "    area = cdfs[1]-cdfs[0]\n",
    "    plt.text(-0.7, 0.25*norm.pdf(0), \"$\\gamma={:.2f}\\%$\".format(area*100), fontsize=16)\n",
    "    plt.title(\"Valor $z$ que delimita probabilidade $\\gamma$ na $N(0,1)$\")\n",
    "    zγ2 = z\n",
    "    prob = area"
   ]
  },
  {
   "cell_type": "code",
   "execution_count": 76,
   "metadata": {},
   "outputs": [
    {
     "data": {
      "text/plain": [
       "1.93"
      ]
     },
     "execution_count": 76,
     "metadata": {},
     "output_type": "execute_result"
    }
   ],
   "source": [
    "zγ2"
   ]
  },
  {
   "cell_type": "code",
   "execution_count": 77,
   "metadata": {},
   "outputs": [
    {
     "data": {
      "text/plain": [
       "0.9463931622458901"
      ]
     },
     "execution_count": 77,
     "metadata": {},
     "output_type": "execute_result"
    }
   ],
   "source": [
    "prob"
   ]
  },
  {
   "cell_type": "markdown",
   "metadata": {},
   "source": [
    "Agora, com o $z_{\\gamma/2}$ encontrado acima, vamos encontrar $n$ tal que este valor seja menor que uma certa tolerância dada por parâmetros do problema"
   ]
  },
  {
   "cell_type": "markdown",
   "metadata": {},
   "source": [
    "Suponha que gostaríamos de estimar uma amostra que em `prob` $\\%$ das vezes está a uma distância máxima $d$ da média amostral. \n",
    "\n",
    "Precisamos então projetar uma curva normal estreita o suficiente.\n",
    "\n",
    "O que quer dizer que o valor $d$ precisa corresponder ao $z_{\\gamma/2}$ encontrado acima"
   ]
  },
  {
   "cell_type": "markdown",
   "metadata": {},
   "source": [
    "Para este exemplo vamos supor que estamos trabalhando com resistores e que $\\sigma=50\\Omega$ . Qual o tamanho $n$ da amostra precisaríamos ter para que em $95.12\\%$ das vezes estivéssemos a uma distância de no máximo $d=10\\Omega$ da média populacional $\\mu$?"
   ]
  },
  {
   "cell_type": "code",
   "execution_count": 90,
   "metadata": {},
   "outputs": [],
   "source": [
    "σ = 50"
   ]
  },
  {
   "cell_type": "code",
   "execution_count": 91,
   "metadata": {},
   "outputs": [],
   "source": [
    "d = 25"
   ]
  },
  {
   "cell_type": "code",
   "execution_count": 95,
   "metadata": {},
   "outputs": [
    {
     "data": {
      "application/vnd.jupyter.widget-view+json": {
       "model_id": "efaf583c67fd4fecaa139bc8819daac2",
       "version_major": 2,
       "version_minor": 0
      },
      "text/plain": [
       "interactive(children=(IntSlider(value=1, description='n', max=80, min=1), IntSlider(value=1000, description='m…"
      ]
     },
     "metadata": {},
     "output_type": "display_data"
    }
   ],
   "source": [
    "#Função que utiliza o pywidget\n",
    "@interact(n = (1, 80, 1), mu=(950, 1050, 2), d = (10, 40, 2))\n",
    "def funcao_Xbar(n=1, mu=1000, d=15):\n",
    "    plt.xlim(mu-50, mu+50)\n",
    "    d_amostral = σ/sqrt(n)\n",
    "    x_amostral = np.linspace(mu - 4*d_amostral, mu+4*d_amostral, 100)\n",
    "    y_X = norm.pdf(x_amostral, loc=mu, scale=d_amostral)\n",
    "    plt.plot(x_amostral, y_X)\n",
    "    plt.axvline(mu + d, color=\"red\")\n",
    "    plt.axvline(mu - d, color=\"red\")\n",
    "    x_equiv = zγ2*d_amostral\n",
    "    plt.fill_between(x_amostral, y_X, where=((x_amostral >= (mu - x_equiv))&(x_amostral <= (mu + x_equiv)) ), color=\"wheat\")\n",
    "    plt.text(mu, 0.5*norm.pdf(mu), \"$\\gamma={:.2f}\\%$\".format(prob*100), fontsize=12)\n",
    "    plt.title(\"$\\overline{X}$ e linhas com erro máximo desejado (probabilidade $\\gamma$)\")\n",
    "    \n"
   ]
  },
  {
   "cell_type": "markdown",
   "metadata": {},
   "source": [
    "Note, no exemplo acima, que a média $\\mu$ específica não importa. O tamanho da amostra determina a variância da distribuição amostral, e a probabilidade será $\\gamma$ de conter o valor da média qualquer que seja ela.\n",
    "\n",
    "Baseado nas propriedades de variáveis aleatórias, isso pode ser representado da seguinte forma:\n",
    "\n",
    "$N(\\mu, \\sigma^2) = \\mu + N(0, \\sigma^2)$"
   ]
  },
  {
   "cell_type": "markdown",
   "metadata": {},
   "source": [
    "## Resumindo"
   ]
  },
  {
   "cell_type": "markdown",
   "metadata": {},
   "source": [
    "Os passos para encontrar um tamanho de amostra $n$ que contenha a média com erro máximo $d$ e probabilidade $\\gamma$ são:\n",
    "\n",
    "Encontrar $z_{\\gamma/2}$ na normal padrão $Z \\sim N(0,1)$\n",
    "\n",
    "Vamos usar a fórmula de padronização na normal de $\\overline{X}$: $z_{\\gamma/2} = \\frac{\\overline{x} - \\mu}{\\frac{\\sigma}{\\sqrt{n}}}$\n",
    "\n",
    "Lembremos que estamos interessados numa distância em relação à média populacional $\\mu$, ou seja:\n",
    "\n",
    "$d = \\overline{x} - \\mu$\n",
    "\n",
    "Temos então:\n",
    "\n",
    "$z_{\\gamma/2} = \\frac{d}{\\frac{\\sigma}{\\sqrt{n}}}$\n",
    "\n",
    "\n",
    "Isolando o $n$, encontramos:\n",
    "\n",
    "$n = ( z_{\\gamma/2}\\frac{\\sigma}{d} )^2$\n"
   ]
  },
  {
   "cell_type": "markdown",
   "metadata": {},
   "source": [
    "## Exemplo"
   ]
  },
  {
   "cell_type": "markdown",
   "metadata": {},
   "source": [
    "Uma fábrica de mantas de chumbo para proteção em radiografias precisa garantir que suas mantas têm uma certa espessura Sabe-se que o desvio padrão é de $0.6mm$\n",
    "\n",
    "Quantas amostras é preciso ter para garantir que a média amostra $\\overline{x}$ esteja a uma distância máxima de $0.2mm$ da média $\\overline{\\mu}$?"
   ]
  },
  {
   "cell_type": "code",
   "execution_count": null,
   "metadata": {},
   "outputs": [],
   "source": []
  },
  {
   "cell_type": "code",
   "execution_count": null,
   "metadata": {},
   "outputs": [],
   "source": []
  },
  {
   "cell_type": "code",
   "execution_count": null,
   "metadata": {},
   "outputs": [],
   "source": []
  },
  {
   "cell_type": "code",
   "execution_count": null,
   "metadata": {},
   "outputs": [],
   "source": []
  }
 ],
 "metadata": {
  "kernelspec": {
   "display_name": "Python 3",
   "language": "python",
   "name": "python3"
  },
  "language_info": {
   "codemirror_mode": {
    "name": "ipython",
    "version": 3
   },
   "file_extension": ".py",
   "mimetype": "text/x-python",
   "name": "python",
   "nbconvert_exporter": "python",
   "pygments_lexer": "ipython3",
   "version": "3.5.5"
  }
 },
 "nbformat": 4,
 "nbformat_minor": 2
}
