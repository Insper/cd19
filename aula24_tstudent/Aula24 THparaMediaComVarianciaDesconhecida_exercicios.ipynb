{
 "cells": [
  {
   "cell_type": "markdown",
   "metadata": {},
   "source": [
    "# Aula 24 - Teste de hipóteses para média populacional \n",
    "\n",
    "# $\\quad\\quad$ considerando variância populacional desconhecida\n",
    "\n",
    "___\n",
    "## Contexto prático"
   ]
  },
  {
   "cell_type": "code",
   "execution_count": null,
   "metadata": {},
   "outputs": [],
   "source": [
    "import scipy.stats as stats\n",
    "import numpy as np"
   ]
  },
  {
   "cell_type": "markdown",
   "metadata": {},
   "source": [
    "___\n",
    "## Exemplo 1"
   ]
  },
  {
   "cell_type": "markdown",
   "metadata": {},
   "source": [
    "**Definição da variável de interesse:**\n",
    "\n",
    "X: número de pontos que um estudante tira em um exame de inglês.\n",
    "\n",
    "Aqui, $E(X)=\\mu \\mbox{ e } Var(X)=\\sigma^2$, \n",
    "sendo ambos desconhecidos pelo contexto do problema!"
   ]
  },
  {
   "cell_type": "markdown",
   "metadata": {},
   "source": [
    "### Hipóteses em termos do problema e em termos estatísticos\n",
    "\n",
    "$H_0:$ Desconfiança não procede $\\Rightarrow H_0: \\mu=80$\n",
    "\n",
    "$H_1:$ Desconfiança procede que rendimento médio caiu $\\Rightarrow H_1: \\mu<80$"
   ]
  },
  {
   "cell_type": "code",
   "execution_count": null,
   "metadata": {
    "scrolled": true
   },
   "outputs": [],
   "source": [
    "#Dados\n",
    "amostra=(65,70,76,86,59,81,75,72,81,83)\n",
    "\n",
    "n=len(amostra)                                                                                                                                                                                                                                                                                                                                                                                                                                                                                                                                                                                                                             \n",
    "x_obs=np.mean(amostra)\n",
    "s=np.std(amostra, ddof=1)\n",
    "\n",
    "print(\"Tamanho da amostral: n=\", n)\n",
    "print(\"Média amostral observada: x_obs=\", x_obs)\n",
    "print(\"Desvio padrão amostral observada: s=\", s)"
   ]
  },
  {
   "cell_type": "code",
   "execution_count": null,
   "metadata": {},
   "outputs": [],
   "source": [
    "𝛼=0.05 #nível de significância fixado para o teste\n",
    "μ0=80 #sob a hipótese nula"
   ]
  },
  {
   "cell_type": "code",
   "execution_count": null,
   "metadata": {},
   "outputs": [],
   "source": [
    "#Decisão Via Região Crítica: UNICAUDAL a esquerda\n",
    "t_obs=(x_obs-μ0)/(s/np.sqrt(n))\n",
    "\n",
    "t_c=stats.t.ppf(𝛼, df=n-1) #valor crítico na cauda a esquerda\n",
    "\n",
    "print(\"t_obs=\",t_obs)\n",
    "print(\"t_c=\",t_c)\n",
    "\n",
    "print(\"\\nRegra geral: Rejeitamos a hipótese nula H0 se t_obs pertencer a Região Crítica (RC)!!\\n\")\n",
    "print(\"RC={t_obs<\", t_c,\"}\\n\")\n",
    "print(\"Conclusão: Como t_obs pertence a RC, então há evidências de que desconfiança procede, com 95% de confiança!!\")\n"
   ]
  },
  {
   "cell_type": "code",
   "execution_count": null,
   "metadata": {},
   "outputs": [],
   "source": [
    "#Decisão Via Valor-p: UNICAUDAL a esquerda\n",
    "t_obs=(x_obs-μ0)/(s/np.sqrt(n))\n",
    "\n",
    "valor_p=stats.t.cdf(t_obs, df=n-1) \n",
    "\n",
    "print(\"𝛼=\",𝛼)\n",
    "print(\"Valor-p=\",valor_p)\n",
    "\n",
    "print(\"\\nRegra geral: Rejeitamos a hipótese nula H0 se valor-p < 𝛼!!\\n\")\n",
    "\n",
    "print(\"Conclusão: Como nos resultados acima vemos que valor-p < 𝛼, então há evidências de que desconfiança procede, com 95% de confiança!!\")\n",
    "\n"
   ]
  },
  {
   "cell_type": "markdown",
   "metadata": {},
   "source": [
    "___\n",
    "## Exemplo 2"
   ]
  },
  {
   "cell_type": "markdown",
   "metadata": {},
   "source": [
    "**Definição da variável de interesse:**\n",
    "\n",
    "X: quantidade de refrigerante dentro de uma lata.\n",
    "\n",
    "Aqui, $E(X)=\\mu \\mbox{ e } Var(X)=\\sigma^2$, \n",
    "sendo ambos desconhecidos pelo contexto do problema!"
   ]
  },
  {
   "cell_type": "markdown",
   "metadata": {},
   "source": [
    "### Hipóteses em termos do problema e em termos estatísticos\n",
    "\n",
    "$H_0:$ Máquina está regulada $\\Rightarrow H_0: \\mu=350$\n",
    "\n",
    "$H_1:$ Máquina não está regulada $\\Rightarrow H_1: \\mu\\neq350$"
   ]
  },
  {
   "cell_type": "code",
   "execution_count": null,
   "metadata": {
    "scrolled": true
   },
   "outputs": [],
   "source": [
    "#Dados\n",
    "n=36                                                                                                                                                                                                                                                                                                                                                                                                                                                                                                                                                                                                                             \n",
    "x_obs=347\n",
    "s=10.5\n",
    "\n",
    "print(\"Tamanho da amostral: n=\", n)\n",
    "print(\"Média amostral observada: x_obs=\", x_obs)\n",
    "print(\"Desvio padrão amostral observada: s=\", s)"
   ]
  },
  {
   "cell_type": "code",
   "execution_count": null,
   "metadata": {},
   "outputs": [],
   "source": [
    "𝛼=0.05 #nível de significância fixado para o teste\n",
    "μ0=350 #sob a hipótese nula"
   ]
  },
  {
   "cell_type": "code",
   "execution_count": null,
   "metadata": {},
   "outputs": [],
   "source": [
    "#Decisão Via Região Crítica: BICAUDAL\n",
    "t_obs=(x_obs-μ0)/(s/np.sqrt(n))\n",
    "\n",
    "t_c=stats.t.ppf(1-𝛼/2, df=n-1)\n",
    "\n",
    "print(\"t_obs=\",t_obs)\n",
    "print(\"t_c=\",t_c)\n",
    "\n",
    "print(\"\\nRegra geral: Rejeitamos a hipótese nula H0 se t_obs pertencer a Região Crítica (RC)!!\\n\")\n",
    "\n",
    "print(\"RC={t_obs<\", -t_c,\"ou t_obs>\", t_c,\"}\\n\")\n",
    "\n",
    "print(\"Conclusão: Como t_obs NÃO pertence a RC, então NÃO há evidências de que máquina esteja desregulada, com 95% de confiança!!\")\n"
   ]
  },
  {
   "cell_type": "code",
   "execution_count": null,
   "metadata": {
    "scrolled": true
   },
   "outputs": [],
   "source": [
    "#Decisão Via Valor-p: BICAUDAL\n",
    "t_obs=(x_obs-μ0)/(s/np.sqrt(n))\n",
    "\n",
    "print(\"𝛼=\",𝛼)\n",
    "\n",
    "#valor-p via t_obs\n",
    "valor_p=2*stats.t.cdf(t_obs, df = n-1) #já que média amostral x_obs é menor do que μ0\n",
    "print(\"Valor-p=\",valor_p)\n",
    "\n",
    "print(\"\\nRegra geral: Rejeitamos a hipótese nula H0 se valor-p < 𝛼!!\\n\")\n",
    "\n",
    "print(\"Conclusão: Como nos resultados acima vemos que valor-p > 𝛼, então NÃO há evidências de que máquina esteja desregulada, com 95% de confiança!!\")\n",
    "\n"
   ]
  },
  {
   "cell_type": "markdown",
   "metadata": {},
   "source": [
    "___\n",
    "# Exercícios:"
   ]
  },
  {
   "cell_type": "markdown",
   "metadata": {},
   "source": [
    "___\n",
    "## Exercício 1"
   ]
  },
  {
   "cell_type": "code",
   "execution_count": null,
   "metadata": {},
   "outputs": [],
   "source": []
  },
  {
   "cell_type": "code",
   "execution_count": null,
   "metadata": {},
   "outputs": [],
   "source": []
  },
  {
   "cell_type": "markdown",
   "metadata": {},
   "source": [
    "___\n",
    "## Exercício 2"
   ]
  },
  {
   "cell_type": "code",
   "execution_count": null,
   "metadata": {
    "scrolled": true
   },
   "outputs": [],
   "source": [
    "amostra=(18,30.7,19.8,27.1,22.3,18.8,31.8,23.4,21.2,27.9,\n",
    "         31.9,27.1,25,24.7,26.9,21.8,29.2,34.8,26.7,31.6)"
   ]
  },
  {
   "cell_type": "code",
   "execution_count": null,
   "metadata": {},
   "outputs": [],
   "source": []
  },
  {
   "cell_type": "code",
   "execution_count": null,
   "metadata": {},
   "outputs": [],
   "source": []
  },
  {
   "cell_type": "markdown",
   "metadata": {},
   "source": [
    "___\n",
    "## Exercício 3"
   ]
  },
  {
   "cell_type": "code",
   "execution_count": null,
   "metadata": {},
   "outputs": [],
   "source": []
  },
  {
   "cell_type": "code",
   "execution_count": null,
   "metadata": {},
   "outputs": [],
   "source": []
  },
  {
   "cell_type": "code",
   "execution_count": null,
   "metadata": {},
   "outputs": [],
   "source": []
  }
 ],
 "metadata": {
  "kernelspec": {
   "display_name": "Python 3",
   "language": "python",
   "name": "python3"
  },
  "language_info": {
   "codemirror_mode": {
    "name": "ipython",
    "version": 3
   },
   "file_extension": ".py",
   "mimetype": "text/x-python",
   "name": "python",
   "nbconvert_exporter": "python",
   "pygments_lexer": "ipython3",
   "version": "3.5.5"
  }
 },
 "nbformat": 4,
 "nbformat_minor": 2
}
