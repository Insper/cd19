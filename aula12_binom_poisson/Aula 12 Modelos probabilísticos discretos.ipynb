{
 "cells": [
  {
   "cell_type": "markdown",
   "metadata": {},
   "source": [
    "# Modelos probabilísticos discretos\n",
    "\n",
    "**Referência de Leitura:**\n",
    "\n",
    "1. Magalhães e Lima (7ª. Edição): Seções 3.2 e 3.3\n",
    "2. Montgomery (6.a Ed.). Estatística Aplicada e Probabilidade Para Engenheiros. Cap. 3 seções 3.6 e 3.9\n",
    "\n",
    "**Hoje:**\n",
    "\n",
    "1.\tDescrever modelos discretos quanto aos resultados teóricos.\n",
    "\n",
    "2.\tExplicar a utilização de modelos probabilísticos no contexto da literatura estatística.\n",
    "\n",
    "3.\tContrastar resultados teóricos e empíricos.\n",
    "\n",
    "4.\tFechamento do conteúdo.\n",
    "\n",
    "**Próxima aula:**\n",
    "\n",
    "1. Leitura prévia necessária: Magalhães e Lima (7ª. Edição): Capítulo 6 - Seção 6.1."
   ]
  },
  {
   "cell_type": "code",
   "execution_count": null,
   "metadata": {},
   "outputs": [],
   "source": [
    "%matplotlib inline\n",
    "import itertools # importante para gerar todos os resultados possíveis!\n",
    "import matplotlib.pyplot as plt\n",
    "import numpy as np\n",
    "import pandas as pd\n",
    "\n",
    "from scipy import stats # importa apenas as funções de estatísticas da biblioteca SciPy."
   ]
  },
  {
   "cell_type": "markdown",
   "metadata": {},
   "source": [
    "___\n",
    "# Distribuição binomial: teoria\n",
    "\n",
    "É responsável por modelar uma variável $Y$ definida pelo número de sucessos em $n$ tentativas de um experimento de Bernoulli cuja probabilidade de sucesso é dada por $p$.\n",
    "\n",
    "Por exemplo, \n",
    "\n",
    "* se lançar uma moeda viciada com probabilidade $p$ de dar cara é um experimento de Bernoulli, então \n",
    "* contar quantas caras dessa moeda deram em $n$ lançamentos é um experimento binomial.\n",
    "\n",
    "Assim, dizemos que \n",
    "\n",
    "<font color='red'>$$Y \\sim Bin(n,p)$$</font>\n",
    "\n",
    "e lê-se: \n",
    "\n",
    "<font color='red'><center>$Y$ segue uma distribuição binomial com $n$ tentativas e $p$ como probabilidade de sucesso.</center></font>\n",
    "\n",
    "Muita atenção aqui: **não basta dizer que é Binomial, tem que especificar os parâmetros da distribuição!** Ou seja, não existe $Y \\sim Bin$, e sim $Y \\sim Bin(n, p)$.\n",
    "\n",
    "A função de probabilidade nesse caso é dada por:\n",
    "\n",
    "$$P(Y=y) = \\left(\n",
    "\\begin{array}{c}\n",
    "n \\\\\n",
    "y \n",
    "\\end{array}\\right) p^y (1-p)^{(n-y)}$$\n",
    "\n",
    "Para um experimento ter as probabilidade dos números de sucessos modeladas por uma distribuição Binomial, o mesmo precisa ter as seguintes propriedades:\n",
    "\n",
    "* é uma contagem de $n$ repetições (ou tentativas ou ensaios) idênticas;\n",
    "\n",
    "* cada repetição tem apenas 2 resultados possíveis: um é denominado sucesso e o outro, fracasso;\n",
    "\n",
    "* a probabilidade de sucesso para cada ensaio é denominada $p$ e será constante em cada repetição. Então, a probabilidade de fracasso $(1-p)$ também não varia de tentativa para tentativa;\n",
    "\n",
    "* As tentativas são independentes.\n",
    "\n",
    "### Distribuição binomial em Python\n",
    "\n",
    "A biblioteca SciPy está cheia de funções para nos ajudar a trabalhar com variáveis aleatórias! https://en.wikipedia.org/wiki/SciPy\n",
    "\n",
    "Algumas funções úteis para desenvolver seu código: http://docs.scipy.org/doc/scipy-0.16.1/reference/generated/scipy.stats.binom.html\n",
    "\n",
    "* $P(Y=y)$: `prob = stats.binom.pmf(y, n, p)`\n",
    "\n",
    "* $P(Y\\leq y)$: `prob = stats.binom.cdf(y, n, p)`\n",
    "\n",
    "* $E(Y)$ e $Var(Y)$: `m, v = stats.binom.stats(n, p, moments='mv')`"
   ]
  },
  {
   "cell_type": "markdown",
   "metadata": {},
   "source": [
    "___\n",
    "### <font color='blue'>Problema 1</font>\n",
    "\n",
    "**Este exercício irá explorar a construção de árvore de probabilidades com eventos e construção da distribuição de probabilidades de uma variável aleatória discreta. Ainda, irá explorar o modelo  de distribuição probabilística Binomial**\n",
    "\n",
    "Um resistor de 100K Ohms comprado na Santa Efigênia tem probabilidade de falha de $5\\%$, segundo um fabricante ruim.\n",
    "\n",
    "Ainda, por suposição, admita que os resistores falhem de forma independente entre si.\n",
    "\n",
    "Um aluno de engenharia compra um pacote contendo $n$ resistores.\n",
    "\n",
    "1. Assuma $n=3$ e faça os itens a seguir.\n",
    "\n",
    "    1. Monte o espaço amostral que combine todos os resultados possíveis de Falha e não Falha desses $n$ resistores. Ainda, calcule a probabilidade de cada resultado do espaço amostral acontecer.\n",
    "\n",
    "    2. Se $Y$ representa o número de resistores que falham em um pacotinho com $n$ resistores, então construa a distribuição de probabilidades de $Y$.\n",
    "\n",
    "    3. Calcule a média e o desvio padrão de $Y$. Interprete os resultados.\n",
    "\n",
    "    4. Utilizando o modelo probabilístico da distribuição Binomial, encontre a distribuição de probabilidades de cada possível valor de $Y$. Calcule também $E(Y)$ e $Var(Y)$. Compare com as distribuições de probabilidades obtidas nos itens anteriores e discuta porque esses valores são iguais ou diferentes!\n",
    "   \n",
    "2. Assuma $n=7$ e repita os itens A) a D) anteriores. No caso de $n=7$ ou maiores quantidades de resistores em um pacotinho, qual a viabilidade de construir a distribuição de probabilidades do número de resistores com defeitos quando $n$ não é pequeno seguindo os itens de A) a C)?\n",
    "    \n"
   ]
  },
  {
   "cell_type": "code",
   "execution_count": null,
   "metadata": {},
   "outputs": [],
   "source": [
    "# Item 1.\n",
    "n = 3\n",
    "\n",
    "# Item 2.\n",
    "# n = 7\n",
    "\n",
    "# Nos dois itens, a probabilidade de sucesso individual é a mesma. \n",
    "# Note que \"sucesso\" em nosso experimento significa... falha no resistor! Nada de errado com isso, apenas soa estranho\n",
    "# mas tudo bem!\n",
    "p = 0.05"
   ]
  },
  {
   "cell_type": "markdown",
   "metadata": {},
   "source": [
    "___\n",
    "**Item 1:**"
   ]
  },
  {
   "cell_type": "markdown",
   "metadata": {},
   "source": [
    "**Resolvendo o item A**\n",
    "\n",
    "Vamos começar listando todas as possibilidades de \"sucesso\" (resistor falhou) e \"fracasso\" (resistor funcionou)."
   ]
  },
  {
   "cell_type": "code",
   "execution_count": null,
   "metadata": {},
   "outputs": [],
   "source": [
    "possibilidades = ['F', 'Fc']  # 'F': falhou, 'Fc': não falhou.\n",
    "eventos = itertools.product(possibilidades, repeat=n)\n",
    "espaco_amostral = list(eventos)  # Coisas de Python..."
   ]
  },
  {
   "cell_type": "code",
   "execution_count": null,
   "metadata": {},
   "outputs": [],
   "source": [
    "for item in espaco_amostral:\n",
    "    print(item)"
   ]
  },
  {
   "cell_type": "markdown",
   "metadata": {},
   "source": [
    "**Atividade[1]:** \n",
    "\n",
    "Agora é com você: para cada evento simples no espaço amostral, calcule sua probabilidade. Você deve construir um dicionário onde a chave é um evento e o valor é sua probabilidade. Chame esse dicionário de `prob_eventos`."
   ]
  },
  {
   "cell_type": "code",
   "execution_count": null,
   "metadata": {},
   "outputs": [],
   "source": [
    "prob_eventos = {}\n",
    "\n",
    "for evento in espaco_amostral:\n",
    "    # Calcule a probabilidade do evento simples.\n",
    "    # Insira seu código aqui:\n",
    "\n",
    "    \n",
    "    \n",
    "    # Fim do seu código, vamos guardar a probabilidade no dicionário.\n",
    "    prob_eventos[evento] = prob"
   ]
  },
  {
   "cell_type": "markdown",
   "metadata": {},
   "source": [
    "Se você seguiu as instruções acima, o código a seguir deverá listar os eventos e suas probabilidades."
   ]
  },
  {
   "cell_type": "code",
   "execution_count": null,
   "metadata": {},
   "outputs": [],
   "source": [
    "print('Distribuição de probabilidades de cada resultado do espaço amostral:')\n",
    "for evento, prob in prob_eventos.items():\n",
    "    print('{0} com probabilidade {1:.5f}'.format(evento, prob))"
   ]
  },
  {
   "cell_type": "markdown",
   "metadata": {},
   "source": [
    "**Resolvendo o item B**\n",
    "\n",
    "Relembre que nossa variável aleatória é a CONTAGEM de falhas. Portanto, temos que determinar a contagem de falhas em cada evento simples, e juntar todas as probabilidades de mesma contagem - reveja a explicação do professor."
   ]
  },
  {
   "cell_type": "markdown",
   "metadata": {},
   "source": [
    "**Atividade[2]:** \n",
    "\n",
    "Construa a distribuição de probabilidades na forma de um dicionário onde a chave é a contagem de falhas, e o valor é a probabilidade desta contagem de falhas. Use o resultado do item A.\n",
    "\n",
    "Dica: com listas você pode usar o método `count()` para saber quantas vezes um certo valor ocorre. Por exemplo:\n",
    "```\n",
    "minha_lista = ['A', 'B', 'B', 'A', 'A', 'A']\n",
    "print(minha_lista.count('B')  # Imprime 2.\n",
    "```"
   ]
  },
  {
   "cell_type": "code",
   "execution_count": null,
   "metadata": {},
   "outputs": [],
   "source": [
    "Y = {}\n",
    "for evento, prob in prob_eventos.items():\n",
    "    # Seu código vem aqui:\n"
   ]
  },
  {
   "cell_type": "markdown",
   "metadata": {},
   "source": [
    "Se você fez o que foi pedido, o código abaixo deve listar os valores da variável aleatória $Y$ (ou seja, as possíveis contagens de falha) e suas respectivas probabilidades:"
   ]
  },
  {
   "cell_type": "code",
   "execution_count": null,
   "metadata": {},
   "outputs": [],
   "source": [
    "print(\"Distribuição de probabilidades da variável aleatória Y:\")        \n",
    "for y, prob_y in Y.items():\n",
    "    print('{0} falhas com probabilidade {1:.5f}'.format(y, prob_y))"
   ]
  },
  {
   "cell_type": "markdown",
   "metadata": {},
   "source": [
    "Ficou meio dificil de ver, vamos fazer o gráfico de barras dessa distribuição:"
   ]
  },
  {
   "cell_type": "code",
   "execution_count": null,
   "metadata": {},
   "outputs": [],
   "source": [
    "Y_s = pd.Series(Y).sort_index()\n",
    "\n",
    "plt.figure()\n",
    "Y_s.plot(kind='bar')\n",
    "plt.title('Distribuição de probabilidade de Y')\n",
    "plt.xlabel('$y$')\n",
    "plt.ylabel('$P(Y = y)$')\n",
    "plt.show();"
   ]
  },
  {
   "cell_type": "markdown",
   "metadata": {},
   "source": [
    "**Resolvendo o item C**\n",
    "\n",
    "Lembre-se que a média de uma variável aleatória discreta é dada por\n",
    "\n",
    "$$\n",
    "\\mu = E[X] = \\sum_{\\text{todos os } x_i} x_i P(X = x_i)\n",
    "$$\n",
    "\n",
    "e que a variância é dada por \n",
    "\n",
    "$$\n",
    "\\sigma^2 = E[(X - \\mu)^2] = \\sum_{\\text{todos os } x_i} (x_i - \\mu)^2 P(X = x_i)\n",
    "$$\n",
    "\n",
    "Lembre-se que na aula passada também vimos uma maneira alternativa para calcular a variância: \n",
    "$$Var(X) = E(X^2) - E(X)^2.$$ \n",
    "\n",
    "Então, use a maneira que julgar mais rápida e adequada para você chegar na variância da variável aleatória $X$."
   ]
  },
  {
   "cell_type": "markdown",
   "metadata": {},
   "source": [
    "**Atividade[3]:** \n",
    "\n",
    "Agora é com você: calcule a média e a variância de $Y$."
   ]
  },
  {
   "cell_type": "code",
   "execution_count": null,
   "metadata": {},
   "outputs": [],
   "source": [
    "# Fase 1: cálculo da média.\n",
    "m = 0.0\n",
    "for y, prob_y in Y.items():\n",
    "    # Insira seu código aqui:\n",
    "    \n",
    "# Fase 2: cálculo da variância.\n",
    "v = 0.0\n",
    "for y, prob_y in Y.items():\n",
    "    # Insira seu código aqui:\n",
    "    \n",
    "print('Média: {0:.5f}'.format(m))\n",
    "print('Variância: {0:.5f}'.format(v))\n",
    "print('Desvio padrão: {0:.5f}'.format(np.sqrt(v)))"
   ]
  },
  {
   "cell_type": "markdown",
   "metadata": {},
   "source": [
    "**Resolvendo o item D**\n",
    "\n",
    "Esse nosso jeito de calcular as probabilidades da variável aleatória $Y$ é apenas um exercício para que possamos entender bem o que é um experimento binomial. Para calcular os valores da distribuição binomial na prática já existe uma fórmula, como visto em aula.\n",
    "\n",
    "No Python, podemos calcular diretamente os valores da distribuição binomial usando `stats.binom.pmf`. Suponha que $X \\sim Bin(n,p)$ e queremos calcular $P(X = x)$ no Python, basta usar:\n",
    "\n",
    "`prob = stats.binom.pmf(x, n, p)`"
   ]
  },
  {
   "cell_type": "markdown",
   "metadata": {},
   "source": [
    "**Atividade[4]:** \n",
    "\n",
    "Usando esse novo conhecimento, calcule a distribuição de Y do nosso problema, novamente na forma de um dicionário onde a chave é a contagem de falhas e o valor é a probabilidade desta contagem."
   ]
  },
  {
   "cell_type": "code",
   "execution_count": null,
   "metadata": {},
   "outputs": [],
   "source": [
    "Y = {}\n",
    "\n",
    "# Insira seu código aqui: desta vez nem o 'for' a gente vai dar!\n"
   ]
  },
  {
   "cell_type": "markdown",
   "metadata": {},
   "source": [
    "Se você fez tudo como indicado, o código a seguir imprimirá a distribuição de probabilidade de Y:"
   ]
  },
  {
   "cell_type": "code",
   "execution_count": null,
   "metadata": {},
   "outputs": [],
   "source": [
    "print(\"Distribuição de probabilidades da variável aleatória Y:\")        \n",
    "for y, prob_y in Y.items():\n",
    "    print('{0} falhas com probabilidade {1:.5f}'.format(y, prob_y))"
   ]
  },
  {
   "cell_type": "markdown",
   "metadata": {},
   "source": [
    "Para obter a média e a variância de uma variável $Y \\sim Bin(n, p)$ use `stats.binom.stats(n, p, moments='mv')`\n",
    "\n",
    "**Atividade[5]**: faça você mesmo!"
   ]
  },
  {
   "cell_type": "code",
   "execution_count": null,
   "metadata": {},
   "outputs": [],
   "source": []
  },
  {
   "cell_type": "code",
   "execution_count": null,
   "metadata": {},
   "outputs": [],
   "source": []
  },
  {
   "cell_type": "markdown",
   "metadata": {},
   "source": [
    "**Atividade[6]:** \n",
    "\n",
    "Compare os resultados da Atividade[2] com da Atividade [4]. \n",
    "\n",
    "Compare os resultados da Atividade[3] com da Atividade [5]. \n",
    "\n",
    "Veja se deu certo!"
   ]
  },
  {
   "cell_type": "markdown",
   "metadata": {},
   "source": [
    "**Resp.:**"
   ]
  },
  {
   "cell_type": "code",
   "execution_count": null,
   "metadata": {},
   "outputs": [],
   "source": []
  },
  {
   "cell_type": "markdown",
   "metadata": {},
   "source": [
    "___\n",
    "**Item 2:**"
   ]
  },
  {
   "cell_type": "markdown",
   "metadata": {},
   "source": [
    "Agora volte lá para o item A e troque $n$ para $n=7$. Teste tudo de novo e veja o que acontece!"
   ]
  },
  {
   "cell_type": "code",
   "execution_count": null,
   "metadata": {},
   "outputs": [],
   "source": []
  },
  {
   "cell_type": "code",
   "execution_count": null,
   "metadata": {},
   "outputs": [],
   "source": []
  },
  {
   "cell_type": "markdown",
   "metadata": {},
   "source": [
    "**Atividade[7]:** Pense (**NÃO TESTE**) o que aconteceria se $n=100$:\n",
    "\n",
    "* Será que conseguiríamos testar todas as possibilidades no `itertools.product`?\n",
    "\n",
    "* E simplesmente usar as fórmulas da distribuição, será que daria certo?"
   ]
  },
  {
   "cell_type": "code",
   "execution_count": null,
   "metadata": {},
   "outputs": [],
   "source": []
  },
  {
   "cell_type": "code",
   "execution_count": null,
   "metadata": {},
   "outputs": [],
   "source": []
  },
  {
   "cell_type": "markdown",
   "metadata": {},
   "source": [
    "# Distribuição de Poisson\n",
    "\n",
    "## Teoria\n",
    "\n",
    "É a distribuição que modela experimentos onde a taxa de ocorrências de algum acontecimento é definida por intervalo de tempo, ou de comprimento, área, etc.\n",
    "\n",
    "Por exemplo:\n",
    "\n",
    "* Dado o número médio de clientes que entram na loja por hora, qual a probabilidade de que 10 clientes chegaram na última hora?\n",
    "\n",
    "* Dado o número médio de buracos por quilômetro na estrada, qual a probabilidade de que o próximo quilômetro tenha 5 ou mais buracos?\n",
    "\n",
    "\n",
    "Um experimento de Poisson é aquele onde temos uma taxa média de ocorrência de um fenômeno por intervalo (de tempo, de espaço, de volume, etc). Por exemplo: uma linha de produção de peças automotivas onde podemos estudar a taxa média de falhas por dia.\n",
    "\n",
    "Em um experimento de Poisson, a variável aleatória de interesse é a contagem de eventos em um intervalo. Por exemplo: quantas falhas ocorrem em uma linha de produção em um dia? Quantos buracos existem na estrada em 1 km? Quantas vezes algum vulcão entra em erupção na Terra em um período de mil anos?\n",
    "\n",
    "Para que um experimento seja considerado Poisson devemos ter as seguintes condições:\n",
    "\n",
    "<table>\n",
    "<tr>\n",
    "<th>Condição</th>\n",
    "<th>Exemplo 1</th>\n",
    "<th>Exemplo 2</th>\n",
    "<th>Exemplo 3</th>\n",
    "</tr>\n",
    "<tr>\n",
    "<td>\n",
    "Probabilidade de uma ocorrência é a mesma para dois intervalos quaisquer de igual tamanho.\n",
    "</td>\n",
    "<td>\n",
    "A chance de falhas numa linha de produção é a mesma hoje e amanhã.\n",
    "</td>\n",
    "<td>\n",
    "O número médio de buracos numa estrada ruim é o mesmo em qualquer intervalo de mesmo comprimento (por exemplo, 1 km).\n",
    "</td>\n",
    "<td>\n",
    "O número médio de erupções vulcânicas por período de mil anos é o mesmo na era atual e na idade da pedra.\n",
    "</td>\n",
    "</tr>\n",
    "<tr>\n",
    "<td>\n",
    "A ocorrência ou não num dado intervalo é independente da ocorrência ou não em outro intervalo.\n",
    "</td>\n",
    "<td>\n",
    "O número de falhas hoje não impacta o número de falhas amanhã.\n",
    "</td>\n",
    "<td>\n",
    "O número de buracos no km 23 não impacta o número de buracos no km 42.\n",
    "</td>\n",
    "<td>\n",
    "O número de erupções vulcânicas nos últimos mil anos não influencia o número de erupções nos próximos mil anos.\n",
    "</td>\n",
    "</table>\n",
    "\n",
    "Representamos matemáticamente que uma variável aleatória $X$ é distribuída segundo uma distribuição de Poisson de parâmetro $\\lambda$ com a expressão:\n",
    "\n",
    "$$X \\sim Poisson(\\lambda)$$\n",
    "\n",
    "Lembre-se que uma variável aleatória é definida por duas coisas:\n",
    "\n",
    "- Os possíveis valores da variável aleatória;\n",
    "\n",
    "- A probabilidade de cada valor.\n",
    "\n",
    "Em uma variável aleatória $X \\sim Poisson(\\lambda)$ os possíveis valores de $X$ são os números naturais (0, 1, 2, ...), e a probabilidade de cada valor possível é dada pela função de probabilidade (ou *probability mass function*):\n",
    "\n",
    "$$P(X = x) = \\frac{e^{-\\lambda} \\lambda^{x}}{x!}$$\n",
    "\n",
    "A média e variância de uma variável Poisson são $\\mu_{X} = \\lambda$ e $\\sigma^2_{X} = \\lambda$ também!\n",
    "\n",
    "Por exemplo, se em um servidor web chegam em média 10 requisições por minuto, qual a probabilidade de que cheguem exatamente 13 requisições? Calculando:\n",
    "\n",
    "$$P(X = 13) = \\frac{e^{-10} 10^{13}}{13!} = 7.291\\%$$\n",
    "\n",
    "\n",
    "\n",
    "\n",
    "**Observação:** Explore os comandos de `stats.poisson`. <sup>[http://docs.scipy.org/doc/scipy/reference/generated/scipy.stats.poisson.html]</sup> \n",
    "\n",
    "Dica: na hora de desenvolver seu código Python, lembre-se de que a palavra `lambda` não pode ser usada como nome de variável, pois é uma palavra reservada da linguagem Python!"
   ]
  },
  {
   "cell_type": "markdown",
   "metadata": {},
   "source": [
    "___\n",
    "### <font color='blue'>Problema 2</font>\n",
    "\n",
    "**Esse exercício irá explorar modelos de distribuição de Poisson.**\n",
    "\n",
    "Uma fábrica produz determinado veículo. O gerente de vendas fechou um negócio que implica na produção de pelo menos 110 unidades nos próximos dois meses. Para isso, será construída uma nova linha de montagem com capacidade para produzir em média 50 veículos por mês (considere meses de 30 dias). A linha funcionará ininterruptamente. Além disso, apenas um veículo é produzido por vez. Considere que um modelo Poisson seja adequado para a quantidade de veículos produzidos.\n",
    "   1. Qual a probabilidade da produção ser igual a 100 veículos nos próximos dois meses?\n",
    "   2. Qual a probabilidade da produção ser de pelo menos 100 veículos nos próximos dois meses?\n",
    "   3. Qual a probabilidade da produção ser entre 100 e 110 veículos nos próximos dois meses?\n",
    "   4. Se forem produzidos de pelo menos 100 veículos nos próximo dois meses, qual a probabilidade do gerente cumprir a meta negociada?\n",
    "   5. Caso a meta seja cumprida, o lucro será da ordem de $250$ mil, caso não seja, o lucro cai para $200$ mil. Qual é o lucro esperado e seu desvio-padrão?"
   ]
  },
  {
   "cell_type": "markdown",
   "metadata": {},
   "source": [
    "**Item 1**"
   ]
  },
  {
   "cell_type": "markdown",
   "metadata": {},
   "source": [
    "**Atividade:** Vamos pensar um pouco: se a taxa média de produção de veículos em um mês é de 50 veículos, qual a taxa média de produção de veículos *por período de dois meses*?"
   ]
  },
  {
   "cell_type": "code",
   "execution_count": null,
   "metadata": {},
   "outputs": [],
   "source": [
    "# esp = # Insira seu resultado da esperança aqui. Valor da taxa"
   ]
  },
  {
   "cell_type": "code",
   "execution_count": null,
   "metadata": {},
   "outputs": [],
   "source": [
    "esp = 100"
   ]
  },
  {
   "cell_type": "markdown",
   "metadata": {},
   "source": [
    "Agora podemos responder o item 1.\n",
    "\n",
    "**Atividade:** Use a fórmula da função de probabilidade de Poisson para calcular a probabilidade desejada."
   ]
  },
  {
   "cell_type": "code",
   "execution_count": null,
   "metadata": {},
   "outputs": [],
   "source": [
    "from math import exp, factorial\n",
    "\n",
    "# Insira seu código aqui.\n"
   ]
  },
  {
   "cell_type": "markdown",
   "metadata": {},
   "source": [
    "**Atividade:** Compare com o resultado obtido usando `stats.poisson.pmf`"
   ]
  },
  {
   "cell_type": "code",
   "execution_count": null,
   "metadata": {},
   "outputs": [],
   "source": [
    "# Insira seu código aqui.\n"
   ]
  },
  {
   "cell_type": "code",
   "execution_count": null,
   "metadata": {},
   "outputs": [],
   "source": []
  },
  {
   "cell_type": "markdown",
   "metadata": {},
   "source": [
    "**Item 2**"
   ]
  },
  {
   "cell_type": "markdown",
   "metadata": {},
   "source": [
    "Para responder o item 2 precisamos da função de probabilidade acumulada. Queremos saber quanto vale $P(Y \\ge 100)$. Basta observar que \n",
    "\n",
    "$$\n",
    "\\begin{align}\n",
    "P(Y \\ge 100) & = 1 - P(Y \\lt 100) \\\\\n",
    "             & = 1 - P(Y \\le 99)\n",
    "\\end{align}\n",
    "$$\n",
    "\n",
    "Podemos calcular $P(Y \\le 99)$ usando `stats.poisson.cdf`.\n",
    "\n",
    "**Atividade:** Faça você mesmo!"
   ]
  },
  {
   "cell_type": "code",
   "execution_count": null,
   "metadata": {
    "scrolled": true
   },
   "outputs": [],
   "source": [
    "# Insira seu código aqui.\n"
   ]
  },
  {
   "cell_type": "code",
   "execution_count": null,
   "metadata": {},
   "outputs": [],
   "source": []
  },
  {
   "cell_type": "markdown",
   "metadata": {},
   "source": [
    "**Item 3**"
   ]
  },
  {
   "cell_type": "markdown",
   "metadata": {},
   "source": [
    "Vamos pensar um pouco no item 3: queremos calcular $P(100 \\le Y \\le 110)$. Como proceder? Lembre-se da fórmula da probabilidade da união de conjuntos:\n",
    "\n",
    "$$P(A \\cup B) = P(A) + P(B) - P(A \\cap B)$$\n",
    "\n",
    "Com isso podemos calcular o que queremos aqui:\n",
    "\n",
    "**Atividade:** Complete a fórmula abaixo segundo a fórmula da união de conjuntos:\n",
    "\n",
    "$$P(Y \\le 110) = P(Y \\le 99) + \\cdots$$\n",
    "\n",
    "**Atividade:** Calcule $P(100 \\le Y \\le 110)$ usando `stats.poisson.cdf`."
   ]
  },
  {
   "cell_type": "code",
   "execution_count": null,
   "metadata": {},
   "outputs": [],
   "source": [
    "#item 3\n",
    "#P(100<=Y<=110)=P(Y<=110)-P(Y<100)=P(Y<=110)-P(Y<=99)\n",
    "print('P(100<=Y<=110)=', \"%1.5f \"%(stats.poisson.cdf(110,esp)-stats.poisson.cdf(99,esp)))"
   ]
  },
  {
   "cell_type": "code",
   "execution_count": null,
   "metadata": {},
   "outputs": [],
   "source": []
  },
  {
   "cell_type": "markdown",
   "metadata": {},
   "source": [
    "**Item 4**"
   ]
  },
  {
   "cell_type": "markdown",
   "metadata": {},
   "source": [
    "No item 4, a chave para resolver o exercício é traduzir a pergunta em termos matemáticos. A pergunta:\n",
    "\n",
    "- \"Se forem produzidos de pelo menos 100 veículos nos próximo dois meses, qual a probabilidade do gerente cumprir a meta negociada?\"\n",
    "\n",
    "- é equivalente a \"Dado que 100 veículos ou mais são produzidos com certeza, qual a probabilidade de que 110 ou mais veículos sejam produzidos?\"\n",
    "\n",
    "- ou então \"Qual a probabilidade de que 110 ou mais veículos sejam produzidos dado que 100 veículos ou mais certamente são produzidos?\"\n",
    "\n",
    "**Atividade:** Traduza a pergunta em uma expressão matemática.\n",
    "\n",
    "**Atividade:** Use a fórmula da probabilidade condicional para expandir a expressão da pergunta.\n",
    "\n",
    "**Atividade:** Use `stats.poisson.cdf` para calcular a resposta."
   ]
  },
  {
   "cell_type": "code",
   "execution_count": null,
   "metadata": {},
   "outputs": [],
   "source": [
    "#item 4\n",
    "# Insira seu código aqui.\n"
   ]
  },
  {
   "cell_type": "code",
   "execution_count": null,
   "metadata": {},
   "outputs": [],
   "source": []
  },
  {
   "cell_type": "markdown",
   "metadata": {},
   "source": [
    "**Item 5**"
   ]
  },
  {
   "cell_type": "markdown",
   "metadata": {},
   "source": [
    "Finalmente, para o item 5, vamos pensar: qual o experimento em questão agora? Qual a variável aleatória sobre a qual queremos saber a média?\n",
    "\n",
    "**Atividade**: Faça você mesmo!"
   ]
  },
  {
   "cell_type": "code",
   "execution_count": null,
   "metadata": {},
   "outputs": [],
   "source": [
    "#item 5\n",
    "#Y~ Poisson(100) 100 de media a cada dois meses\n",
    "p = stats.poisson.cdf(109,100)\n",
    "\n",
    "#L: lucro \n",
    "# Insira seu código aqui.\n"
   ]
  },
  {
   "cell_type": "code",
   "execution_count": null,
   "metadata": {},
   "outputs": [],
   "source": []
  },
  {
   "cell_type": "code",
   "execution_count": null,
   "metadata": {},
   "outputs": [],
   "source": []
  }
 ],
 "metadata": {
  "anaconda-cloud": {},
  "kernelspec": {
   "display_name": "Python 3",
   "language": "python",
   "name": "python3"
  },
  "language_info": {
   "codemirror_mode": {
    "name": "ipython",
    "version": 3
   },
   "file_extension": ".py",
   "mimetype": "text/x-python",
   "name": "python",
   "nbconvert_exporter": "python",
   "pygments_lexer": "ipython3",
   "version": "3.5.5"
  }
 },
 "nbformat": 4,
 "nbformat_minor": 2
}
