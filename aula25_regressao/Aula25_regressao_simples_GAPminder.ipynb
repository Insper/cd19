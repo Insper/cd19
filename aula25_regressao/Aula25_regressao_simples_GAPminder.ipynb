{
 "cells": [
  {
   "cell_type": "markdown",
   "metadata": {},
   "source": [
    "___\n",
    "# Atividade: Regressão Linear Simples\n",
    "___\n",
    "\n",
    "## Aula 25\n",
    "\n",
    "**Preparo Prévio:**\n",
    "1. Montogmery. Seção 6-2 - Simple Linear Regression\n",
    "1. Magalhães e Lima, seção 9.5. Regressão Linear Simples\n",
    "\n",
    "\n",
    "Referência: http://www.statsmodels.org/dev/diagnostic.html\n",
    "\n",
    "Referência: [http://connor-johnson.com/2014/02/18/linear-regression-with-python/](http://connor-johnson.com/2014/02/18/linear-regression-with-python/)\n",
    "\n",
    "**Hoje:**\n",
    "1. Entender o conceito de regressão linear"
   ]
  },
  {
   "cell_type": "markdown",
   "metadata": {},
   "source": [
    "___\n",
    "\n",
    "## Renda vs CO2\n",
    "\n",
    "Foram coletados dois dados do site https://www.gapminder.org/:\n",
    "1. Emissão de CO2 per capita\n",
    "1. Renda per capita\n",
    "\n",
    "As linhas representam os países e as colunas representam o ano. \n",
    "\n",
    "Como os arquivos estão separados, será preciso juntá-los cruzando o país."
   ]
  },
  {
   "cell_type": "code",
   "execution_count": null,
   "metadata": {},
   "outputs": [],
   "source": [
    "%matplotlib inline\n",
    "import pandas as pd\n",
    "import numpy as np\n",
    "from scipy import stats\n",
    "import matplotlib.pyplot as plt"
   ]
  },
  {
   "cell_type": "code",
   "execution_count": null,
   "metadata": {},
   "outputs": [],
   "source": [
    "#Leitura dos arquivos em Excel\n",
    "co2 = pd.read_excel('indicator CDIAC carbon_dioxide_emissions_per_capita.xlsx')\n",
    "income = pd.read_excel('indicator gapminder gdp_per_capita_ppp.xlsx')"
   ]
  },
  {
   "cell_type": "code",
   "execution_count": null,
   "metadata": {},
   "outputs": [],
   "source": [
    "#É possível verificar que cada linha representa um país e as colunas representam o ano\n",
    "co2.head(2)"
   ]
  },
  {
   "cell_type": "code",
   "execution_count": null,
   "metadata": {},
   "outputs": [],
   "source": [
    "#O mesmo se aplica a renda.\n",
    "income.head(2)"
   ]
  },
  {
   "cell_type": "markdown",
   "metadata": {},
   "source": [
    "___\n",
    "### Inner Join\n",
    "\n",
    "Vamos agora juntar as duas tabelas via país, selecionar apenas o ano de 2010 e remover os NaNs.\n",
    "\n",
    "Ao final vamos fazer o gráfico de dispersão das duas variáveis.\n",
    "\n",
    "**Sugestão**: pesquise sobre a função DataFrame.join(), pode ser muito útil no futuro."
   ]
  },
  {
   "cell_type": "code",
   "execution_count": null,
   "metadata": {},
   "outputs": [],
   "source": [
    "#Cruza as duas tabelas via país\n",
    "co2.set_index('CO2 per capita', inplace=True)\n",
    "income.set_index('GDP per capita', inplace=True)\n",
    "\n",
    "df = co2.join(income, how='inner', lsuffix='_co2', rsuffix='_income')\n",
    "\n",
    "#Seleciona o ano de 2010 e remove os NaNs\n",
    "df = df[['2010_co2','2010_income']].dropna()\n",
    "\n",
    "#Transforma a renda na escala de milhares de dólares\n",
    "df['2010_income'] /= 1000\n"
   ]
  },
  {
   "cell_type": "markdown",
   "metadata": {},
   "source": [
    "___\n",
    "### Problema\n",
    "\n",
    "Considere que o objetivo aqui seja explicar/prever a emissão de gás carbono (CO2) per capita de um país em função da renda (PIB) per capita.\n",
    "\n",
    "Por conta disso, vamos considerar CO2 como variável dependente (eixo y) e renda como explicativa (eixo x)."
   ]
  },
  {
   "cell_type": "code",
   "execution_count": null,
   "metadata": {},
   "outputs": [],
   "source": [
    "x = df['2010_income']\n",
    "y = df['2010_co2']\n",
    "plt.scatter(x,y);\n",
    "plt.xlabel(\"x: 2010 income\");\n",
    "plt.ylabel(\"y: 2010 co2 per capita\");"
   ]
  },
  {
   "cell_type": "markdown",
   "metadata": {},
   "source": [
    "___\n",
    "### Regressão\n",
    "\n",
    "Vamos tentar agora ajustar um modelo sobre os dados. A primeira tentativa será ajustar um reta:\n",
    "\n",
    "$$y_i=\\beta_0+\\beta_1x_i+\\epsilon_i$$\n",
    "\n",
    "\n",
    "Esse modelo é muito parecido com o visto na Aula 05, com algumas mudanças:\n",
    "1. Agora utilizaremos $\\beta_i$ para se referir aos coeficientes.\n",
    "1. Existe um termo $\\epsilon_i$ para representar os resíduos.\n",
    "\n",
    "O primeiro passo agora é calcular os valores da regressão. Existem diversas formas de estimar os $\\beta$s, vamos utilizar o método de **Mínimos Quadrados Ordinários (MQO ou OLS - Ordinary Least Squares em inglês)**. \n",
    "\n",
    "$$\\hat{\\beta}_0=\\bar{y}-\\hat{\\beta}_1\\bar{x}$$\n",
    "\n",
    "$$\\hat{\\beta}_1=\\frac{S_{XY}}{S_{XX}}=\\frac{\\sum_{i=1}^n(x_i-\\bar{x})(y_i-\\bar{y})}{\\sum_{i=1}^n(x_i-\\bar{x})^2}$$\n",
    "\n",
    "**Obs: Acompanhar e anotar o desenvolvimento no quadro.**\n",
    "___\n",
    "\n",
    "### Tarefa 1 - $\\hat{\\beta}_1$ e  $\\hat{\\beta}_0$\n",
    "\n",
    "Calcule os valores de $\\bar{x}$ e $\\bar{y}$. Calcule também $S_{XX}$ e $S_{XY}$, em seguida calcule o $\\hat{\\beta}_1$ e o $\\hat{\\beta}_0$"
   ]
  },
  {
   "cell_type": "code",
   "execution_count": null,
   "metadata": {},
   "outputs": [],
   "source": [
    "#B0 e B1\n",
    "\n",
    "yb = y.mean()\n",
    "xb = x.mean()\n",
    "\n",
    "Sxy = ((x -xb)*(y -yb)).sum()\n",
    "Sxx = ((x -xb)**2).sum()\n",
    "\n",
    "b1 = Sxy/Sxx\n",
    "b0 = yb - b1*xb\n",
    "\n",
    "print(\"beta0: {0}\".format(b0))\n",
    "print(\"beta1: {0}\".format(b1))\n"
   ]
  },
  {
   "cell_type": "markdown",
   "metadata": {},
   "source": [
    "### Verificando os resultados da regressão\n",
    "\n"
   ]
  },
  {
   "cell_type": "markdown",
   "metadata": {},
   "source": [
    "Vamos contrastar os resultados previstos pela regressão com os dados."
   ]
  },
  {
   "cell_type": "code",
   "execution_count": null,
   "metadata": {},
   "outputs": [],
   "source": [
    "x_v = np.linspace(x.min(), x.max(), 500)\n",
    "y_v = b0 + b1*x_v"
   ]
  },
  {
   "cell_type": "code",
   "execution_count": null,
   "metadata": {},
   "outputs": [],
   "source": [
    "plt.plot(x_v,y_v, color=\"r\") # resultados da regressão\n",
    "plt.scatter(x, y) # dados"
   ]
  },
  {
   "cell_type": "markdown",
   "metadata": {},
   "source": [
    "### Tarefa 2 - Resíduos \n",
    "\n",
    "Agora calcular o vetor de resíduos, dado por:\n",
    "$$\\epsilon_i=y_i-(\\hat{\\beta}_0+\\hat{\\beta}_1x_i)$$\n",
    "\n",
    "**Verifique a normalidade dos resíduos. Parece uma Normal?**"
   ]
  },
  {
   "cell_type": "code",
   "execution_count": null,
   "metadata": {},
   "outputs": [],
   "source": [
    " # Escreva sua fórmula dos resíduos aqui\n",
    "\n",
    " # Verifique graficamente  se é uma normal - como fazer isso? Lembre-se do probplot"
   ]
  },
  {
   "cell_type": "markdown",
   "metadata": {},
   "source": [
    "### Teste de hipóteses para os coeficientes \n",
    "\n",
    "Agora que já aprendemos Teste de Hipóteses, podemos verificar se os Betas são realmente relevantes. para tal vamos testar:\n",
    "\n",
    "$$H_0: \\beta_i=0$$\n",
    "$$H_1: \\beta_i\\neq0$$\n",
    "\n"
   ]
  },
  {
   "cell_type": "markdown",
   "metadata": {},
   "source": [
    " Verifique o **valor-p** para os betas e verifique se rejeitamos ou não $H_0$. Utilize $\\alpha=5\\%$. Verifique os resultados da regressão\n",
    " \n",
    " Responda depois da seção abaixo"
   ]
  },
  {
   "cell_type": "markdown",
   "metadata": {},
   "source": [
    "___\n",
    "### Usando statsmodels.OLS\n",
    "\n",
    "Agora que estão familiarizados com algumas medidas, Rode a função OLS() da biblioteca statsmodel e interprete:"
   ]
  },
  {
   "cell_type": "code",
   "execution_count": null,
   "metadata": {
    "scrolled": false
   },
   "outputs": [],
   "source": [
    "import numpy as np\n",
    "import statsmodels.api as sm\n",
    "\n",
    "\n",
    "xc = sm.add_constant(x)\n",
    "#xc = x\n",
    "model = sm.OLS(y,xc)\n",
    "results = model.fit()\n",
    "results.summary()"
   ]
  },
  {
   "cell_type": "markdown",
   "metadata": {},
   "source": [
    "### Plot da reta ajustada\n",
    "\n",
    "**Tarefa 3**\n",
    "\n",
    "Usando os resultados da equação obtida via `statsmodels`, plote novamente a reta ajustada sobre os pontos"
   ]
  },
  {
   "cell_type": "code",
   "execution_count": null,
   "metadata": {},
   "outputs": [],
   "source": [
    "x_vc = sm.add_constant(x_v)\n",
    "y_vc = results.predict(x_vc)\n",
    "plt.plot(x_v, y_vc, color=\"r\")\n",
    "plt.scatter(x,y);"
   ]
  },
  {
   "cell_type": "markdown",
   "metadata": {},
   "source": [
    "### Resíduos\n",
    "\n",
    "Plot da normalidade dos resíduos. O mesmo plot dos resíduos que foi feito acima pode ser facilitado se usarmos o atributo `resid` dos resultados da regressão"
   ]
  },
  {
   "cell_type": "markdown",
   "metadata": {},
   "source": [
    "___\n",
    "\n",
    "\n",
    "\n",
    "**Tarefa 4**: Você consegue interpretar alguns dos resultados acima? Você acha que os resíduos formam uma normal? Fale um pouco sobre a homocedasticidade do modelo."
   ]
  },
  {
   "cell_type": "code",
   "execution_count": null,
   "metadata": {},
   "outputs": [],
   "source": [
    "# Descomente para funcionar\n",
    "#stats.probplot(results.resid, dist=\"norm\", plot=plt);"
   ]
  },
  {
   "cell_type": "markdown",
   "metadata": {},
   "source": [
    "## Resumo dos testes da regressão\n",
    "\n",
    "\n",
    "Os resumo dos resultados da regressão traz informações que nos permitem avaliar a qualidade do ajuste e a validade de:\n",
    "\n",
    "* Normalidade dos resíduos\n",
    "* Testes de hipóteses dos resíduos\n",
    "\n",
    "### Coeficiente de determinação $R^2$\n",
    "\n",
    "É uma medida de quão bem uma regressão capta a variação presente nos dados. \n",
    "\n",
    "\n",
    "$$ R^2 = 1 - \\frac{SS_E}{SS_T}$$\n",
    "\n",
    "\n",
    "Para calcular esta fórmula precisamos das relações:\n",
    "\n",
    "$$SQRes=SS_{E}=\\sum\\limits^{n}_{i=1}(y_i-\\hat{y}_i)^2=\\sum\\limits_{i=1}^{n}\\epsilon^2_{i}$$\n",
    "\n",
    "\n",
    "$$SQT=SS_{T}=\\sum\\limits^{n}_{i=1}(y_i-\\bar{y})^2$$\n",
    "\n",
    "\n",
    "\n",
    "\n",
    "\n",
    "### p-values da estatística t\n",
    "\n",
    "Existem para cada coeficiente $\\beta_i$\n",
    "\n",
    "Testam a seguinte hipótese:\n",
    "\n",
    "$H_0: \\beta_i = 0$\n",
    "\n",
    "$H_1: \\beta_i \\neq 0$\n",
    "\n",
    "Um *p-value* baixo permite **rejeitar** a hipótese $H_0$ que $\\beta_i = 0$\n",
    "\n",
    "\n",
    "\n",
    "\n",
    "### $R^2$ ajustado\n",
    "\n",
    "$N$ é o número de dados\n",
    "$P$ é o número de preditores\n",
    "\n",
    "$Rajustado^2 = R^2 - (1-R^2)\\frac{P}{N-P-1}$\n",
    "\n",
    "Penaliza preditores que não acrescentam poder preditivo significativo\n",
    "\n",
    "### Estatística F\n",
    "\n",
    "Testa as seguintes hipóteses:\n",
    "\n",
    "$H_0: \\beta_i = 0$, para todo $i > 0$\n",
    "\n",
    "$H_1: \\beta_i \\neq 0$, para algum $i > 0$\n",
    "\n",
    "\n",
    "Ou seja: compara o modelo obtido versus um modelo só com intercepto\n",
    "\n",
    "### Teste Omnibus\n",
    "\n",
    "Testa a normalidade dos resíduos\n",
    "\n",
    "Se $Pr(Omnibus)$ for muito baixo, existe evidência de que os resíduos **não são** distribuídos normalmente\n",
    "\n",
    "### Teste Jarque-Bera\n",
    "\n",
    "Outro teste de normalidade.\n",
    "\n",
    "$H_0:$ a distribuição dos resíduos é normal\n",
    "\n",
    "$H_1:$ a distribuição dos resíduos não é normal\n",
    "\n",
    "\n",
    "### Teste Durbin-Watson\n",
    "\n",
    "Testa autocorrelação dos resíduos.\n",
    "\n",
    "Varia na faixa $[0, 4]$\n",
    "\n",
    "* Um valor próximo de $2$ sugere que não há autocorrelação dos resíduos\n",
    "* Um valor menor que $2$ sugere **correlação positiva** dois resíduos\n",
    "* Um valor maior que $2$ sugere **correlação negativa** dois resíduos\n",
    "\n",
    "\n",
    "\n"
   ]
  },
  {
   "cell_type": "markdown",
   "metadata": {},
   "source": [
    "### Tarefa 5 - Análise dos valores p\n",
    "\n",
    "O que os valores *p* da regressão dizem a respeito dos *betas?*"
   ]
  },
  {
   "cell_type": "markdown",
   "metadata": {},
   "source": [
    "**R.:**"
   ]
  },
  {
   "cell_type": "markdown",
   "metadata": {},
   "source": [
    "### Tarefa 6 - Análise da estatística F\n",
    "\n",
    "O que o valor da estatística F diz sobre a qualidade da regressão? \n",
    "\n",
    "Diga qual hipótese nula e alternativa $Prob(F)$ avalia"
   ]
  },
  {
   "cell_type": "markdown",
   "metadata": {},
   "source": [
    "**R.:**"
   ]
  },
  {
   "cell_type": "code",
   "execution_count": null,
   "metadata": {},
   "outputs": [],
   "source": []
  },
  {
   "cell_type": "markdown",
   "metadata": {},
   "source": [
    "### Tarefa 7 - Análise do $R^2$\n",
    "\n",
    "O que o valor de $R^2$ obtido diz sobre o poder explicativo da regressão obtida via OLS?"
   ]
  },
  {
   "cell_type": "markdown",
   "metadata": {},
   "source": [
    "**R.:**"
   ]
  },
  {
   "cell_type": "code",
   "execution_count": null,
   "metadata": {},
   "outputs": [],
   "source": []
  },
  {
   "cell_type": "markdown",
   "metadata": {},
   "source": [
    "### Tarefa 8 - Análise de normalidade do resíduo\n",
    "\n",
    "O que os testes *Omnibus* e *Jarque-Bera* dizem a respeito da normalidade do resíduo? "
   ]
  },
  {
   "cell_type": "markdown",
   "metadata": {},
   "source": [
    "**R.:**"
   ]
  },
  {
   "cell_type": "code",
   "execution_count": null,
   "metadata": {},
   "outputs": [],
   "source": []
  },
  {
   "cell_type": "markdown",
   "metadata": {},
   "source": [
    "### Tarefa 9 - Análise de homocedasticidade\n",
    "\n",
    "Verifique visualmente se a hipótese de homocedasticidade é válida."
   ]
  },
  {
   "cell_type": "markdown",
   "metadata": {},
   "source": [
    "**R.:**"
   ]
  },
  {
   "cell_type": "code",
   "execution_count": null,
   "metadata": {},
   "outputs": [],
   "source": []
  }
 ],
 "metadata": {
  "kernelspec": {
   "display_name": "Python 3",
   "language": "python",
   "name": "python3"
  },
  "language_info": {
   "codemirror_mode": {
    "name": "ipython",
    "version": 3
   },
   "file_extension": ".py",
   "mimetype": "text/x-python",
   "name": "python",
   "nbconvert_exporter": "python",
   "pygments_lexer": "ipython3",
   "version": "3.5.5"
  }
 },
 "nbformat": 4,
 "nbformat_minor": 2
}
