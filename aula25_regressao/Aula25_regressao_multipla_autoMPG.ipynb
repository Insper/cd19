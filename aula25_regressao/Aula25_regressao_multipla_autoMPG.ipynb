{
 "cells": [
  {
   "cell_type": "markdown",
   "metadata": {},
   "source": [
    "___\n",
    "# Atividade: Regressão Linear Múltipla\n",
    "___\n",
    "\n",
    "## Aula 25\n",
    "\n",
    "\n",
    "**Preparo Prévio:**\n",
    "1. Montogmery e Runger. Capítulo 12 - Regressão linear Múltipla\n",
    "1. Magalhães e Lima, seção 9.5. Regressão Linear Simples\n",
    "\n",
    "\n",
    "Referência: http://www.statsmodels.org/dev/diagnostic.html\n",
    "\n",
    "Referência: [http://connor-johnson.com/2014/02/18/linear-regression-with-python/](http://connor-johnson.com/2014/02/18/linear-regression-with-python/)\n",
    "\n",
    "\n",
    "**Hoje:**\n",
    "1. Entender o conceito de regressão linear\n",
    "\n",
    "___"
   ]
  },
  {
   "cell_type": "markdown",
   "metadata": {},
   "source": [
    "A atividade a realizar está no final, mas estude todo o *notebook*"
   ]
  },
  {
   "cell_type": "code",
   "execution_count": null,
   "metadata": {},
   "outputs": [],
   "source": [
    "%matplotlib notebook\n",
    "%reset -f\n",
    "\n",
    "\n",
    "import pandas as pd\n",
    "import numpy as np\n",
    "from scipy.stats import norm, probplot\n",
    "import statsmodels.api as sm\n",
    "import matplotlib.pyplot as plt\n",
    "from mpl_toolkits.mplot3d import Axes3D\n"
   ]
  },
  {
   "cell_type": "markdown",
   "metadata": {},
   "source": [
    "Vamos fazer uma análise exploratória sobre um dataset sobre carros.\n",
    "\n",
    "Fonte: [Auto MPG dataset](http://archive.ics.uci.edu/ml/datasets/Auto+MPG)"
   ]
  },
  {
   "cell_type": "code",
   "execution_count": null,
   "metadata": {},
   "outputs": [],
   "source": [
    "### Função utilitária para fazer a regressão com constante adicionada\n",
    "def regress(X,Y):\n",
    "    X_cp = sm.add_constant(X)\n",
    "    model = sm.OLS(Y,X_cp)\n",
    "    results = model.fit()\n",
    "    return results"
   ]
  },
  {
   "cell_type": "code",
   "execution_count": null,
   "metadata": {},
   "outputs": [],
   "source": [
    "data = pd.read_csv(\"auto_mpg_sub.csv\")"
   ]
  },
  {
   "cell_type": "markdown",
   "metadata": {},
   "source": [
    "**Dicionário de dados:**\n",
    "\n",
    "\n",
    "Variável | Descrição\n",
    ":---:|---:\n",
    "mpg | consumo em miles per gallon\n",
    "cylinders | número de cilindros do motor do carro\n",
    "displacement | deslocamento dos cilindros em polegadas cúbicas\n",
    "horsepower | potência do veículo (HP)\n",
    "weight | peso do veículo (libras)\n",
    "acceleration | aceleração do veículo\n",
    "model year | ano do modelo\n",
    "origin | origem - veja abaixo\n",
    "car name | nome do carro\n",
    "\n",
    "A variável *origin* identifica o país de origem de um veículo\n",
    "\n",
    "Valor | Origem\n",
    ":---:|:---:\n",
    "1 | Estados Unidos da América\n",
    "2 | Europa\n",
    "3 | Japão"
   ]
  },
  {
   "cell_type": "code",
   "execution_count": null,
   "metadata": {
    "scrolled": true
   },
   "outputs": [],
   "source": [
    "data.columns"
   ]
  },
  {
   "cell_type": "markdown",
   "metadata": {},
   "source": [
    "**Vamos trabalhar apenas com as variáveis quantitativas desse dataset**"
   ]
  },
  {
   "cell_type": "code",
   "execution_count": null,
   "metadata": {},
   "outputs": [],
   "source": [
    "df = data[['mpg', 'cylinders', 'displacement', 'horsepower', 'weight', 'acceleration', 'model year']]"
   ]
  },
  {
   "cell_type": "code",
   "execution_count": null,
   "metadata": {},
   "outputs": [],
   "source": [
    "df.describe()"
   ]
  },
  {
   "cell_type": "markdown",
   "metadata": {},
   "source": [
    "Verificando valores nulos."
   ]
  },
  {
   "cell_type": "code",
   "execution_count": null,
   "metadata": {},
   "outputs": [],
   "source": [
    "np.sum(df.isnull())"
   ]
  },
  {
   "cell_type": "markdown",
   "metadata": {},
   "source": [
    "___\n",
    "### Tarefa 1: \n",
    "\n",
    "Ajuste um modelo considerando Consumo como resposta (dependente) e as demais variáveis da base de dados como explicativas!"
   ]
  },
  {
   "cell_type": "markdown",
   "metadata": {},
   "source": [
    "Faça a eparação das variáveis resposta e preditoras (explicativas):"
   ]
  },
  {
   "cell_type": "code",
   "execution_count": null,
   "metadata": {},
   "outputs": [],
   "source": []
  },
  {
   "cell_type": "code",
   "execution_count": null,
   "metadata": {},
   "outputs": [],
   "source": []
  },
  {
   "cell_type": "markdown",
   "metadata": {},
   "source": [
    "Faça uso da função `regress` (que está neste *notebook* ) para fazer o ajuste:"
   ]
  },
  {
   "cell_type": "code",
   "execution_count": null,
   "metadata": {},
   "outputs": [],
   "source": []
  },
  {
   "cell_type": "code",
   "execution_count": null,
   "metadata": {},
   "outputs": [],
   "source": []
  },
  {
   "cell_type": "markdown",
   "metadata": {},
   "source": [
    "___\n",
    "### Tarefa 2:\n",
    "\n",
    "O que os valores $P > |t|$ dizem a respeito das variáveis preditoras usadas?\n"
   ]
  },
  {
   "cell_type": "markdown",
   "metadata": {},
   "source": [
    "**R.:**"
   ]
  },
  {
   "cell_type": "code",
   "execution_count": null,
   "metadata": {},
   "outputs": [],
   "source": []
  },
  {
   "cell_type": "markdown",
   "metadata": {},
   "source": [
    "___\n",
    "### Exemplo de regressão múltipla quando há duas variáveis explicativas\n",
    "\n",
    "Observe como plotar os resultados de uma regressão múltipla"
   ]
  },
  {
   "cell_type": "code",
   "execution_count": null,
   "metadata": {
    "scrolled": true
   },
   "outputs": [],
   "source": [
    "X3 = df[['cylinders',\n",
    "       'acceleration']]\n",
    "results3 = regress(X3, Y)\n",
    "results3.summary()"
   ]
  },
  {
   "cell_type": "code",
   "execution_count": null,
   "metadata": {},
   "outputs": [],
   "source": [
    "c = results3.params[\"const\"]\n",
    "w = results3.params[\"cylinders\"]\n",
    "y = results3.params[\"acceleration\"]"
   ]
  },
  {
   "cell_type": "code",
   "execution_count": null,
   "metadata": {},
   "outputs": [],
   "source": [
    "def f(cylinders, acc):\n",
    "    return c+w*cylinders + y*acc"
   ]
  },
  {
   "cell_type": "code",
   "execution_count": null,
   "metadata": {},
   "outputs": [],
   "source": [
    "npoints = 100\n",
    "cylinders = np.linspace(X3[\"cylinders\"].min(), X3[\"cylinders\"].max(), npoints)\n",
    "acc = np.linspace(X3[\"acceleration\"].min(), X3[\"acceleration\"].max(), npoints)\n"
   ]
  },
  {
   "cell_type": "code",
   "execution_count": null,
   "metadata": {},
   "outputs": [],
   "source": [
    "cylinders_xx, acc_yy = np.meshgrid(cylinders, acc)"
   ]
  },
  {
   "cell_type": "code",
   "execution_count": null,
   "metadata": {},
   "outputs": [],
   "source": [
    "z = f(cylinders_xx, acc_yy)"
   ]
  },
  {
   "cell_type": "code",
   "execution_count": null,
   "metadata": {},
   "outputs": [],
   "source": [
    "plt3d = plt.figure().gca(projection=\"3d\")\n",
    "plt3d.plot_surface(cylinders_xx, acc_yy, z)\n",
    "plt3d.scatter(X3[\"cylinders\"],X3[\"acceleration\"], Y , color=\"r\");"
   ]
  },
  {
   "cell_type": "markdown",
   "metadata": {},
   "source": [
    "___\n",
    "## Atividade"
   ]
  },
  {
   "cell_type": "markdown",
   "metadata": {},
   "source": [
    "Parece que as variáveis `cylinders` e `acceleration` não são as melhores escolhas para explicar a economia de combustível.\n",
    "\n",
    "Encontre $2$ variáveis melhores, gere o modelo via `OLS` e realize o plot 3D."
   ]
  },
  {
   "cell_type": "markdown",
   "metadata": {},
   "source": [
    "**R.:**\n",
    "\n",
    "1) Para encontrar as duas melhores variáveis que explicam a variável `mpg`, ajuste um modelo com todas as variáveis (método Stepwise Backward):"
   ]
  },
  {
   "cell_type": "code",
   "execution_count": null,
   "metadata": {},
   "outputs": [],
   "source": []
  },
  {
   "cell_type": "code",
   "execution_count": null,
   "metadata": {},
   "outputs": [],
   "source": []
  },
  {
   "cell_type": "markdown",
   "metadata": {},
   "source": [
    "2) Remova a variável com maior valor-p desde que não significante (>10%)! No caso, verá que será removida a variável `horsepower`. Faça novo ajuste de regressão sem essa variável! "
   ]
  },
  {
   "cell_type": "code",
   "execution_count": null,
   "metadata": {},
   "outputs": [],
   "source": []
  },
  {
   "cell_type": "code",
   "execution_count": null,
   "metadata": {},
   "outputs": [],
   "source": []
  },
  {
   "cell_type": "markdown",
   "metadata": {},
   "source": [
    "3) Do novo ajuste, verá que a variável `cylinders` possue maior valor-p > 10%. Faça novo ajuste sem essa variável. E assim sucessivamente até que todas as variáveis no modelo final tenham valor-p abaixo do nível de significância adotado (desde que menor do que 10%)."
   ]
  },
  {
   "cell_type": "code",
   "execution_count": null,
   "metadata": {},
   "outputs": [],
   "source": []
  },
  {
   "cell_type": "code",
   "execution_count": null,
   "metadata": {},
   "outputs": [],
   "source": []
  },
  {
   "cell_type": "markdown",
   "metadata": {},
   "source": [
    "4) Em cada passo para remoção de uma variável, na prática, é necessário avaliar a validade das suposições do modelo!"
   ]
  },
  {
   "cell_type": "code",
   "execution_count": null,
   "metadata": {},
   "outputs": [],
   "source": []
  },
  {
   "cell_type": "code",
   "execution_count": null,
   "metadata": {},
   "outputs": [],
   "source": []
  },
  {
   "cell_type": "markdown",
   "metadata": {},
   "source": [
    "5) Com o modelo final, faça detalhadamente a análise das suposições do modelo!"
   ]
  },
  {
   "cell_type": "code",
   "execution_count": null,
   "metadata": {},
   "outputs": [],
   "source": []
  },
  {
   "cell_type": "code",
   "execution_count": null,
   "metadata": {},
   "outputs": [],
   "source": []
  },
  {
   "cell_type": "markdown",
   "metadata": {},
   "source": [
    "6) Realização do plot 3D com as duas variáveis relevantes para explicar a variável `mpg` já que ambas possuem valor *p* < 10%."
   ]
  },
  {
   "cell_type": "code",
   "execution_count": null,
   "metadata": {},
   "outputs": [],
   "source": []
  },
  {
   "cell_type": "code",
   "execution_count": null,
   "metadata": {},
   "outputs": [],
   "source": []
  },
  {
   "cell_type": "markdown",
   "metadata": {},
   "source": [
    "**OBSERVAÇÃO**\n",
    "\n",
    "Note que se o modelo final ficasse com mais do que duas variáveis preditoras com valor *p* < 10%, então um gráfico 3D não seria adequado e nem informativo para conseguir avaliar o modelo ajustado sob os pontos!!"
   ]
  }
 ],
 "metadata": {
  "kernelspec": {
   "display_name": "Python 3",
   "language": "python",
   "name": "python3"
  },
  "language_info": {
   "codemirror_mode": {
    "name": "ipython",
    "version": 3
   },
   "file_extension": ".py",
   "mimetype": "text/x-python",
   "name": "python",
   "nbconvert_exporter": "python",
   "pygments_lexer": "ipython3",
   "version": "3.5.5"
  }
 },
 "nbformat": 4,
 "nbformat_minor": 2
}
