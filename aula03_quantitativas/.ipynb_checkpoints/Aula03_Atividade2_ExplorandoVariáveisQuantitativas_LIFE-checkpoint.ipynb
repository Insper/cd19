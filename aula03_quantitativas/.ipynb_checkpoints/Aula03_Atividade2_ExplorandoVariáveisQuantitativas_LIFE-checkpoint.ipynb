{
 "cells": [
  {
   "cell_type": "markdown",
   "metadata": {},
   "source": [
    "___\n",
    "# Atividade: Variáveis quantitativas com Expectativa de Vida\n",
    "___\n",
    "\n",
    "## Aula 03\n",
    "\n",
    "\n",
    "\n",
    "**Preparo prévio:**\n",
    "1.\tLeitura prévia necessária: Magalhães e Lima (7ª. Edição): pág. 9 a 17 – destacando para variáveis quantitativas; pág. 106 e 107 (Definição 4.1 e Exemplo 4.1).\n",
    "\n",
    "**Hoje:**\n",
    "1. Explorar a variável quantitativa Expectativa de Vida de diversos países do mundo nos anos: 1800, 1926 e 2000. \n",
    "2. Construir tabelas de frequências e interpretar resultados considerando variáveis quantitativas de forma univariada. \n",
    "4. Explicar vantagens e desvantagens sobre o uso da frequência ou da densidade na construção de um histograma e saber interpretá-lo. \n",
    "5. Desenvolver contas para obtenção da média e mediana nos três anos.\n",
    "6. Identificar o formato dos dados (simétrico, assimétrico positivo ou assimétrico negativo) ao observar um histograma e explicar o que cada formato pode impactar nas medidas de posição.\n",
    "\n",
    "\n",
    "**Próxima aula:**\n",
    "1. Leitura prévia necessária: Magalhães e Lima (7ª. Edição): pág. 18 a 25; pág. 106 e 107 (Definição 4.1 e Exemplo 4.1); pág. 116 e 117 (Definição 4.4 e Exemplo 4.8). \n",
    "2. Leitura prévia necessária: Montgomery et al (5ª. Edição): pág. 24 a 28.\n",
    "___\n"
   ]
  },
  {
   "cell_type": "markdown",
   "metadata": {},
   "source": [
    "## <font color='blue'>Expectativa de Vida - LIFE</font>\n",
    "\n",
    "O Banco Mundial (http://data.worldbank.org/brazilian-portuguese) disponibiliza bases de dados estatísticos para um pouco mais de 200 países do mundo desde o ano 1800, as quais consideram uma seleção abrangente de indicadores econômicos, sociais e ambientais. Um desses indicadores é a expectativa de vida (em anos) de cada país.\n",
    "\n",
    "O arquivo `Life.xlsx` contém a expectativa de vida de vários países para os anos 1800, 1926 e 2000.\n",
    "\n",
    "___"
   ]
  },
  {
   "cell_type": "code",
   "execution_count": 1,
   "metadata": {},
   "outputs": [],
   "source": [
    "%matplotlib inline\n",
    "import pandas as pd\n",
    "import matplotlib.pyplot as plt\n",
    "import os\n",
    "from numpy import arange\n",
    "from numpy import percentile\n",
    "import numpy as np\n"
   ]
  },
  {
   "cell_type": "code",
   "execution_count": 2,
   "metadata": {},
   "outputs": [
    {
     "name": "stdout",
     "output_type": "stream",
     "text": [
      "Esperamos trabalhar no diretório\n",
      "C:\\Users\\Kelly\\Dropbox\\Insper Aulas\\DataScience (1)\\2019.2\\Aulas\\Aula03 - ExplorandoVariáveisQuantitativas - Histograma e Medidas de posição\\nb\n"
     ]
    }
   ],
   "source": [
    "print('Esperamos trabalhar no diretório')\n",
    "print(os.getcwd())"
   ]
  },
  {
   "cell_type": "code",
   "execution_count": 3,
   "metadata": {},
   "outputs": [],
   "source": [
    "dados = pd.read_excel('Life.xlsx')"
   ]
  },
  {
   "cell_type": "code",
   "execution_count": 4,
   "metadata": {},
   "outputs": [
    {
     "data": {
      "text/html": [
       "<div>\n",
       "<style scoped>\n",
       "    .dataframe tbody tr th:only-of-type {\n",
       "        vertical-align: middle;\n",
       "    }\n",
       "\n",
       "    .dataframe tbody tr th {\n",
       "        vertical-align: top;\n",
       "    }\n",
       "\n",
       "    .dataframe thead th {\n",
       "        text-align: right;\n",
       "    }\n",
       "</style>\n",
       "<table border=\"1\" class=\"dataframe\">\n",
       "  <thead>\n",
       "    <tr style=\"text-align: right;\">\n",
       "      <th></th>\n",
       "      <th>Pais</th>\n",
       "      <th>L1800</th>\n",
       "      <th>L1926</th>\n",
       "      <th>L2000</th>\n",
       "    </tr>\n",
       "  </thead>\n",
       "  <tbody>\n",
       "    <tr>\n",
       "      <th>0</th>\n",
       "      <td>Afghanistan</td>\n",
       "      <td>28.2110</td>\n",
       "      <td>26.919920</td>\n",
       "      <td>51.0</td>\n",
       "    </tr>\n",
       "    <tr>\n",
       "      <th>1</th>\n",
       "      <td>Albania</td>\n",
       "      <td>35.4000</td>\n",
       "      <td>35.400000</td>\n",
       "      <td>74.2</td>\n",
       "    </tr>\n",
       "    <tr>\n",
       "      <th>2</th>\n",
       "      <td>Algeria</td>\n",
       "      <td>28.8224</td>\n",
       "      <td>30.968000</td>\n",
       "      <td>73.2</td>\n",
       "    </tr>\n",
       "    <tr>\n",
       "      <th>3</th>\n",
       "      <td>Angola</td>\n",
       "      <td>26.9800</td>\n",
       "      <td>26.980000</td>\n",
       "      <td>52.6</td>\n",
       "    </tr>\n",
       "    <tr>\n",
       "      <th>4</th>\n",
       "      <td>Antigua and Barbuda</td>\n",
       "      <td>33.5360</td>\n",
       "      <td>37.673931</td>\n",
       "      <td>73.9</td>\n",
       "    </tr>\n",
       "  </tbody>\n",
       "</table>\n",
       "</div>"
      ],
      "text/plain": [
       "                  Pais    L1800      L1926  L2000\n",
       "0          Afghanistan  28.2110  26.919920   51.0\n",
       "1              Albania  35.4000  35.400000   74.2\n",
       "2              Algeria  28.8224  30.968000   73.2\n",
       "3               Angola  26.9800  26.980000   52.6\n",
       "4  Antigua and Barbuda  33.5360  37.673931   73.9"
      ]
     },
     "execution_count": 4,
     "metadata": {},
     "output_type": "execute_result"
    }
   ],
   "source": [
    "dados.head()"
   ]
  },
  {
   "cell_type": "markdown",
   "metadata": {},
   "source": [
    "___\n",
    "## Objetivo:\n",
    "\n",
    "Pelos noticiários, já temos ideia (hipótese teórica) que a expectativa de vida não só do Brasil mas também de todos os países vem aumentando no decorrer dos anos. Interesse aqui será compreender/analisar a expectativa ao longo desses três anos.\n",
    "\n",
    "Assim, escolhendo ferramentas adequadas, analise a expectativa de vida dos países em cada ano e também compare entre os três anos. "
   ]
  },
  {
   "cell_type": "code",
   "execution_count": null,
   "metadata": {},
   "outputs": [],
   "source": []
  },
  {
   "cell_type": "markdown",
   "metadata": {},
   "source": [
    "___\n",
    "\n",
    "## Depois de fazer algumas análises seguindo o objetivo proposto anteriormetne faça as tarefas a seguir (algumas podem se repetir):\n",
    "\n",
    "Considerando esses dados, faça as seguintes tarefas:\n",
    "\n",
    "**1.** Construa uma tabela de frequências absolutas e relativas (em %) para cada um dos anos. "
   ]
  },
  {
   "cell_type": "code",
   "execution_count": null,
   "metadata": {},
   "outputs": [],
   "source": []
  },
  {
   "cell_type": "markdown",
   "metadata": {},
   "source": [
    "\n",
    "2.\tConstrua um histograma para cada ano e interprete os gráficos. \n",
    "\n",
    "3. De acordo com o formato de um histograma, é possível classificar a distribuição dos dados como sendo: simétrica, assimétrica positiva (ou a direita) ou assimétrica negativa (ou a esquerda). Observando o formato de cada histograma construído no item anterior, classifique como sendo simétrico, assimétrico positivo ou assimétrico negativo. Argumente claramente o motivo de sua classificação. \n",
    "![AssimSim](AssimSim.jpg)\n",
    "\n",
    "$\\hspace{2mm}$\n",
    "4.\tPara cada ano, calcule a expectativa média de vida, a expectativa mediana de vida e a classe modal.\n",
    "\n",
    "5.\tPara cada um dos três anos, ordene os valores das medidas de posição (média, mediana e classe modal) obtidas no item anterior. A ordem dessas três medidas de posição é um mero acaso ou pode ser consequência do formato dos dados? Argumente claramente sua resposta."
   ]
  },
  {
   "cell_type": "markdown",
   "metadata": {},
   "source": [
    "___\n",
    "\n",
    "## Comparação os anos 1800, 1926 e 2000"
   ]
  },
  {
   "cell_type": "markdown",
   "metadata": {},
   "source": [
    "**1.** Construa uma tabela de frequências absolutas e relativas da Expectativa de Vida (em %) para cada um dos anos.\n"
   ]
  },
  {
   "cell_type": "code",
   "execution_count": null,
   "metadata": {},
   "outputs": [],
   "source": []
  },
  {
   "cell_type": "markdown",
   "metadata": {},
   "source": [
    "**2.** Construa um histograma para cada ano e interprete os gráficos.\n"
   ]
  },
  {
   "cell_type": "code",
   "execution_count": null,
   "metadata": {},
   "outputs": [],
   "source": []
  },
  {
   "cell_type": "markdown",
   "metadata": {},
   "source": [
    "**3.** De acordo com o formato de um histograma, é possível classificar a distribuição dos dados como sendo: simétrica, assimétrica positiva (ou a direita) ou assimétrica negativa (ou a esquerda). Observando o formato de cada histograma construído no item anterior, classifique como sendo simétrico, assimétrico positivo ou assimétrico negativo. Argumente claramente o motivo de sua classificação."
   ]
  },
  {
   "cell_type": "code",
   "execution_count": null,
   "metadata": {},
   "outputs": [],
   "source": []
  },
  {
   "cell_type": "markdown",
   "metadata": {},
   "source": [
    "___\n",
    "## Medidas de posição"
   ]
  },
  {
   "cell_type": "markdown",
   "metadata": {},
   "source": [
    "**4.** \tPara cada ano, calcule a expectativa média de vida, a expectativa mediana de vida e a classe modal."
   ]
  },
  {
   "cell_type": "code",
   "execution_count": null,
   "metadata": {},
   "outputs": [],
   "source": []
  },
  {
   "cell_type": "markdown",
   "metadata": {},
   "source": [
    "**5.** Para cada um dos três anos, ordene os valores das medidas de posição (média, mediana e classe modal) obtidas no item anterior. A ordem dessas três medidas de posição é um mero acaso ou pode ser consequência do formato dos dados? Argumente claramente sua resposta.\n"
   ]
  },
  {
   "cell_type": "code",
   "execution_count": null,
   "metadata": {},
   "outputs": [],
   "source": []
  }
 ],
 "metadata": {
  "anaconda-cloud": {},
  "kernelspec": {
   "display_name": "Python 3",
   "language": "python",
   "name": "python3"
  },
  "language_info": {
   "codemirror_mode": {
    "name": "ipython",
    "version": 3
   },
   "file_extension": ".py",
   "mimetype": "text/x-python",
   "name": "python",
   "nbconvert_exporter": "python",
   "pygments_lexer": "ipython3",
   "version": "3.5.5"
  }
 },
 "nbformat": 4,
 "nbformat_minor": 2
}
