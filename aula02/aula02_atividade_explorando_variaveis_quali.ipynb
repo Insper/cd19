{
 "cells": [
  {
   "cell_type": "markdown",
   "metadata": {},
   "source": [
    "___\n",
    "# Análise Exploratória: Variáveis qualitativas\n",
    "___\n",
    "\n",
    "## Aula 02\n",
    "\n",
    "\n",
    "**Links Úteis:**\n",
    "1.\tLeitura prévia necessária: Magalhães e Lima (7ª. Edição): pág. 9 a 16 – destacando para variáveis qualitativas.\n",
    "2.\t10 Minutes to Pandas: http://pandas.pydata.org/pandas-docs/stable/10min.html\n",
    "3.\tEssential Basic Functionality: http://pandas.pydata.org/pandas-docs/stable/basics.html\n",
    "\n",
    "**Hoje:**\n",
    "1.\tAnalisar variáveis qualitativas de forma uni e bivariadas utilizando tabelas de frequências e gráficos de barras e de setor.\n",
    "\n",
    "**Próxima aula:**\n",
    "1.\tLeitura prévia necessária: Magalhães e Lima (7ª. Edição): pág. 9 a 17 – destacando para variáveis quantitativas; pág. 106 e 107 (Definição 4.1 e Exemplo 4.1).\n",
    "\n",
    "___\n"
   ]
  },
  {
   "cell_type": "markdown",
   "metadata": {},
   "source": [
    "O que você deve procurar aprender neste `notebook`:\n",
    "\n",
    "* Como definir uma coluna de dados como qualitativa (categórica)\n",
    "* Como trocar seus valores numéricos por rótulos  numa coluna qualitativa\n",
    "* Como filtrar datasets \n",
    "* Como criar colunas derivadas de outras colunas\n",
    "* Relembrar o uso de `value_counts()` e como usar o `normalize=True` para alternar entre frequências relativas ou absolutas \n",
    "* Escolher uma escala de apresentação para uma variável qualitativa  usando o método  `reindex()`\n",
    "* Relembrar customização de plots usando: `ylabel`, `xlabel` e `subplots`\n",
    "* Visualização de crosstabs, lembrando que crosstabs *sempre* cruzam duas colunas que deveriam ser categóricas\n",
    "* Note que na tabela resultante de um *crosstab* cada célula passa a ter dois índices \n",
    "* Análise de 3 qualis simultaneamente, na verdade filtramos por uma das variáveis, estabelecendo um recorte,  e fazemos o crosstab das outras duas"
   ]
  },
  {
   "cell_type": "markdown",
   "metadata": {},
   "source": [
    "## <font color='blue'>Empresa de TV</font>\n",
    "\n",
    "Uma empresa de TV via satélite criou recentemente dois tipos de planos de canais (A e B).\n",
    "\n",
    "A empresa tem como objetivo estudar o perfil dos clientes que aderiram ao plano para enviar malas diretas aos potenciais clientes de cada tipo de plano.\n",
    "\n",
    "A base de dados apresenta algumas variáveis para uma amostra de 82 clientes selecionados aleatoriamente dentre aqueles que aderiram aos planos. As variáveis têm os seguintes significados:\n",
    "\n",
    "* CLIENTE: identificador do cliente.\n",
    "* PLANO: apresenta o plano adquirido pelo cliente – (1=A ou 2=B). \n",
    "* EC: apresenta estado civil do cliente no momento da adesão ao  plano – (1=Casado, 2=Solteiro e 3=Outros).\n",
    "* SATISFACAO: grau de satisfação do cliente pelo plano – \n",
    "\t(5=Muito satisfeito, 4=Satisfeito, 3=Indiferente, 2=Insatisfeito e 1=Muito insatisfeito).\n",
    "* RENDA: renda pessoal do cliente, em milhares de reais.\n",
    "\n",
    "O arquivo `EmpresaTV Cod.xls` contém as variáveis descritas acima.\n",
    "\n"
   ]
  },
  {
   "cell_type": "code",
   "execution_count": null,
   "metadata": {},
   "outputs": [],
   "source": [
    "%matplotlib inline\n",
    "import pandas as pd\n",
    "import matplotlib.pyplot as plt\n",
    "import os\n",
    "\n",
    "# Função para a legenda ficar fora do gráfico\n",
    "def legend_box():\n",
    "    plt.subplots_adjust(right=0.8)\n",
    "    plt.legend(bbox_to_anchor=(1.04,0.5), loc=\"center left\", borderaxespad=0)\n"
   ]
  },
  {
   "cell_type": "code",
   "execution_count": null,
   "metadata": {},
   "outputs": [],
   "source": [
    "print('Esperamos trabalhar no diretório')\n",
    "print(os.getcwd())"
   ]
  },
  {
   "cell_type": "code",
   "execution_count": null,
   "metadata": {},
   "outputs": [],
   "source": [
    "dados = pd.read_excel('EmpresaTV Cod.xlsx')"
   ]
  },
  {
   "cell_type": "code",
   "execution_count": null,
   "metadata": {},
   "outputs": [],
   "source": [
    "dados.head()"
   ]
  },
  {
   "cell_type": "code",
   "execution_count": null,
   "metadata": {},
   "outputs": [],
   "source": [
    "list(dados)"
   ]
  },
  {
   "cell_type": "markdown",
   "metadata": {},
   "source": [
    "___\n",
    "## Definindo as variáveis qualitativas como categóricas:"
   ]
  },
  {
   "cell_type": "markdown",
   "metadata": {},
   "source": [
    "Retiramos os comandos a seguir do tutorial. É boa prática ajudarmos o *pandas* a saber quando as variáveis são categóricas"
   ]
  },
  {
   "cell_type": "code",
   "execution_count": null,
   "metadata": {},
   "outputs": [],
   "source": [
    "dados.PLANO = dados.PLANO.astype('category')\n",
    "dados.EC = dados.EC.astype('category')\n",
    "dados.SATISFACAO = dados.SATISFACAO.astype('category')\n",
    "dados.RENDA = dados.RENDA.astype('float')"
   ]
  },
  {
   "cell_type": "markdown",
   "metadata": {},
   "source": [
    "### Substituindo os códigos numéricos pelos *labels* em cada variável qualitativa:\n",
    "\n",
    "Muitas vezes a análise fica mais clara se as colunas de dados apresentam os rótulos corretos das caregorias de dados\n",
    "\n",
    "Relembrando:\n",
    "* PLANO: apresenta o plano adquirido pelo cliente – (1=A ou 2=B). \n",
    "* EC: apresenta estado civil do cliente no momento da adesão ao  plano – (1=Casado, 2=Solteiro e 3=Outros).\n",
    "* SATISFACAO: grau de satisfação do cliente pelo plano – \n",
    "\t(5=Muito satisfeito, 4=Satisfeito, 3=Indiferente, 2=Insatisfeito e 1=Muito insatisfeito)."
   ]
  },
  {
   "cell_type": "code",
   "execution_count": null,
   "metadata": {},
   "outputs": [],
   "source": [
    "dados.PLANO.cat.categories = (['A', 'B'])\n",
    "dados.EC.cat.categories = (['Casado', 'Solteiro', 'Outros'])\n",
    "dados.SATISFACAO.cat.categories = (['Muito Insatisfeito', 'Insatisfeito', 'Indiferente', 'Satisfeito', 'Muito Satisfeito'])"
   ]
  },
  {
   "cell_type": "code",
   "execution_count": null,
   "metadata": {
    "scrolled": true
   },
   "outputs": [],
   "source": [
    "dados.head()"
   ]
  },
  {
   "cell_type": "code",
   "execution_count": null,
   "metadata": {},
   "outputs": [],
   "source": [
    "pd.crosstab(dados.SATISFACAO,dados.PLANO, normalize='columns', margins=True)*100"
   ]
  },
  {
   "cell_type": "markdown",
   "metadata": {},
   "source": [
    "___\n",
    "# EXERCÍCIO:\n"
   ]
  },
  {
   "cell_type": "markdown",
   "metadata": {},
   "source": [
    "A seguir, iremos criar novos datasets SUPONDO que isso faça parte do objetivo do problema!!!\n",
    "\n",
    "Faça os itens a seguir:\n",
    "\n",
    "**1)** Crie um novo dataframe contendo todas as variáveis (colunas) apenas dos clientes do `Plano A`;\n",
    "\n"
   ]
  },
  {
   "cell_type": "code",
   "execution_count": null,
   "metadata": {},
   "outputs": [],
   "source": [
    "## 1) Crie um novo dataframe contendo todas as variáveis apenas os clientes do Plano A;\n",
    "\n",
    "dados[dados.PLANO=='A']"
   ]
  },
  {
   "cell_type": "markdown",
   "metadata": {},
   "source": [
    "OUTRAS MANEIRAS DE FAZER FILTRO:"
   ]
  },
  {
   "cell_type": "code",
   "execution_count": null,
   "metadata": {},
   "outputs": [],
   "source": [
    "#dados.loc[dados.PLANO=='A',:]"
   ]
  },
  {
   "cell_type": "code",
   "execution_count": null,
   "metadata": {},
   "outputs": [],
   "source": [
    "#dados.loc[dados.PLANO=='A',['EC','SATISFACAO']]"
   ]
  },
  {
   "cell_type": "markdown",
   "metadata": {},
   "source": [
    "**2)** Crie um novo dataframe contendo todas as variáveis apenas dos clientes `Satisfeito` e `Muito Satisfeito`;\n",
    "\n"
   ]
  },
  {
   "cell_type": "code",
   "execution_count": null,
   "metadata": {},
   "outputs": [],
   "source": [
    "\n",
    "dados_satisfeito = dados[(dados.SATISFACAO == 'Satisfeito') | (dados.SATISFACAO == 'Muito Satisfeito')]\n",
    "\n",
    "#Tb funciona se fizer:\n",
    "#dados.loc[(dados.SATISFACAO == 'Satisfeito') | (dados.SATISFACAO == 'Muito Satisfeito')]\n",
    "#dados.loc[(dados.SATISFACAO == 'Satisfeito') | (dados.SATISFACAO == 'Muito Satisfeito'),:]\n",
    "#dados.loc[(dados.SATISFACAO == 'Satisfeito') | (dados.SATISFACAO == 'Muito Satisfeito'),]"
   ]
  },
  {
   "cell_type": "code",
   "execution_count": null,
   "metadata": {},
   "outputs": [],
   "source": [
    "dados_satisfeito.head()"
   ]
  },
  {
   "cell_type": "markdown",
   "metadata": {},
   "source": [
    "**3)** Selecione a variável `RENDA` apenas os clientes `Insatisfeito` e `Muito Insatisfeito`;\n",
    "\n"
   ]
  },
  {
   "cell_type": "code",
   "execution_count": null,
   "metadata": {},
   "outputs": [],
   "source": [
    "##3) Selecione a variável RENDA apenas os clientes Insatisfeito e Muito Insatisfeito;\n",
    "\n",
    "rendaI = dados.RENDA[(dados.SATISFACAO=='Insatisfeito') | (dados.SATISFACAO=='Muito Insatisfeito')]\n",
    "\n",
    "rendaI\n",
    "\n",
    "#Tb funciona se fizer:\n",
    "#dados.loc[(dados.SATISFACAO=='Insatisfeito') | (dados.SATISFACAO=='Muito Insatisfeito'), 'RENDA']\n",
    "#dados['RENDA'][(dados.SATISFACAO=='Insatisfeito') | (dados.SATISFACAO=='Muito Insatisfeito')]"
   ]
  },
  {
   "cell_type": "markdown",
   "metadata": {},
   "source": [
    "**4)** No dataset `dados`, crie uma nova variável chamada `Sentimento` com as seguintes categorias:\n",
    "\n",
    "    Não curtiu, se `SATISFACAO = Insatisfeito`  ou `Muito Insatisfeito`\n",
    "    Indiferente, se `SATISFACAO = Indiferente`\n",
    "    Curtiu, se `SATISFACAO = Satisfeito` ou `Muito Satisfeito`"
   ]
  },
  {
   "cell_type": "code",
   "execution_count": null,
   "metadata": {
    "scrolled": true
   },
   "outputs": [],
   "source": [
    "dados.loc[(dados.SATISFACAO=='Insatisfeito') | (dados.SATISFACAO=='Muito Insatisfeito'),'SENTIMENTO'] = 'Não curtiu'\n",
    "dados.loc[(dados.SATISFACAO=='Indiferente'),'SENTIMENTO'] = 'Indiferente'\n",
    "dados.loc[(dados.SATISFACAO=='Satisfeito') | (dados.SATISFACAO=='Muito Satisfeito'),'SENTIMENTO'] = 'Curtiu'\n",
    "\n",
    "dados.head()"
   ]
  },
  {
   "cell_type": "markdown",
   "metadata": {},
   "source": [
    "___\n",
    "## Atenção:\n",
    "Como o objetivo da empresa de TV é comparar os planos A e B, MANTER OS DOIS PLANOS JUNTOS NO MESMO DATASET CERTAMENTE AJUDA MUITO NA ANÁLISE DOS DADOS VIA TABELAS E GRÁFICOS. Entenderemos isso melhor na próxima aula!!\n",
    "___"
   ]
  },
  {
   "cell_type": "markdown",
   "metadata": {},
   "source": [
    "___\n",
    "# Análise univariada das variáveis qualitativas"
   ]
  },
  {
   "cell_type": "markdown",
   "metadata": {},
   "source": [
    "Faça a tabela das frequências absolutas por PLANO:"
   ]
  },
  {
   "cell_type": "code",
   "execution_count": null,
   "metadata": {},
   "outputs": [],
   "source": [
    "ut1 = dados.PLANO.value_counts(sort=False).reindex(['A', 'B'])\n"
   ]
  },
  {
   "cell_type": "code",
   "execution_count": null,
   "metadata": {},
   "outputs": [],
   "source": [
    "ut1"
   ]
  },
  {
   "cell_type": "markdown",
   "metadata": {},
   "source": [
    "Agora faça a tabela das frequências absolutas **por estado civil** :"
   ]
  },
  {
   "cell_type": "code",
   "execution_count": null,
   "metadata": {},
   "outputs": [],
   "source": [
    "ut2 = dados.EC.value_counts(sort=False).reindex(['Casado', 'Solteiro','Outros'])\n",
    "ut2\n"
   ]
  },
  {
   "cell_type": "markdown",
   "metadata": {},
   "source": [
    "E agora, faça a tabela das frequências absolutas **por satisfação**:"
   ]
  },
  {
   "cell_type": "code",
   "execution_count": null,
   "metadata": {},
   "outputs": [],
   "source": [
    "ut3 = dados.SATISFACAO.value_counts(sort=True).reindex(['Muito Insatisfeito', 'Insatisfeito', 'Indiferente', 'Satisfeito', 'Muito Satisfeito'])\n",
    "ut3"
   ]
  },
  {
   "cell_type": "markdown",
   "metadata": {},
   "source": [
    "## Frequências relativas"
   ]
  },
  {
   "cell_type": "markdown",
   "metadata": {},
   "source": [
    "Converta alguma das tabelas acima em frequência relativa! Converta para escala *percentual* com 1 casa decimal\n",
    "\n",
    "Frequências relativas por `PLANO`"
   ]
  },
  {
   "cell_type": "code",
   "execution_count": null,
   "metadata": {},
   "outputs": [],
   "source": [
    "ut1 = (dados.PLANO.value_counts(sort=False, normalize=True)*100).round(decimals=1).reindex(['A', 'B'])\n",
    "ut1"
   ]
  },
  {
   "cell_type": "markdown",
   "metadata": {},
   "source": [
    "Frequências relativas por `ESTADO CIVIL`:"
   ]
  },
  {
   "cell_type": "code",
   "execution_count": null,
   "metadata": {
    "scrolled": true
   },
   "outputs": [],
   "source": [
    "\n",
    "ut2 = (dados.EC.value_counts(sort=False, normalize=True)*100).round(decimals=1).reindex(['Casado', 'Solteiro','Outros'])\n",
    "ut2\n",
    "\n"
   ]
  },
  {
   "cell_type": "markdown",
   "metadata": {},
   "source": [
    "Frequências relativas por `SATISFACAO`"
   ]
  },
  {
   "cell_type": "code",
   "execution_count": null,
   "metadata": {},
   "outputs": [],
   "source": [
    "ut3 = (dados.SATISFACAO.value_counts(sort=True, normalize=True)*100).round(decimals=1).reindex(['Muito Insatisfeito', 'Insatisfeito', 'Indiferente', 'Satisfeito', 'Muito Satisfeito'])\n",
    "ut3"
   ]
  },
  {
   "cell_type": "markdown",
   "metadata": {},
   "source": [
    "## Gráfico de barras"
   ]
  },
  {
   "cell_type": "markdown",
   "metadata": {},
   "source": [
    "Faça um *gráfico de barras* das frequências relativas por planos"
   ]
  },
  {
   "cell_type": "code",
   "execution_count": null,
   "metadata": {},
   "outputs": [],
   "source": [
    "# Gráfico de barras\n",
    "plot = ut1.plot(kind='bar',title='PLANOS',figsize=(6, 6),color=('b','g'))\n",
    "plt.ylabel('Freq.Relativa (em %)')\n",
    "plt.xlabel('Planos')\n",
    "plt.show()"
   ]
  },
  {
   "cell_type": "markdown",
   "metadata": {},
   "source": [
    "Agora faça o mesmo para `ESTADO CIVIL` e `SATISFAÇÃO`: "
   ]
  },
  {
   "cell_type": "code",
   "execution_count": null,
   "metadata": {},
   "outputs": [],
   "source": [
    "plot = ut2.plot(kind='bar',title='ESTADO CIVIL',figsize=(6, 6))#,color=('b','g','r'))\n",
    "plt.ylabel('Freq.Relativa (em %)')\n",
    "plt.xlabel('Estado Civil')\n",
    "plt.show()"
   ]
  },
  {
   "cell_type": "code",
   "execution_count": null,
   "metadata": {},
   "outputs": [],
   "source": [
    "plot = ut3.plot(kind='bar',title='SATISFAÇÃO',figsize=(6, 6),color=('b','g','r','c','m'))\n",
    "plt.ylabel('Freq.Relativa (em %)')\n",
    "plt.xlabel('Satisfação')\n",
    "plt.show()"
   ]
  },
  {
   "cell_type": "markdown",
   "metadata": {},
   "source": [
    "## Gráfico de setor\n",
    "\n",
    "Vamos fazer um gráfico de setor contendo as separações por `PLANOS`, `Estado Civil` e `Satisfação` como um exemplo de `subplots`"
   ]
  },
  {
   "cell_type": "code",
   "execution_count": null,
   "metadata": {},
   "outputs": [],
   "source": [
    "# Gráfico de Setor\n",
    "fig = plt.figure(figsize=(13, 4))\n",
    "plt.subplot(131)\n",
    "plot = ut1.plot(kind='pie',title='PLANOS',autopct='%.1f')\n",
    "\n",
    "plt.subplot(132)\n",
    "plot = ut2.plot(kind='pie',title='Estado Civil',autopct='%.1f')\n",
    "\n",
    "plt.subplot(133)\n",
    "plot = ut3.plot(kind='pie',title='Satisfação',autopct='%.1f')\n",
    "\n",
    "plt.tight_layout()\n",
    "plt.show()\n",
    "\n"
   ]
  },
  {
   "cell_type": "markdown",
   "metadata": {},
   "source": [
    "## Gráfico de colunas"
   ]
  },
  {
   "cell_type": "markdown",
   "metadata": {},
   "source": [
    "Vamos fazer o gráfico de colunas para as 3 separações: `PLANO`, `Estado Civil` e `Satisfação`. Novamente usando subplots"
   ]
  },
  {
   "cell_type": "code",
   "execution_count": null,
   "metadata": {},
   "outputs": [],
   "source": [
    "# Gráfico de Colunas sem cores diferentes entre as colunas\n",
    "fig = plt.figure(figsize=(15, 6))\n",
    "plt.subplot(131)\n",
    "plot = ut1.plot(kind='bar',title='PLANOS')\n",
    "\n",
    "plt.subplot(132)\n",
    "plot = ut2.plot(kind='bar',title='Estado Civil')\n",
    "\n",
    "plt.subplot(133)\n",
    "plot = ut3.plot(kind='bar',title='Satisfação')\n",
    "\n",
    "plt.tight_layout()\n",
    "plt.show()\n"
   ]
  },
  {
   "cell_type": "markdown",
   "metadata": {},
   "source": [
    "___\n",
    "# Tabela cruzada entre variáveis qualitativas"
   ]
  },
  {
   "cell_type": "markdown",
   "metadata": {},
   "source": [
    "## *Análises de Estado Civil versus Plano*"
   ]
  },
  {
   "cell_type": "markdown",
   "metadata": {},
   "source": [
    "Faça a análise cruzando ESTADO CIVIL e PLANO"
   ]
  },
  {
   "cell_type": "code",
   "execution_count": null,
   "metadata": {},
   "outputs": [],
   "source": [
    "#Tabela cruzada Estado Civil x Plano\n",
    "print('Tabela Cruzada por total GERAL:')\n",
    "ct=pd.crosstab(dados.EC, dados.PLANO, margins=True, rownames=['ESTADO CIVIL'], colnames=['PLANO'])\n",
    "ct=ct.loc[['Casado','Solteiro','Outros','All']]\n",
    "ct"
   ]
  },
  {
   "cell_type": "markdown",
   "metadata": {},
   "source": [
    "Agora converta a tabela acima para mostrar frequências relativas em percentual"
   ]
  },
  {
   "cell_type": "code",
   "execution_count": null,
   "metadata": {},
   "outputs": [],
   "source": [
    "ct1=pd.crosstab(dados.EC, dados.PLANO, margins=True, rownames=['ESTADO CIVIL'], colnames=['PLANO'], normalize=True)*100\n",
    "ct1"
   ]
  },
  {
   "cell_type": "markdown",
   "metadata": {},
   "source": [
    "No exemplo acima, percebemos que as muitas casas decimais do `float` tornam a leitura um pouco difícil. A dica é usar o `round()` especificando o número de casas decimais, para que fique mais legível/apresentável"
   ]
  },
  {
   "cell_type": "code",
   "execution_count": null,
   "metadata": {},
   "outputs": [],
   "source": [
    "ct1=ct1.round(decimals=0)\n"
   ]
  },
  {
   "cell_type": "markdown",
   "metadata": {},
   "source": [
    "Observe como a tabela abaixo fica com apresentação melhorada"
   ]
  },
  {
   "cell_type": "code",
   "execution_count": null,
   "metadata": {},
   "outputs": [],
   "source": [
    "ct1"
   ]
  },
  {
   "cell_type": "markdown",
   "metadata": {},
   "source": [
    "**Visualize** a tabela cruzada (crosstab) que fez acima como gráfico de barras"
   ]
  },
  {
   "cell_type": "code",
   "execution_count": null,
   "metadata": {},
   "outputs": [],
   "source": [
    "plot = ct1.plot(kind='bar',figsize=(6, 6))\n",
    "plt.ylabel('Freq.Relativa (em %)')\n",
    "plt.show()"
   ]
  },
  {
   "cell_type": "markdown",
   "metadata": {},
   "source": [
    "O gráfico acima contém uma linha `All`, que é a soma de todas as categorias. Para remover isto use o indexador `0:-1` no crosstab"
   ]
  },
  {
   "cell_type": "code",
   "execution_count": null,
   "metadata": {},
   "outputs": [],
   "source": [
    "#Sem a linha de 'ALL'\n",
    "plot = ct1.iloc[0:-1,].plot(kind='bar',figsize=(6, 6))\n",
    "plt.ylabel('Freq.Relativa (em %)')\n",
    "plt.show()"
   ]
  },
  {
   "cell_type": "code",
   "execution_count": null,
   "metadata": {},
   "outputs": [],
   "source": [
    "print('Tabela Cruzada por total de COLUNAS (em %):')\n",
    "ct2=(pd.crosstab(dados.EC, dados.PLANO, margins=True, rownames=['ESTADO CIVIL'], colnames=['PLANO'], normalize='columns')*100).round(decimals=0)\n",
    "ct2\n"
   ]
  },
  {
   "cell_type": "markdown",
   "metadata": {},
   "source": [
    "Transposição:  podemos usar o atributo  `.T` para ter acesso a uma versão cruzada da tabela anterior (ou poderíamos simplesmente fazer um novo crosstab invertido). \n",
    "\n",
    "Desta forma, teríamos ao invés de plano x estado civil, estado civil por plano"
   ]
  },
  {
   "cell_type": "code",
   "execution_count": null,
   "metadata": {},
   "outputs": [],
   "source": [
    "plot = ct2.T.plot(kind='bar', stacked=True,title='Estado Civil em cada Plano',figsize=(8, 6))\n",
    "plot.set_ylim([0, 100])\n",
    "plt.ylabel('Freq.Relativa (em %)')\n",
    "\n",
    "legend_box() # Função definida no começo - tira a legenda de cima do gráfico"
   ]
  },
  {
   "cell_type": "markdown",
   "metadata": {},
   "source": [
    "Tabela Cruzada por total de LINHAS (em `%`):"
   ]
  },
  {
   "cell_type": "code",
   "execution_count": null,
   "metadata": {},
   "outputs": [],
   "source": [
    "ct3=(pd.crosstab(dados.EC, dados.PLANO, margins=True, rownames=['ESTADO CIVIL'], colnames=['PLANO'], normalize='index')*100).round(decimals=0)\n",
    "ct3\n"
   ]
  },
  {
   "cell_type": "code",
   "execution_count": null,
   "metadata": {},
   "outputs": [],
   "source": [
    "plot = ct3.plot(kind='bar', stacked=True,title='Plano em cada Estado Civil',figsize=(8,6))\n",
    "plt.ylabel('Freq.Relativa (em %)')\n",
    "\n",
    "legend_box()"
   ]
  },
  {
   "cell_type": "markdown",
   "metadata": {},
   "source": [
    "# <font color='red'>É coerente fazer os gráficos apresentados a seguir?</font>"
   ]
  },
  {
   "cell_type": "markdown",
   "metadata": {},
   "source": [
    "## A questão é: Consegue interpretar corretamente em qual Estado Civil há maior ou menor concentração de cada Plano?? "
   ]
  },
  {
   "cell_type": "markdown",
   "metadata": {},
   "source": [
    "`ct` é uma tabela crosstab que considera Estado Civil versus Plano - com frequências absolutas"
   ]
  },
  {
   "cell_type": "code",
   "execution_count": null,
   "metadata": {},
   "outputs": [],
   "source": [
    "ct=pd.crosstab(dados.EC,dados.PLANO,margins=True,rownames=['ESTADO CIVIL'], colnames=['PLANO'])\n",
    "ct=ct.loc[['Casado','Solteiro','Outros','All']]\n",
    "\n",
    "ct4 = ct.iloc[:,0:2]\n",
    "plot = ct4.plot(kind='bar',stacked=True,figsize=(6,6))\n",
    "plt.ylabel('Freq. Absoluta')\n",
    "plt.show()"
   ]
  },
  {
   "cell_type": "markdown",
   "metadata": {},
   "source": [
    "### A questão é: Consegue interpretar corretamente em qual Plano há maior ou menor concentração de cada Estado Civil?? "
   ]
  },
  {
   "cell_type": "markdown",
   "metadata": {},
   "source": [
    "`ct1` é uma tabela crosstab que considera Estado Civil versus Plano - com frequências relativas"
   ]
  },
  {
   "cell_type": "code",
   "execution_count": null,
   "metadata": {},
   "outputs": [],
   "source": [
    "\n",
    "ct1= (pd.crosstab(dados.EC, dados.PLANO, margins=True, rownames=['ESTADO CIVIL'], colnames=['PLANO'], normalize=True)*100).round(decimals=1)\n",
    "\n",
    "ct5 = ct1.iloc[:,0:2]\n",
    "plot = ct5.plot(kind='bar',stacked=True,figsize=(8,6))\n",
    "plt.ylabel('Freq.Relativa (em %)')\n",
    "plt.show()"
   ]
  },
  {
   "cell_type": "markdown",
   "metadata": {},
   "source": [
    "## *Análise de Satisfação versus Plano*"
   ]
  },
  {
   "cell_type": "markdown",
   "metadata": {},
   "source": [
    "Agora estude o grau de satisfação dos clientes segundo o plano adquiridos por eles!!\n",
    "Faça interpretações dos resultados!!"
   ]
  },
  {
   "cell_type": "markdown",
   "metadata": {},
   "source": [
    "Analise Satisfação x Plano\n"
   ]
  },
  {
   "cell_type": "code",
   "execution_count": null,
   "metadata": {},
   "outputs": [],
   "source": [
    "ct1 = (pd.crosstab(dados.SATISFACAO,dados.PLANO,margins=True,rownames=['SATISFAÇÃO'], colnames=['PLANO'], normalize = True)*100).round(decimals=1)\n",
    "print(ct1)\n",
    "\n",
    "plot = ct1.iloc[0:5,:].plot(kind='bar')\n",
    "plt.ylabel('Freq.Relativa (em %)')\n",
    "\n",
    "legend_box()"
   ]
  },
  {
   "cell_type": "code",
   "execution_count": null,
   "metadata": {},
   "outputs": [],
   "source": [
    "ct2 = (pd.crosstab(dados.SATISFACAO,dados.PLANO,margins=True,rownames=['SATISFAÇÃO'], colnames=['PLANO'], normalize='columns')*100).round(decimals=1)\n",
    "print(ct2)\n",
    "\n",
    "plot = ct2.T.plot(kind='bar', stacked=True,title='Satisfação em cada Plano')\n",
    "plot.set_ylim([0, 100])\n",
    "plt.ylabel('Freq.Relativa (em %)')\n",
    "#Para legenda ficar fora do gráfico\n",
    "legend_box()"
   ]
  },
  {
   "cell_type": "code",
   "execution_count": null,
   "metadata": {},
   "outputs": [],
   "source": [
    "ct3 = (pd.crosstab(dados.SATISFACAO,dados.PLANO,margins=True,rownames=['ESTADO CIVIL'], colnames=['PLANO'], normalize='index')*100)\n",
    "print(ct3)\n",
    "\n",
    "plot = ct3.plot(kind='bar', stacked=True,title='Plano em cada Satisfação')\n",
    "plt.ylabel('Freq.Relativa (em %)')\n",
    "\n",
    "legend_box()"
   ]
  },
  {
   "cell_type": "markdown",
   "metadata": {},
   "source": [
    "___\n",
    "# Exercício:"
   ]
  },
  {
   "cell_type": "markdown",
   "metadata": {},
   "source": [
    "\n",
    "## Análise das três variáveis qualitativas simultaneamente"
   ]
  },
  {
   "cell_type": "markdown",
   "metadata": {},
   "source": [
    "Analise o Grau de Satisfação versus Estado Civil separademente para cada plano!\n",
    "\n",
    "Aqui será necessário usar um filtro em cada uma dessas variáveis selecionando, inicialmente, apenas os clientes com plano A.\n",
    "\n",
    "Para isso, lembre-se que você pode usar o seguinte código:\n",
    "\n",
    "* `dados.SATISFACAO[dados.PLANO=='A']`\n",
    "* `dados.EC[dados.PLANO=='A']`\n",
    "\n",
    "Faça interpretações dos gráficos/tabelas que serão feitos a seguir por você!!"
   ]
  },
  {
   "cell_type": "markdown",
   "metadata": {},
   "source": [
    "## *Tabela cruzada de Satisfação versus Estado Civil - PLANO A*"
   ]
  },
  {
   "cell_type": "code",
   "execution_count": null,
   "metadata": {},
   "outputs": [],
   "source": []
  },
  {
   "cell_type": "code",
   "execution_count": null,
   "metadata": {},
   "outputs": [],
   "source": []
  },
  {
   "cell_type": "markdown",
   "metadata": {},
   "source": [
    "## *Tabela cruzada de Satisfação versus Estado Civil - PLANO B*"
   ]
  },
  {
   "cell_type": "code",
   "execution_count": null,
   "metadata": {},
   "outputs": [],
   "source": []
  },
  {
   "cell_type": "code",
   "execution_count": null,
   "metadata": {},
   "outputs": [],
   "source": []
  },
  {
   "cell_type": "code",
   "execution_count": null,
   "metadata": {},
   "outputs": [],
   "source": []
  },
  {
   "cell_type": "code",
   "execution_count": null,
   "metadata": {},
   "outputs": [],
   "source": []
  }
 ],
 "metadata": {
  "anaconda-cloud": {},
  "kernelspec": {
   "display_name": "Python 3",
   "language": "python",
   "name": "python3"
  },
  "language_info": {
   "codemirror_mode": {
    "name": "ipython",
    "version": 3
   },
   "file_extension": ".py",
   "mimetype": "text/x-python",
   "name": "python",
   "nbconvert_exporter": "python",
   "pygments_lexer": "ipython3",
   "version": "3.5.5"
  }
 },
 "nbformat": 4,
 "nbformat_minor": 2
}
