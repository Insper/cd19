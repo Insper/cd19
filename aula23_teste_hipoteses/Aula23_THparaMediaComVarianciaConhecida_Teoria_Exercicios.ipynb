{
 "cells": [
  {
   "cell_type": "markdown",
   "metadata": {},
   "source": [
    "# Aula 23 - Teste de hipóteses para média populacional "
   ]
  },
  {
   "cell_type": "markdown",
   "metadata": {},
   "source": [
    "**Variância populacional conhecida**"
   ]
  },
  {
   "cell_type": "markdown",
   "metadata": {},
   "source": [
    "___\n",
    "**Preparo Prévio:**\n",
    "1. Magalhães e Lima (7ª. Edição): Seções 8.1 e 8.2.\n",
    "2. Montgomery. Estatística Aplicada e Probabilidade para Engenheiros: Seções 9.1 e 9.2\n",
    "\n",
    "\n",
    "\n",
    "**Título completo dos livros:**\n",
    "* MAGALHÃES, M. N.; DE LIMA, A. C. P. Noções de Probabilidade e Estatística (7a edição). Edusp, 2013.\n",
    "* MONTGOMERY, D. Estatística Aplicada e Probabilidade para Engenheiros (6a edição). LTC, 2016.\n",
    "\n"
   ]
  },
  {
   "cell_type": "markdown",
   "metadata": {},
   "source": [
    "___\n",
    "## Introdução\n",
    "\n",
    "Em muitas situações, usualmente, existem duas afirmações competitivas acerca do valor de um parâmetro (valor verdadeiro no contexto populacional) e o engenheiro precisa tomar uma decisão sob uma dessas afirmativas.\n",
    "\n",
    "Essas afirmações são chamadas de **hipóteses** e o procedimento de tomada de decisão sobre a hipótese é chamado de **Teste de Hipóteses**.\n",
    "\n",
    "*Exemplo de hipóteses:*\n",
    "\n",
    " * Comprar lote de resistores\n",
    " * Não comprar lote de resistores\n",
    " "
   ]
  },
  {
   "cell_type": "markdown",
   "metadata": {},
   "source": [
    "### Afirmações em termos do problema e em termos do parâmetro $\\mu$\n",
    "\n",
    "É importante ressaltar que **as hipóteses são sempre afirmações sobre a população** $X$ e não afirmações sobre a amostra.\n",
    "\n",
    "\n",
    "Cada hipótese em termos do problema deve estar um valor para um parâmetro especificado para a população (por exemplo $\\mu$).\n",
    "\n",
    "\n",
    "Assim, deve-se estabelecer um valor para a média populacional $\\mu$ considerando cada afirmação em termos do problema."
   ]
  },
  {
   "cell_type": "markdown",
   "metadata": {},
   "source": [
    "### Nomeando as hipóteses em $H_0$ (hipótese nula) e $H_A$ (hipótese alternativa)\n",
    "O procedimento básico de um teste de hipóteses consiste em **supor verdadeira uma das hipóteses em questão, nomeada de hipótese nula $H_0$**.\n",
    "\n",
    "E verificar se a amostra observada leva à rejeição ou não desta hipótese, ou seja, verificar se os dados coletados trazem evidências a favor ou não de uma hipótese formulada.\n",
    "\n",
    "\n",
    "**Dica:** A hipótese nula sempre será aquela cuja afirmação trazer a igualdade de um valor atribuído ao parâmetro $\\mu$."
   ]
  },
  {
   "cell_type": "markdown",
   "metadata": {},
   "source": [
    "### Exemplos: \n",
    "\n",
    "Rotule cada caso em $H_0$ e $H_A$:\n",
    "\n",
    "$\\qquad\n",
    "\\begin{array}{lcl}\n",
    "  \\mbox{Garrafas de refrigerantes possuem, em média, com 2 litros} & \\Rightarrow & \\mu=2 \\\\\n",
    "  \\mbox{Garrafas de refrigerantes não possuem, em média, com 2 litros} & \\Rightarrow & \\mu\\neq2 \\\\\n",
    "\\end{array}$\n",
    "\n",
    "$\\;$\n",
    "\n",
    "$\\qquad\n",
    "\\begin{array}{lcl}\n",
    "  \\mbox{Duração de uma bateria não excede, em média, 40 horas} & \\Rightarrow & \\mu\\leq40 \\\\\n",
    "  \\mbox{Duração de uma bateria excede, em média, 40 horas} & \\Rightarrow & \\mu>40 \\\\\n",
    "\\end{array}$"
   ]
  },
  {
   "cell_type": "markdown",
   "metadata": {},
   "source": [
    "### Exemplos:\n",
    "\n",
    "**Obrigatoriamente**,\n",
    "\n",
    "a afirmação que carrega a **igualdade** de um valor atribuído ao parâmetro $\\mu$\n",
    "será nomeada de hipótese nula.\n",
    "\n",
    "$\\;$\n",
    "\n",
    "$\\qquad\n",
    "\\begin{array}{lcl}\n",
    "  H_0:\\mbox{Garrafas de refrigerantes possuem, em média, com 2 litros} & \\Rightarrow & H_0: \\mu=2 \\\\\n",
    "  H_A:\\mbox{Garrafas de refrigerantes não possuem, em média, com 2 litros} & \\Rightarrow & H_A: \\mu\\neq2 \\\\\n",
    "\\end{array}$\n",
    "\n",
    "$\\;$\n",
    "\n",
    "$\\qquad\n",
    "\\begin{array}{lcl}\n",
    "  H_0:\\mbox{Duração de uma bateria não excede, em média, 40 horas} & \\Rightarrow & H_0: \\mu\\leq40 \\\\\n",
    "  H_A:\\mbox{Duração de uma bateria excede, em média, 40 horas} & \\Rightarrow & H_A: \\mu>40 \\\\\n",
    "\\end{array}$"
   ]
  },
  {
   "cell_type": "markdown",
   "metadata": {},
   "source": [
    "### Uso da Distribuição de $\\overline{X}\\sim N\\left(\\mu; \\frac{\\sigma^2}{n}\\right)$\n",
    "\n",
    "Para verificar se $\\overline{x}$: *média observada na amostra* leva à rejeição ou não de $H_0$, deve-se recorrer a distribuição de $\\overline{X}$.\n",
    "\n",
    "$\\;$\n",
    "\n",
    "**Lembrando:** \n",
    "\n",
    "Assuma que $X$: *variável de interesse* e $E(X)=\\mu$: *média populacional* e $Var(X)=\\sigma^2$: *variância populacional*.\n",
    "  * Se $X$ segue a distribuição $Normal$, então $\\overline{X}\\sim Normal$ de forma exata;\n",
    "  * Se $X$ **não** segue a distribuição $Normal$, então $\\overline{X}\\sim Normal$ via TLC, se $n$ for suficientemente grande.\n",
    "  * Ainda, pode-se para um $n$ relativamente pequeno realizar o `probplot` e verificar se é razoável supor que $X$ segue uma distribuição normal\n",
    "  "
   ]
  },
  {
   "cell_type": "markdown",
   "metadata": {},
   "source": [
    "### $\\alpha$: Probabilidade de erro do tipo I associado à decisão:\n",
    "\n",
    "A teoria do teste de hipóteses fornece métodos para a tomada de decisão a respeito de hipóteses formuladas, porém o erro de decisão não pode ser evitado. \n",
    "\n",
    "Nesse caso, deve-se estabelecer um valor para $\\alpha$: *probabilidade de rejeitar $H_0$ dado essa ser verdadeira*, ou seja,\n",
    "\n",
    "$$\\alpha=\\mbox{P(rejeitar }H_0 \\mbox{ | } H_0 \\mbox{ ser verdadeira)}$$.\n",
    "\n",
    "Isso permite buscar uma regra de decisão (construção de uma região crítica) que aponte quais resultados amostrais te levam a rejeição de $H_0$, ou seja, te levam a concluir pelo descrito na hipótese alternativa $H_A$.\n",
    "\n",
    "Usualmente, esses valores são fixados em 1%, 5% ou 10% e é chamado de **nível de significância**."
   ]
  },
  {
   "cell_type": "markdown",
   "metadata": {},
   "source": [
    "___\n",
    "## Passos para o teste de hipótese:\n",
    "\n",
    "###  Passo 1\n",
    "\n",
    "Fixar a hipótese nula, $H_0$ a ser testada e a hipótese alternativa ($H_A$)\n",
    "\n",
    "Em geral a hipótese alternativa denota algo notável ou efeito anômalo que se queira testar (por exemplo resistores fora de conformidade)\n",
    "\n",
    "### Passo 2\n",
    "\n",
    "Defina qual estatística será usada para julgar a hipótese $H_0$.\n",
    "\n",
    "Lembre-se:\n",
    "\n",
    "* Estatística é calculada na **amostra**\n",
    "* A hipótese diz respeito à **população** de onde veio a amostra\n",
    "\n",
    "**Importante:** usar $\\overline{x}$ (valor estimado na amostra) e  a distribuição de $\\overline{X}$ (distribuição de médias amostrais) para inferir (tomar decisão) algo sobre $\\mu$ (média populacional).\n",
    "\n",
    "\n",
    "### Passo 3\n",
    "\n",
    "Decida qual $\\alpha$ utilizar e defina a Região Crítica (RC) segundo $H_0$.\n",
    "\n",
    "Sobre $\\alpha$:\n",
    "\n",
    "* $\\alpha$ é a probabilidade de rejeitar $H_0$ mesmo que ela seja verdadeira.\n",
    "* $\\alpha$ é chamado de nível de significância.\n",
    "* Tipicamente $\\alpha$ é fixado em $1\\%$, $5\\%$ ou $10\\%$ \n",
    "* $1 - \\alpha$  é chamado de nível de confiança (ou coeficiente de confiança).\n",
    "\n"
   ]
  },
  {
   "cell_type": "markdown",
   "metadata": {},
   "source": [
    "#### Exemplos de região crítica:\n",
    "\n",
    "a. Direita:\n",
    "\n",
    "$H_0: \\mu = \\mu_0$\n",
    "\n",
    "$H_1: \\mu > \\mu_0$\n",
    "\n",
    "$x_{crítico}$ à direita:\n",
    "<img src=xcritico_direita1.png width=40%>"
   ]
  },
  {
   "cell_type": "markdown",
   "metadata": {},
   "source": [
    "b. Esquerda \n",
    "\n",
    "Para:\n",
    "\n",
    "$H_0: \\mu = \\mu_0$\n",
    "\n",
    "$H_1: \\mu < \\mu_0$\n",
    "\n",
    "$x_{crítico}$ à esquerda:\n",
    "<img src=xcritico_esquerda.png width=40%>\n"
   ]
  },
  {
   "cell_type": "markdown",
   "metadata": {},
   "source": [
    "c. Bicaudal \n",
    "\n",
    "Para: \n",
    "\n",
    "$H_0: \\mu = \\mu_0$\n",
    "\n",
    "$H_1: \\mu \\neq \\mu_0$\n",
    "\n",
    "\n",
    "$x_{crítico}$ em ambas as caudas:\n",
    "<img src=bicaudal_xc1_xc2.png width=40%>"
   ]
  },
  {
   "cell_type": "markdown",
   "metadata": {},
   "source": [
    "\n",
    "### Passo 4\n",
    "\n",
    "Calcule a estatística da amostra. Por exemplo $\\overline{x}$.\n",
    "\n",
    "### Passo 5\n",
    "\n",
    "Se o valor da estatística estiver na região crítica, rejeite $H_0$; caso contrário, **não rejeite** (nunca aceite) $H_0$."
   ]
  },
  {
   "cell_type": "markdown",
   "metadata": {},
   "source": [
    "___\n",
    "## Valor-$p$\n",
    "\n",
    "O valor-$p$ é a probabilidade de obter um resultado **igual ao da amostra ou mais extremo**, sob $H_0$ verdadeira.\n",
    "\n",
    "Note que se o teste for bicaudal a definição de *mais extremo* vai nos fazer considerar valores simétricos nas duas pontas"
   ]
  },
  {
   "cell_type": "markdown",
   "metadata": {},
   "source": [
    "<img src=valor_p_direita.png width=60%>"
   ]
  },
  {
   "cell_type": "code",
   "execution_count": null,
   "metadata": {},
   "outputs": [],
   "source": [
    "!ls"
   ]
  },
  {
   "cell_type": "markdown",
   "metadata": {},
   "source": [
    "___\n",
    "## Erros tipo 1 e tipo 2"
   ]
  },
  {
   "cell_type": "markdown",
   "metadata": {},
   "source": [
    "\n",
    "|       &nbsp;                        | $H_0$ é Verdadeiro       | $H_0$ é Falso                   |\n",
    "|:---|:-----|:-----|\n",
    "| Rejeito $H_0$     | * Erro tipo 1           | * Decisão Correta               |\n",
    "|       &nbsp;            | * Falso Positivo        |     &nbsp;                                    |\n",
    "|         &nbsp;          | * Probabilidade $\\alpha$ |     &nbsp;                                    |\n",
    "| Não Rejeito $H_0$ | * Decisão Correta        | * Erro tipo 2                  |\n",
    "|       &nbsp;                   |   &nbsp;                              | * Falso Negativo               |\n",
    "|       &nbsp;                 |            &nbsp;                     | * Probabilidade $\\beta$     |\n",
    "|        &nbsp;            "
   ]
  },
  {
   "cell_type": "markdown",
   "metadata": {},
   "source": [
    "<img src=\"figura_gravida.png\" width=50%>"
   ]
  },
  {
   "cell_type": "markdown",
   "metadata": {},
   "source": [
    "Fonte: The essential guide to effect sizes. Statistical Power, Meta-analysis and Interpretation of Results. Paul D. Ellis. pg. 50\n"
   ]
  },
  {
   "cell_type": "markdown",
   "metadata": {},
   "source": [
    "## Tipos de região de rejeição"
   ]
  },
  {
   "cell_type": "code",
   "execution_count": null,
   "metadata": {},
   "outputs": [],
   "source": []
  },
  {
   "cell_type": "code",
   "execution_count": null,
   "metadata": {},
   "outputs": [],
   "source": []
  },
  {
   "cell_type": "markdown",
   "metadata": {},
   "source": [
    "___\n"
   ]
  },
  {
   "cell_type": "code",
   "execution_count": null,
   "metadata": {},
   "outputs": [],
   "source": [
    "from scipy.stats import norm\n",
    "import numpy as np\n",
    "from math import sqrt"
   ]
  },
  {
   "cell_type": "markdown",
   "metadata": {},
   "source": [
    "___\n",
    "## Exemplo dos resistores"
   ]
  },
  {
   "cell_type": "markdown",
   "metadata": {},
   "source": [
    "Vamos resolver o mesmo problema da APS dos resistores, mas com a formalização de um teste de hipóteses. Vamos adotar um nível de significância de $\\alpha=5\\%$"
   ]
  },
  {
   "cell_type": "code",
   "execution_count": null,
   "metadata": {},
   "outputs": [],
   "source": [
    "𝛼=0.05\n",
    "\n",
    "μ0 = 1000 #em kOhm sob a hipótese nula\n",
    "σ = 50\n",
    "n = 13\n"
   ]
  },
  {
   "cell_type": "markdown",
   "metadata": {},
   "source": [
    "Como fica a formulação das hipóteses?\n"
   ]
  },
  {
   "cell_type": "code",
   "execution_count": null,
   "metadata": {},
   "outputs": [],
   "source": [
    "#Caso de teste BICAUDAL\n",
    "x_critico1=norm.ppf(𝛼/2, loc=μ0, scale=σ/sqrt(n))\n",
    "x_critico2=norm.ppf(1-𝛼/2, loc=μ0, scale=σ/sqrt(n))\n",
    "\n",
    "print(\"Rejeitamos a hipótese nula H0 se média amostral observada (xbarra_obs) \\n pertencer a Região Crítica (RC)!!\\n\")\n",
    "\n",
    "print(\"RC={xbarra_obs<\", x_critico1, \" ou xbarra_obs>\", x_critico2,\"}\")"
   ]
  },
  {
   "cell_type": "markdown",
   "metadata": {},
   "source": []
  },
  {
   "cell_type": "markdown",
   "metadata": {},
   "source": [
    "## Exercícios"
   ]
  },
  {
   "cell_type": "markdown",
   "metadata": {},
   "source": [
    "Consulte os slides para os enunciados dos exercícios de 1 a 5"
   ]
  },
  {
   "cell_type": "markdown",
   "metadata": {},
   "source": [
    "___\n",
    "## Exercício 1"
   ]
  },
  {
   "cell_type": "code",
   "execution_count": null,
   "metadata": {},
   "outputs": [],
   "source": [
    "𝛼=0.01\n",
    "\n",
    "#Teste UNICAUDAL a esquerda\n",
    "μ0 = 4 #em segundos sob a hipótese nula\n",
    "σ = 1\n",
    "\n",
    "#amostra\n",
    "n = 49\n",
    "xbarra_obs = 3.6 #em segundos"
   ]
  },
  {
   "cell_type": "code",
   "execution_count": null,
   "metadata": {},
   "outputs": [],
   "source": []
  },
  {
   "cell_type": "markdown",
   "metadata": {},
   "source": [
    "___\n",
    "## Exercício 2"
   ]
  },
  {
   "cell_type": "code",
   "execution_count": null,
   "metadata": {},
   "outputs": [],
   "source": []
  },
  {
   "cell_type": "code",
   "execution_count": null,
   "metadata": {},
   "outputs": [],
   "source": []
  },
  {
   "cell_type": "code",
   "execution_count": null,
   "metadata": {},
   "outputs": [],
   "source": []
  },
  {
   "cell_type": "markdown",
   "metadata": {},
   "source": [
    "___\n",
    "## Exercício 3"
   ]
  },
  {
   "cell_type": "code",
   "execution_count": null,
   "metadata": {},
   "outputs": [],
   "source": []
  },
  {
   "cell_type": "code",
   "execution_count": null,
   "metadata": {},
   "outputs": [],
   "source": []
  },
  {
   "cell_type": "code",
   "execution_count": null,
   "metadata": {},
   "outputs": [],
   "source": []
  },
  {
   "cell_type": "markdown",
   "metadata": {},
   "source": [
    "___\n",
    "## Exercício 4"
   ]
  },
  {
   "cell_type": "code",
   "execution_count": null,
   "metadata": {},
   "outputs": [],
   "source": []
  },
  {
   "cell_type": "code",
   "execution_count": null,
   "metadata": {},
   "outputs": [],
   "source": []
  },
  {
   "cell_type": "code",
   "execution_count": null,
   "metadata": {},
   "outputs": [],
   "source": []
  },
  {
   "cell_type": "markdown",
   "metadata": {},
   "source": [
    "___\n",
    "## Exercício 5"
   ]
  },
  {
   "cell_type": "code",
   "execution_count": null,
   "metadata": {},
   "outputs": [],
   "source": []
  },
  {
   "cell_type": "code",
   "execution_count": null,
   "metadata": {},
   "outputs": [],
   "source": []
  },
  {
   "cell_type": "code",
   "execution_count": null,
   "metadata": {},
   "outputs": [],
   "source": []
  }
 ],
 "metadata": {
  "kernelspec": {
   "display_name": "Python 3",
   "language": "python",
   "name": "python3"
  },
  "language_info": {
   "codemirror_mode": {
    "name": "ipython",
    "version": 3
   },
   "file_extension": ".py",
   "mimetype": "text/x-python",
   "name": "python",
   "nbconvert_exporter": "python",
   "pygments_lexer": "ipython3",
   "version": "3.5.5"
  }
 },
 "nbformat": 4,
 "nbformat_minor": 2
}
