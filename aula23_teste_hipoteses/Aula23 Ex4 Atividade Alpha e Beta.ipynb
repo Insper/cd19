{
 "cells": [
  {
   "cell_type": "markdown",
   "metadata": {},
   "source": [
    " ___\n",
    "___\n",
    "# Aula 23: Teste de hipóteses para média populacional μ assumindo variância populacional conhecida\n",
    "\n",
    "## Atividade: Poder e Alpha\n",
    "___\n",
    "\n",
    "**Problema considerando Exercício 4 da Aula 20:**\n",
    "\n",
    "Considere que a variável quantitativa X renda de pedreiros autônomos na cidade de São Paulo, em salários mínimos.\n",
    "\n",
    "Desconfia que a renda média seja superior a 3 salários mínimos. Admita que o desvio padrão dessa variável na cidade é de 0,7 salários mínimos.\n",
    "\n",
    "Assim, assuma que média populacional μ$_0$= 3 e desvio padrão populacional σ = 0.7.\n",
    "___"
   ]
  },
  {
   "cell_type": "markdown",
   "metadata": {},
   "source": [
    "Ainda, em estatística é comum usar o termo **Poder Estatístico** ou **Statistical Power**, que é:\n",
    "\n",
    "$poder = 1 - \\beta$"
   ]
  },
  {
   "cell_type": "code",
   "execution_count": 1,
   "metadata": {},
   "outputs": [],
   "source": [
    "#%matplotlib inline\n",
    "#%reset -f\n",
    "\n",
    "from __future__ import print_function\n",
    "from ipywidgets import interact, interactive, fixed, interact_manual\n",
    "import ipywidgets as widgets\n",
    "\n",
    "import matplotlib.pyplot as plt\n",
    "import pandas as pd\n",
    "import numpy as np\n",
    "from scipy import stats"
   ]
  },
  {
   "cell_type": "markdown",
   "metadata": {},
   "source": [
    "## Exercício 4 da Aula 20\n",
    "\n",
    "Assumindo que $\\alpha=0.01$ e $\\mu_1=3.3$ pelos itens (b) e (c) do Exercício 4.\n",
    "\n",
    "O widget interativo abaixo permite estudar o efeito da $\\mu_1$ que vale quando $H_0$ é rejeitado"
   ]
  },
  {
   "cell_type": "markdown",
   "metadata": {},
   "source": [
    "Note que normalmente o recurso adequado para controlar o erro $\\beta$ e o poder estatístico é o número de elementos da amostra $n$. Em geral não se escolhe o valor de $\\mu_1$, ele é dado pela natureza ou pelo problema"
   ]
  },
  {
   "cell_type": "code",
   "execution_count": 2,
   "metadata": {
    "slideshow": {
     "slide_type": "notes"
    }
   },
   "outputs": [
    {
     "data": {
      "application/vnd.jupyter.widget-view+json": {
       "model_id": "dbcb3aaf47364dc688cc0124ac5320ae",
       "version_major": 2,
       "version_minor": 0
      },
      "text/plain": [
       "interactive(children=(FloatSlider(value=3.3, description='μ1', max=3.8, min=3.0), FloatSlider(value=0.01, desc…"
      ]
     },
     "metadata": {},
     "output_type": "display_data"
    }
   ],
   "source": [
    "#Função que utiliza o pywidget\n",
    "@interact(𝛼 = (0.01, 0.1, 0.01), μ1 = (3,3.8,0.1))\n",
    "def f(μ1 = '3.3', 𝛼=0.01):\n",
    "    \n",
    "    n = 100\n",
    "    σ = 0.7\n",
    "    \n",
    "    μ0 = 3\n",
    "\n",
    "    fig = plt.figure(figsize=(15,5))\n",
    "    ax1 = fig.add_subplot(111)\n",
    "    \n",
    "    #Fit NORMAL sob H0\n",
    "    x = np.linspace(2.5, 4, 1000)\n",
    "    xcritico = stats.norm.ppf(1-𝛼, loc = μ0, scale=σ/n**0.5)\n",
    "    \n",
    "    ax1.plot(x, stats.norm.pdf(x, loc = μ0, scale = σ/n**0.5), color = 'b')\n",
    "    ax1.fill_between(x,stats.norm.pdf(x, loc = μ0, scale = σ/n**0.5), where = x >= xcritico, color='b')\n",
    "    ax1.plot(x, stats.norm.pdf(x, loc = μ1, scale = σ/n**0.5), color = 'r')\n",
    "    ax1.fill_between(x,stats.norm.pdf(x, loc = μ1, scale = σ/n**0.5), where = x <=xcritico, color='r')\n",
    "    \n",
    "    ax1.axvline(x=xcritico, color='g', lw=4)    \n",
    "    𝛽 = stats.norm.cdf(xcritico, loc = μ1, scale = σ/pow(n,0.5))\n",
    "    poder = 1 - 𝛽\n",
    "    ax1.set_xlabel(\"Médias amostrais\")\n",
    "    ax1.legend((\"Sob H0\", \"Sob H1\", \"xcritico\"))\n",
    "    plt.text(3.6, 3, \"Erro beta: {:3f}\".format(𝛽))\n",
    "    plt.text(3.6, 1, \"poder=1-beta : {:3f}\".format(poder))\n",
    "\n",
    "    \n",
    "    return \"xcritico: {0:0.4f}, β: {1:0.4f}, Poder: {2:0.3f}\".format(xcritico,𝛽, poder)"
   ]
  },
  {
   "cell_type": "code",
   "execution_count": null,
   "metadata": {},
   "outputs": [],
   "source": []
  }
 ],
 "metadata": {
  "kernelspec": {
   "display_name": "Python 3",
   "language": "python",
   "name": "python3"
  },
  "language_info": {
   "codemirror_mode": {
    "name": "ipython",
    "version": 3
   },
   "file_extension": ".py",
   "mimetype": "text/x-python",
   "name": "python",
   "nbconvert_exporter": "python",
   "pygments_lexer": "ipython3",
   "version": "3.5.5"
  }
 },
 "nbformat": 4,
 "nbformat_minor": 1
}
